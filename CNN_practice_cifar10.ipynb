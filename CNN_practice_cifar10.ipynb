{
  "nbformat": 4,
  "nbformat_minor": 0,
  "metadata": {
    "colab": {
      "name": "CNN_practice_cifar10.ipynb",
      "provenance": [],
      "machine_shape": "hm",
      "authorship_tag": "ABX9TyMpaRJuQJ9F59DH+ce6hX1l",
      "include_colab_link": true
    },
    "kernelspec": {
      "name": "python3",
      "display_name": "Python 3"
    },
    "language_info": {
      "name": "python"
    },
    "accelerator": "GPU"
  },
  "cells": [
    {
      "cell_type": "markdown",
      "metadata": {
        "id": "view-in-github",
        "colab_type": "text"
      },
      "source": [
        "<a href=\"https://colab.research.google.com/github/GGpark1/Deep_Learning_Study/blob/master/CNN_practice_cifar10.ipynb\" target=\"_parent\"><img src=\"https://colab.research.google.com/assets/colab-badge.svg\" alt=\"Open In Colab\"/></a>"
      ]
    },
    {
      "cell_type": "code",
      "execution_count": 16,
      "metadata": {
        "id": "8cjGZbH7pU-M"
      },
      "outputs": [],
      "source": [
        "#모듈 import\n",
        "\n",
        "from tensorflow.keras.applications.vgg16 import VGG16\n",
        "from tensorflow.keras.datasets import cifar10\n",
        "from tensorflow.keras import Sequential\n",
        "from tensorflow.keras.layers import Dense, Conv2D, MaxPooling2D, Flatten, GlobalAveragePooling2D\n",
        "from tensorflow.keras.layers import Dense, Flatten\n",
        "from tensorflow.keras.models import Sequential\n",
        "from tensorflow.keras.datasets import cifar10\n",
        "\n",
        "from sklearn.model_selection import train_test_split\n",
        "\n",
        "import numpy as np\n",
        "import tensorflow as tf"
      ]
    },
    {
      "cell_type": "code",
      "source": [
        "#시드 고정\n",
        "\n",
        "np.random.seed(42)\n",
        "tf.random.set_seed(42)"
      ],
      "metadata": {
        "id": "yLow2rYFpqXC"
      },
      "execution_count": 2,
      "outputs": []
    },
    {
      "cell_type": "code",
      "source": [
        "#데이터셋 저장\n",
        "\n",
        "(X_train, y_train), (X_test, y_test) = cifar10.load_data()"
      ],
      "metadata": {
        "colab": {
          "base_uri": "https://localhost:8080/"
        },
        "id": "y4P9tNiLptQI",
        "outputId": "c8edf6ae-8dcd-42c9-ec9c-a9a1ec208090"
      },
      "execution_count": 3,
      "outputs": [
        {
          "output_type": "stream",
          "name": "stdout",
          "text": [
            "Downloading data from https://www.cs.toronto.edu/~kriz/cifar-10-python.tar.gz\n",
            "170500096/170498071 [==============================] - 3s 0us/step\n",
            "170508288/170498071 [==============================] - 3s 0us/step\n"
          ]
        }
      ]
    },
    {
      "cell_type": "code",
      "source": [
        "X_train.shape"
      ],
      "metadata": {
        "id": "IZMdCiNkwzS9",
        "outputId": "9594ccba-d3c6-4956-f6b9-a2824a13afc7",
        "colab": {
          "base_uri": "https://localhost:8080/"
        }
      },
      "execution_count": 31,
      "outputs": [
        {
          "output_type": "execute_result",
          "data": {
            "text/plain": [
              "(40000, 32, 32, 3)"
            ]
          },
          "metadata": {},
          "execution_count": 31
        }
      ]
    },
    {
      "cell_type": "code",
      "source": [
        "#이미지 정규화\n",
        "\n",
        "X_train = X_train.astype('float32') / 255.\n",
        "X_test = X_test.astype('float32') / 255."
      ],
      "metadata": {
        "id": "sD9S2PaVp_So"
      },
      "execution_count": 4,
      "outputs": []
    },
    {
      "cell_type": "code",
      "source": [
        "#검증 데이터 생성\n",
        "\n",
        "X_train, X_val, y_train, y_val = train_test_split(X_train, y_train, test_size = 0.2)"
      ],
      "metadata": {
        "id": "pbzhBm7-qIWy"
      },
      "execution_count": 5,
      "outputs": []
    },
    {
      "cell_type": "code",
      "source": [
        "#신경망 모델 구축\n",
        "\n",
        "model = Sequential()\n",
        "model.add(Conv2D(32, (3,3), padding='same', activation='relu')) #필터의 갯수는 32개, 필터의 크기는 3*3, Convolution 진행, 출력함수는 ReLu, 입력값과 출력값의 크기가 같도록 padding\n",
        "model.add(MaxPooling2D(2,2)) #2*2 단위로 Max Pooling 진행\n",
        "model.add(Conv2D(64, (3,3))) #필터의 갯수는 54개, 크기는 3*3\n",
        "model.add(MaxPooling2D(2,2))\n",
        "model.add(Conv2D(64, (3,3), padding='same', activation='relu')) #MaxPooling은 생략. 이미지 전체의 특징을 추출하지 않도록 Pooling을 멈춤\n",
        "model.add(Flatten())\n",
        "model.add(Dense(128, activation='relu'))\n",
        "model.add(Dense(10, activation='softmax'))"
      ],
      "metadata": {
        "id": "6UawtsagqUUK"
      },
      "execution_count": 6,
      "outputs": []
    },
    {
      "cell_type": "code",
      "source": [
        "#모델 compile\n",
        "\n",
        "model.compile(optimizer = 'adam',\n",
        "              loss='sparse_categorical_crossentropy',\n",
        "              metrics=['accuracy'])"
      ],
      "metadata": {
        "id": "2wwLVEDUrzS7"
      },
      "execution_count": 7,
      "outputs": []
    },
    {
      "cell_type": "code",
      "source": [
        "#모델 훈련\n",
        "\n",
        "model.fit(X_train, y_train,\n",
        "          batch_size=128,\n",
        "          validation_data=(X_val, y_val),\n",
        "          epochs=10)"
      ],
      "metadata": {
        "colab": {
          "base_uri": "https://localhost:8080/"
        },
        "id": "XtlRZScPsMY8",
        "outputId": "7e90ff91-129b-439a-8848-df78459c6968"
      },
      "execution_count": 8,
      "outputs": [
        {
          "output_type": "stream",
          "name": "stdout",
          "text": [
            "Epoch 1/10\n",
            "313/313 [==============================] - 12s 6ms/step - loss: 1.5342 - accuracy: 0.4467 - val_loss: 1.2551 - val_accuracy: 0.5605\n",
            "Epoch 2/10\n",
            "313/313 [==============================] - 2s 5ms/step - loss: 1.1406 - accuracy: 0.5964 - val_loss: 1.0402 - val_accuracy: 0.6375\n",
            "Epoch 3/10\n",
            "313/313 [==============================] - 2s 5ms/step - loss: 0.9580 - accuracy: 0.6660 - val_loss: 0.9726 - val_accuracy: 0.6572\n",
            "Epoch 4/10\n",
            "313/313 [==============================] - 2s 5ms/step - loss: 0.8404 - accuracy: 0.7077 - val_loss: 0.9048 - val_accuracy: 0.6826\n",
            "Epoch 5/10\n",
            "313/313 [==============================] - 2s 5ms/step - loss: 0.7457 - accuracy: 0.7404 - val_loss: 0.8837 - val_accuracy: 0.6922\n",
            "Epoch 6/10\n",
            "313/313 [==============================] - 2s 5ms/step - loss: 0.6636 - accuracy: 0.7666 - val_loss: 0.8584 - val_accuracy: 0.7075\n",
            "Epoch 7/10\n",
            "313/313 [==============================] - 2s 5ms/step - loss: 0.5839 - accuracy: 0.7981 - val_loss: 0.8505 - val_accuracy: 0.7101\n",
            "Epoch 8/10\n",
            "313/313 [==============================] - 2s 5ms/step - loss: 0.5209 - accuracy: 0.8177 - val_loss: 0.8935 - val_accuracy: 0.7126\n",
            "Epoch 9/10\n",
            "313/313 [==============================] - 2s 5ms/step - loss: 0.4534 - accuracy: 0.8426 - val_loss: 0.9030 - val_accuracy: 0.7069\n",
            "Epoch 10/10\n",
            "313/313 [==============================] - 2s 5ms/step - loss: 0.3823 - accuracy: 0.8669 - val_loss: 0.9385 - val_accuracy: 0.7170\n"
          ]
        },
        {
          "output_type": "execute_result",
          "data": {
            "text/plain": [
              "<keras.callbacks.History at 0x7f6da841e810>"
            ]
          },
          "metadata": {},
          "execution_count": 8
        }
      ]
    },
    {
      "cell_type": "code",
      "source": [
        "#모델 평가\n",
        "\n",
        "model.evaluate(X_test, y_test, verbose=2)"
      ],
      "metadata": {
        "colab": {
          "base_uri": "https://localhost:8080/"
        },
        "id": "mnGYcs-Asdtf",
        "outputId": "37feb4ce-0d9d-4d84-a852-922b01bac820"
      },
      "execution_count": 9,
      "outputs": [
        {
          "output_type": "stream",
          "name": "stdout",
          "text": [
            "313/313 - 1s - loss: 0.9661 - accuracy: 0.7130 - 611ms/epoch - 2ms/step\n"
          ]
        },
        {
          "output_type": "execute_result",
          "data": {
            "text/plain": [
              "[0.9661082029342651, 0.7129999995231628]"
            ]
          },
          "metadata": {},
          "execution_count": 9
        }
      ]
    },
    {
      "cell_type": "markdown",
      "source": [
        "## 전이학습(VGG)"
      ],
      "metadata": {
        "id": "nLgimSgAu3zW"
      }
    },
    {
      "cell_type": "code",
      "source": [
        "(X_train, y_train), (X_test, y_test) = cifar10.load_data()"
      ],
      "metadata": {
        "id": "-jXUeuRAu5e4"
      },
      "execution_count": 10,
      "outputs": []
    },
    {
      "cell_type": "code",
      "source": [
        "X_train = X_train.astype('float32') / 255.\n",
        "X_test = X_test.astype('float32') / 255."
      ],
      "metadata": {
        "id": "NEVwt8asvEWN"
      },
      "execution_count": 11,
      "outputs": []
    },
    {
      "cell_type": "code",
      "source": [
        "X_train, X_val, y_train, y_val = train_test_split(X_train, y_train, test_size=.2)"
      ],
      "metadata": {
        "id": "ybFc3NauvFDF"
      },
      "execution_count": 12,
      "outputs": []
    },
    {
      "cell_type": "code",
      "source": [
        "#전이학습 모델 load\n",
        "#출력층은 포함하지 않음\n",
        "#합성곱층만 로드\n",
        "\n",
        "pretrained_model = VGG16(weights='imagenet', include_top=False)"
      ],
      "metadata": {
        "id": "RdwL1pnovH_x",
        "outputId": "5fa289cc-6237-4cbd-cbb0-18e594081810",
        "colab": {
          "base_uri": "https://localhost:8080/"
        }
      },
      "execution_count": 14,
      "outputs": [
        {
          "output_type": "stream",
          "name": "stdout",
          "text": [
            "Downloading data from https://storage.googleapis.com/tensorflow/keras-applications/vgg16/vgg16_weights_tf_dim_ordering_tf_kernels_notop.h5\n",
            "58892288/58889256 [==============================] - 0s 0us/step\n",
            "58900480/58889256 [==============================] - 0s 0us/step\n"
          ]
        }
      ]
    },
    {
      "cell_type": "code",
      "source": [
        "model = Sequential()\n",
        "model.add(pretrained_model)\n",
        "model.add(GlobalAveragePooling2D()) #flatten과 비슷한 효과 but 채널의 갯수는 그대로 #(16, 7, 7, 64) into (16, 64)\n",
        "#model.add(Flatten()) #flatten은 채널도 펴버림 #(16, 28, 28, 3) into (16, 2352) #input에서 채널 수가 포함되어 있는 경우 flatten은 작동하지 않음 -> Dense층에서 채널 차원을 요구함\n",
        "model.add(Dense(128,activation='relu')) \n",
        "model.add(Dense(10,activation='softmax'))"
      ],
      "metadata": {
        "id": "s2pmuvK0vUNr"
      },
      "execution_count": 43,
      "outputs": []
    },
    {
      "cell_type": "code",
      "source": [
        "model.summary()"
      ],
      "metadata": {
        "id": "FPpFYfy-wQ_c",
        "outputId": "a4ebfb86-ef32-49ec-8897-ca901d4e77f9",
        "colab": {
          "base_uri": "https://localhost:8080/"
        }
      },
      "execution_count": 44,
      "outputs": [
        {
          "output_type": "stream",
          "name": "stdout",
          "text": [
            "Model: \"sequential_13\"\n",
            "_________________________________________________________________\n",
            " Layer (type)                Output Shape              Param #   \n",
            "=================================================================\n",
            " vgg16 (Functional)          (None, None, None, 512)   14714688  \n",
            "                                                                 \n",
            " global_average_pooling2d_4   (None, 512)              0         \n",
            " (GlobalAveragePooling2D)                                        \n",
            "                                                                 \n",
            " dense_19 (Dense)            (None, 128)               65664     \n",
            "                                                                 \n",
            " dense_20 (Dense)            (None, 10)                1290      \n",
            "                                                                 \n",
            "=================================================================\n",
            "Total params: 14,781,642\n",
            "Trainable params: 14,781,642\n",
            "Non-trainable params: 0\n",
            "_________________________________________________________________\n"
          ]
        }
      ]
    },
    {
      "cell_type": "code",
      "source": [
        "model.compile(optimizer='adam',\n",
        "              loss='sparse_categorical_crossentropy',\n",
        "              metrics=['accuracy'])"
      ],
      "metadata": {
        "id": "_1sI8mj5wLrm"
      },
      "execution_count": 45,
      "outputs": []
    },
    {
      "cell_type": "code",
      "source": [
        "model.fit(X_train, y_train,\n",
        "          batch_size=128,\n",
        "          validation_data=(X_val, y_val),\n",
        "          epochs=10)"
      ],
      "metadata": {
        "id": "7Ay_jNiNwNzq",
        "outputId": "9543e533-e640-464e-9031-fcf0caa50e09",
        "colab": {
          "base_uri": "https://localhost:8080/"
        }
      },
      "execution_count": 46,
      "outputs": [
        {
          "output_type": "stream",
          "name": "stdout",
          "text": [
            "Epoch 1/10\n",
            "313/313 [==============================] - 12s 37ms/step - loss: 0.2390 - accuracy: 0.9290 - val_loss: 0.8314 - val_accuracy: 0.7920\n",
            "Epoch 2/10\n",
            "313/313 [==============================] - 11s 35ms/step - loss: 0.1421 - accuracy: 0.9572 - val_loss: 0.8379 - val_accuracy: 0.7989\n",
            "Epoch 3/10\n",
            "313/313 [==============================] - 11s 35ms/step - loss: 0.1242 - accuracy: 0.9610 - val_loss: 0.8940 - val_accuracy: 0.7946\n",
            "Epoch 4/10\n",
            "313/313 [==============================] - 11s 36ms/step - loss: 0.1299 - accuracy: 0.9607 - val_loss: 0.9374 - val_accuracy: 0.7872\n",
            "Epoch 5/10\n",
            "313/313 [==============================] - 11s 35ms/step - loss: 0.1230 - accuracy: 0.9628 - val_loss: 0.8940 - val_accuracy: 0.8003\n",
            "Epoch 6/10\n",
            "313/313 [==============================] - 11s 35ms/step - loss: 0.1031 - accuracy: 0.9688 - val_loss: 0.9496 - val_accuracy: 0.7941\n",
            "Epoch 7/10\n",
            "313/313 [==============================] - 11s 35ms/step - loss: 0.1039 - accuracy: 0.9671 - val_loss: 0.9974 - val_accuracy: 0.8021\n",
            "Epoch 8/10\n",
            "313/313 [==============================] - 11s 35ms/step - loss: 0.0991 - accuracy: 0.9706 - val_loss: 1.0085 - val_accuracy: 0.7815\n",
            "Epoch 9/10\n",
            "313/313 [==============================] - 11s 35ms/step - loss: 0.1243 - accuracy: 0.9636 - val_loss: 0.8914 - val_accuracy: 0.7933\n",
            "Epoch 10/10\n",
            "313/313 [==============================] - 11s 35ms/step - loss: 0.1078 - accuracy: 0.9680 - val_loss: 0.9623 - val_accuracy: 0.8050\n"
          ]
        },
        {
          "output_type": "execute_result",
          "data": {
            "text/plain": [
              "<keras.callbacks.History at 0x7f6d6e1584d0>"
            ]
          },
          "metadata": {},
          "execution_count": 46
        }
      ]
    }
  ]
}