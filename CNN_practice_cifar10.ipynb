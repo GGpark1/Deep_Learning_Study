{
  "nbformat": 4,
  "nbformat_minor": 0,
  "metadata": {
    "colab": {
      "name": "CNN_practice_cifar10.ipynb",
      "provenance": [],
      "machine_shape": "hm",
      "authorship_tag": "ABX9TyNmV42M84sgI/uWRRJgslqc",
      "include_colab_link": true
    },
    "kernelspec": {
      "name": "python3",
      "display_name": "Python 3"
    },
    "language_info": {
      "name": "python"
    },
    "accelerator": "GPU"
  },
  "cells": [
    {
      "cell_type": "markdown",
      "metadata": {
        "id": "view-in-github",
        "colab_type": "text"
      },
      "source": [
        "<a href=\"https://colab.research.google.com/github/GGpark1/Deep_Learning_Study/blob/master/CNN_practice_cifar10.ipynb\" target=\"_parent\"><img src=\"https://colab.research.google.com/assets/colab-badge.svg\" alt=\"Open In Colab\"/></a>"
      ]
    },
    {
      "cell_type": "code",
      "execution_count": 1,
      "metadata": {
        "id": "8cjGZbH7pU-M"
      },
      "outputs": [],
      "source": [
        "#모듈 import\n",
        "\n",
        "from tensorflow.keras.datasets import cifar10\n",
        "from tensorflow.keras import Sequential\n",
        "from tensorflow.keras.layers import Dense, Conv2D, MaxPooling2D, Flatten\n",
        "from tensorflow.keras.layers import Dense, Flatten\n",
        "from tensorflow.keras.models import Sequential\n",
        "from tensorflow.keras.datasets import cifar10\n",
        "\n",
        "from sklearn.model_selection import train_test_split\n",
        "\n",
        "import numpy as np\n",
        "import tensorflow as tf"
      ]
    },
    {
      "cell_type": "code",
      "source": [
        "#시드 고정\n",
        "\n",
        "np.random.seed(42)\n",
        "tf.random.set_seed(42)"
      ],
      "metadata": {
        "id": "yLow2rYFpqXC"
      },
      "execution_count": 2,
      "outputs": []
    },
    {
      "cell_type": "code",
      "source": [
        "#데이터셋 저장\n",
        "\n",
        "(X_train, y_train), (X_test, y_test) = cifar10.load_data()"
      ],
      "metadata": {
        "colab": {
          "base_uri": "https://localhost:8080/"
        },
        "id": "y4P9tNiLptQI",
        "outputId": "d01a5906-f758-4fbf-89fb-e9cdcdedbce7"
      },
      "execution_count": 3,
      "outputs": [
        {
          "output_type": "stream",
          "name": "stdout",
          "text": [
            "Downloading data from https://www.cs.toronto.edu/~kriz/cifar-10-python.tar.gz\n",
            "170500096/170498071 [==============================] - 4s 0us/step\n",
            "170508288/170498071 [==============================] - 4s 0us/step\n"
          ]
        }
      ]
    },
    {
      "cell_type": "code",
      "source": [
        "#이미지 정규화\n",
        "\n",
        "X_train = X_train.astype('float32') / 255.\n",
        "X_test = X_test.astype('float32') / 255."
      ],
      "metadata": {
        "id": "sD9S2PaVp_So"
      },
      "execution_count": 4,
      "outputs": []
    },
    {
      "cell_type": "code",
      "source": [
        "#검증 데이터 생성\n",
        "\n",
        "X_train, X_val, y_train, y_val = train_test_split(X_train, y_train, test_size = 0.2)"
      ],
      "metadata": {
        "id": "pbzhBm7-qIWy"
      },
      "execution_count": 5,
      "outputs": []
    },
    {
      "cell_type": "code",
      "source": [
        "#신경망 모델 구축\n",
        "\n",
        "model = Sequential()\n",
        "model.add(Conv2D(32, (3,3), padding='same', activation='relu')) #필터의 갯수는 32개, 필터의 크기는 3*3, Convolution 진행, 출력함수는 ReLu, 입력값과 출력값의 크기가 같도록 padding\n",
        "model.add(MaxPooling2D(2,2)) #2*2 단위로 Max Pooling 진행\n",
        "model.add(Conv2D(64, (3,3))) #필터의 갯수는 54개, 크기는 3*3\n",
        "model.add(MaxPooling2D(2,2))\n",
        "model.add(Conv2D(64, (3,3), padding='same', activation='relu')) #MaxPooling은 생략. 이미지 전체의 특징을 추출하지 않도록 Pooling을 멈춤\n",
        "model.add(Flatten())\n",
        "model.add(Dense(128, activation='relu'))\n",
        "model.add(Dense(10, activation='softmax'))"
      ],
      "metadata": {
        "id": "6UawtsagqUUK"
      },
      "execution_count": 6,
      "outputs": []
    },
    {
      "cell_type": "code",
      "source": [
        "#모델 compile\n",
        "\n",
        "model.compile(optimizer = 'adam',\n",
        "              loss='sparse_categorical_crossentropy',\n",
        "              metrics=['accuracy'])"
      ],
      "metadata": {
        "id": "2wwLVEDUrzS7"
      },
      "execution_count": 7,
      "outputs": []
    },
    {
      "cell_type": "code",
      "source": [
        "#모델 훈련\n",
        "\n",
        "model.fit(X_train, y_train,\n",
        "          batch_size=128,\n",
        "          validation_data=(X_val, y_val),\n",
        "          epochs=10)"
      ],
      "metadata": {
        "colab": {
          "base_uri": "https://localhost:8080/"
        },
        "id": "XtlRZScPsMY8",
        "outputId": "25aedd0c-9332-49dc-aaa2-580b2a7b10e7"
      },
      "execution_count": 8,
      "outputs": [
        {
          "output_type": "stream",
          "name": "stdout",
          "text": [
            "Epoch 1/10\n",
            "313/313 [==============================] - 12s 7ms/step - loss: 1.5319 - accuracy: 0.4471 - val_loss: 1.2583 - val_accuracy: 0.5579\n",
            "Epoch 2/10\n",
            "313/313 [==============================] - 2s 6ms/step - loss: 1.1375 - accuracy: 0.5992 - val_loss: 1.0436 - val_accuracy: 0.6355\n",
            "Epoch 3/10\n",
            "313/313 [==============================] - 2s 6ms/step - loss: 0.9512 - accuracy: 0.6664 - val_loss: 0.9653 - val_accuracy: 0.6613\n",
            "Epoch 4/10\n",
            "313/313 [==============================] - 2s 6ms/step - loss: 0.8363 - accuracy: 0.7088 - val_loss: 0.9335 - val_accuracy: 0.6727\n",
            "Epoch 5/10\n",
            "313/313 [==============================] - 2s 6ms/step - loss: 0.7432 - accuracy: 0.7405 - val_loss: 0.8616 - val_accuracy: 0.7043\n",
            "Epoch 6/10\n",
            "313/313 [==============================] - 2s 6ms/step - loss: 0.6599 - accuracy: 0.7708 - val_loss: 0.8498 - val_accuracy: 0.7119\n",
            "Epoch 7/10\n",
            "313/313 [==============================] - 2s 6ms/step - loss: 0.5895 - accuracy: 0.7948 - val_loss: 0.8380 - val_accuracy: 0.7163\n",
            "Epoch 8/10\n",
            "313/313 [==============================] - 2s 6ms/step - loss: 0.5245 - accuracy: 0.8169 - val_loss: 0.8419 - val_accuracy: 0.7244\n",
            "Epoch 9/10\n",
            "313/313 [==============================] - 2s 6ms/step - loss: 0.4511 - accuracy: 0.8438 - val_loss: 0.9354 - val_accuracy: 0.7070\n",
            "Epoch 10/10\n",
            "313/313 [==============================] - 2s 6ms/step - loss: 0.3853 - accuracy: 0.8659 - val_loss: 0.9479 - val_accuracy: 0.7136\n"
          ]
        },
        {
          "output_type": "execute_result",
          "data": {
            "text/plain": [
              "<keras.callbacks.History at 0x7f43d03b7ad0>"
            ]
          },
          "metadata": {},
          "execution_count": 8
        }
      ]
    },
    {
      "cell_type": "code",
      "source": [
        "#모델 평가\n",
        "\n",
        "model.evaluate(X_test, y_test, verbose=2)"
      ],
      "metadata": {
        "colab": {
          "base_uri": "https://localhost:8080/"
        },
        "id": "mnGYcs-Asdtf",
        "outputId": "2dff4c3e-596a-4355-fb1d-e3ae2c030288"
      },
      "execution_count": 9,
      "outputs": [
        {
          "output_type": "stream",
          "name": "stdout",
          "text": [
            "313/313 - 1s - loss: 0.9740 - accuracy: 0.7103 - 790ms/epoch - 3ms/step\n"
          ]
        },
        {
          "output_type": "execute_result",
          "data": {
            "text/plain": [
              "[0.9739861488342285, 0.7103000283241272]"
            ]
          },
          "metadata": {},
          "execution_count": 9
        }
      ]
    },
    {
      "cell_type": "code",
      "source": [
        ""
      ],
      "metadata": {
        "id": "thmh4mFrsWwk"
      },
      "execution_count": 8,
      "outputs": []
    }
  ]
}