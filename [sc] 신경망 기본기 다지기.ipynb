{
  "cells": [
    {
      "cell_type": "markdown",
      "metadata": {
        "id": "view-in-github",
        "colab_type": "text"
      },
      "source": [
        "<a href=\"https://colab.research.google.com/github/GGpark1/Deep_Learning_Study/blob/master/%5Bsc%5D%20%EC%8B%A0%EA%B2%BD%EB%A7%9D%20%EA%B8%B0%EB%B3%B8%EA%B8%B0%20%EB%8B%A4%EC%A7%80%EA%B8%B0.ipynb\" target=\"_parent\"><img src=\"https://colab.research.google.com/assets/colab-badge.svg\" alt=\"Open In Colab\"/></a>"
      ]
    },
    {
      "cell_type": "markdown",
      "metadata": {
        "id": "dVNDxiWkw5y7"
      },
      "source": [
        "<img src='https://user-images.githubusercontent.com/6457691/90080969-0f758d00-dd47-11ea-8191-fa12fd2054a7.png' width = '200' align = 'right'>\n",
        "\n",
        "## AI SC41x\n",
        "\n",
        "---\n",
        "# Sprint Challenge - 신경망(Neural Network) 기본기 다지기\n",
        "\n",
        "Table of Problems\n",
        "\n",
        "1. 신경망 정의하기 \n",
        "2. 퍼셉트론 정의\n",
        "    - 퍼셉트론(Perceptron)\n",
        "    - 다층 퍼셉트론(Multilayer Perceptron)\n",
        "    - 분석과 비교\n",
        "4. Keras 사용하기"
      ]
    },
    {
      "cell_type": "markdown",
      "metadata": {
        "id": "O9qf0cRbw5y8"
      },
      "source": [
        "<a id=\"Q1\"></a>\n",
        "## 1. 신경망 용어 정의\n",
        "### 1.1 아래에 주어진 신경망 개념에 사용 되는 용어들을 자신만의 언어로 정의해보세요\n",
        "꼭 \"자신의 언어\"로 써보시고, 정리해보고, 요약해보세요 :)"
      ]
    },
    {
      "cell_type": "markdown",
      "metadata": {
        "id": "H8J-moMyoc3M"
      },
      "source": [
        "- **Neuron:** 퍼셉트론을 구성하는 단위로서 다수의 입력신호를 받은 뒤 다음 층에 보낼지 말지를 결정하는 장소입니다. 이전 뉴런(노드)에서 보낸 신호의 총합이 정해진 한계를 넘어설 때만 다음 뉴런(노드)로 신호를 출력합니다.\n",
        "- **Input Layer:** 데이터를 입력 받는 층입니다. Input Layer의 노드 수는 입력되는 데이터셋의 특성 수와 같습니다.\n",
        "- **Hidden Layer:** 입력된 신호의 가중치와 편향을 연산하는 층입니다. 연산 과정을 사용자가 볼 수 없기 때문에 은닉층이라고 부릅니다. 은닉층에 입력된 신호는 지정된 활성화 함수에 의해 연산됩니다.\n",
        "- **Output Layer:** 입력층으로부터 입력된 데이터가 은닉층의 연산을 거쳐 최종 출력된 층입니다. 풀려는 문제의 유형에 따라 활성화 함수와 노드 수를 결정해야 합니다.\n",
        "- **Activation Function:** 가중치가 곱해진 입력 신호의 총합(가중합)을 얼마만큼의 신호로 출력할지 연산하는 함수입니다. 보통 임계값을 기준으로 출력값이 변화합니다. 예를 들어 계단함수는 0을 넘기면 1을 그렇지 않으면 0을 출력합니다. ReLU 함수는 0을 넘기면 입력된 값 그대로 출력하고, 그렇지 않으면 0을 출력합니다. \n",
        "- **Back Propagation:** 입력층-은닉층-출력층을 거쳐 값을 내보내는 과정을 순전파라고 합니다. 이러한 순전파의 출력 결과와 타겟값과의 차이를 계산하여 손실(Loss)로 나타낼 수 있습니다. **역전파**는 이 손실을 줄이기 위해 순전파가 왔던 과정을 다시 역(출력층-은닉층-입력층)으로 돌아가는 방법이며, 각 층과 노드에서 손실을 줄일 수 있는 방향으로 가중치와 편향을 조정합니다. "
      ]
    },
    {
      "cell_type": "markdown",
      "metadata": {
        "id": "YdcS-Jx2w5y8"
      },
      "source": [
        "### 1.2 역전파 설명해보기\n",
        "이번에는 역전파 (Back Propagation)를 조금 더 디테일하게 설명해보겠습니다. \n",
        "<br> <b>초등학생</b>에게 설명한다는 생각으로 단어들을 선정해 주세요. <i>외부 자료나 이미지를 설명에 활용하셔도 좋습니다</i>."
      ]
    },
    {
      "cell_type": "markdown",
      "source": [
        "- **순전파** : 정해진 예산에 딱 맞춰 책을 고르려고 합니다.\n",
        "- **손실 함수** : 책 값을 계산해보니 예산에서 초과하거나 예산보다 적은 금액의 책을 골랐습니다.\n",
        "- **역전파** : 어떤 책이 최종 책값에 어떤 영향을 미쳤는지 책 값에 대한 책의 영향력(즉, 기울기)을 계산합니다. 특정 책의 책값이 0보다 크면 더 싼 책을 고르고, 0보다 작으면 더 비싼 책을 고릅니다."
      ],
      "metadata": {
        "id": "BWMsaMHJ_ikf"
      }
    },
    {
      "cell_type": "markdown",
      "metadata": {
        "id": "W7ZSjf9Uw5y8"
      },
      "source": [
        "### 1.3 퍼셉트론 정의해보기\n",
        "신경망 수업 첫날에 들었었던 퍼셉트론의 간단한 개념으로 예측하는 과정을 설명해보세요. <br> <b>입력</b>에서 <b>출력</b>으로 어떻게 변경되는 지 단계별로 설명해보세요."
      ]
    },
    {
      "cell_type": "markdown",
      "source": [
        "\n",
        "### 1단계. 순전파\n",
        "\n",
        "#### 1) 입력\n",
        "\n",
        "- 퍼셉트론은 다수의 신호를 입력으로 받아 하나의 신호를 출력합니다.\n",
        "- 입력 신호는 각각 고유한 가중치가 곱해져 다음 노드(뉴런)에 보내집니다.\n",
        "\n",
        "#### 2) 출력 및 오차 계산\n",
        "\n",
        "- 노드(뉴런)에 도착한 다수의 신호의 총합이 정해진 한계를 넘어설 때만 다음 노드로 신호를 출력합니다. 이 출력 한계를 정하는 것은 활성화 함수입니다.\n",
        "- 활성화 함수를 통과한 값을 출력값이라고 합니다.\n",
        "- 활성화 함수를 거쳐 최종값이 출력되면 타겟데이터를 비교하여 Loss(오차)를 계산합니다.\n",
        "\n",
        "### 2단계. 역전파\n",
        "\n",
        "- 오차를 줄이기 위해 역전파를 시행합니다.\n",
        "- 역전파 과정에서 손실을 최소화하는 방향으로 가중치와 편향이 조정됩니다. 즉, 중요하지 않은 특성의 가중치와 편향의 크기를 줄입니다.\n",
        "\n",
        "### 3단계. 다시 순전파\n",
        "\n",
        "- 다시 순전파를 진행합니다. 조정된 가중치와 편향에 의해서 가중합이 계산되고 활성화 함수에 의해 다음 노드로의 출력이 결정됩니다.\n",
        "- 역전파 과정에서 중요하지 않다고 판단된 특성은 **가중치와 편향이 조정되어 이번 Iteration에서 활성화 함수를 통과하지 못할 수 있습니다. 즉, 출력되지 않을 수 있습니다.**\n",
        "- 위와 같은 과정을 거쳐 출력값과 타겟 데이터의 Loss를 줄이는 방향으로 모델 예측/분류가 시행됩니다.\n",
        "\n",
        "#### 반복"
      ],
      "metadata": {
        "id": "d977cdcYB91O"
      }
    },
    {
      "cell_type": "markdown",
      "metadata": {
        "id": "1A2h2zpCw5y8"
      },
      "source": [
        "<a id=\"Q2\"></a>\n",
        "## 2. 단순 퍼셉트론\n",
        "\n",
        "이번에는 TensorFlow, keras를 사용하여 두 개의 신경망을 직접 구축한 뒤,\n",
        "<br> 아래 임의로 제공 된 $X, y$를 이용하여 두 모델에 적용한 뒤 결과를 비교해보세요. \n",
        "먼저 사용할 데이터는 다음과 같습니다."
      ]
    },
    {
      "cell_type": "code",
      "execution_count": null,
      "metadata": {
        "colab": {
          "base_uri": "https://localhost:8080/",
          "height": 282
        },
        "id": "TWdXFK9Yw5y8",
        "outputId": "501e6576-ceb1-4863-92e6-54aad7fb6e3f"
      },
      "outputs": [
        {
          "output_type": "execute_result",
          "data": {
            "text/plain": [
              "<matplotlib.collections.PathCollection at 0x7effa51acc10>"
            ]
          },
          "metadata": {},
          "execution_count": 98
        },
        {
          "output_type": "display_data",
          "data": {
            "image/png": "[encoded data removed]",
            "text/plain": [
              "<Figure size 432x288 with 1 Axes>"
            ]
          },
          "metadata": {
            "needs_background": "light"
          }
        }
      ],
      "source": [
        "import numpy as np\n",
        "import matplotlib.pyplot as plt\n",
        "\n",
        "xx, yy = np.meshgrid(np.linspace(-3, 3, 50),\n",
        "                     np.linspace(-3, 3, 50))\n",
        "rng = np.random.RandomState(0)\n",
        "\n",
        "\n",
        "\"model1과 model2를 구축할 때 아래의 X & y를 사용하세요\"\n",
        "X = rng.randn(300, 2)\n",
        "y = np.array(np.logical_xor(X[:, 0] > 0, X[:, 1] > 0), \n",
        "             dtype=int)\n",
        "\n",
        "plt.scatter(X[:,0], X[:,1], s=y)\n"
      ]
    },
    {
      "cell_type": "markdown",
      "metadata": {
        "id": "xjr4UoQXw5y8"
      },
      "source": [
        "### 단순 퍼셉트론 구현\n",
        "Keras로 <b>sigmoid activation function</b>을 포함한 dense layer 1개가 있는</b> `model1`을 만들어 학습시키고 `h1`에 저장하세요."
      ]
    },
    {
      "cell_type": "code",
      "source": [
        "#모듈 import\n",
        "\n",
        "import tensorflow as tf"
      ],
      "metadata": {
        "id": "lyIkzOw3pgqK"
      },
      "execution_count": null,
      "outputs": []
    },
    {
      "cell_type": "code",
      "source": [
        "#시드 고정\n",
        "\n",
        "np.random.seed(42)\n",
        "tf.random.set_seed(42)"
      ],
      "metadata": {
        "id": "cdl50rXapnbO"
      },
      "execution_count": null,
      "outputs": []
    },
    {
      "cell_type": "code",
      "source": [
        "np.unique(y)"
      ],
      "metadata": {
        "colab": {
          "base_uri": "https://localhost:8080/"
        },
        "id": "b9QQsLAEvTCA",
        "outputId": "3218ba65-e266-4200-8110-9d13e2e01242"
      },
      "execution_count": null,
      "outputs": [
        {
          "output_type": "execute_result",
          "data": {
            "text/plain": [
              "array([0, 1])"
            ]
          },
          "metadata": {},
          "execution_count": 101
        }
      ]
    },
    {
      "cell_type": "code",
      "execution_count": null,
      "metadata": {
        "colab": {
          "base_uri": "https://localhost:8080/"
        },
        "id": "vKZXIC1ew5y8",
        "outputId": "136cc68e-ddfc-400e-9988-986bd4d3bead"
      },
      "outputs": [
        {
          "output_type": "stream",
          "name": "stdout",
          "text": [
            "Epoch 1/30\n",
            "10/10 [==============================] - 0s 3ms/step - loss: 0.7432 - accuracy: 0.4767\n",
            "Epoch 2/30\n",
            "10/10 [==============================] - 0s 2ms/step - loss: 0.7408 - accuracy: 0.4767\n",
            "Epoch 3/30\n",
            "10/10 [==============================] - 0s 2ms/step - loss: 0.7385 - accuracy: 0.4800\n",
            "Epoch 4/30\n",
            "10/10 [==============================] - 0s 2ms/step - loss: 0.7363 - accuracy: 0.4833\n",
            "Epoch 5/30\n",
            "10/10 [==============================] - 0s 2ms/step - loss: 0.7341 - accuracy: 0.4833\n",
            "Epoch 6/30\n",
            "10/10 [==============================] - 0s 2ms/step - loss: 0.7318 - accuracy: 0.4833\n",
            "Epoch 7/30\n",
            "10/10 [==============================] - 0s 3ms/step - loss: 0.7298 - accuracy: 0.4833\n",
            "Epoch 8/30\n",
            "10/10 [==============================] - 0s 3ms/step - loss: 0.7279 - accuracy: 0.4867\n",
            "Epoch 9/30\n",
            "10/10 [==============================] - 0s 3ms/step - loss: 0.7261 - accuracy: 0.4900\n",
            "Epoch 10/30\n",
            "10/10 [==============================] - 0s 4ms/step - loss: 0.7242 - accuracy: 0.5000\n",
            "Epoch 11/30\n",
            "10/10 [==============================] - 0s 2ms/step - loss: 0.7226 - accuracy: 0.5033\n",
            "Epoch 12/30\n",
            "10/10 [==============================] - 0s 2ms/step - loss: 0.7209 - accuracy: 0.5133\n",
            "Epoch 13/30\n",
            "10/10 [==============================] - 0s 2ms/step - loss: 0.7194 - accuracy: 0.5200\n",
            "Epoch 14/30\n",
            "10/10 [==============================] - 0s 2ms/step - loss: 0.7180 - accuracy: 0.5233\n",
            "Epoch 15/30\n",
            "10/10 [==============================] - 0s 2ms/step - loss: 0.7164 - accuracy: 0.5233\n",
            "Epoch 16/30\n",
            "10/10 [==============================] - 0s 3ms/step - loss: 0.7148 - accuracy: 0.5233\n",
            "Epoch 17/30\n",
            "10/10 [==============================] - 0s 2ms/step - loss: 0.7134 - accuracy: 0.5233\n",
            "Epoch 18/30\n",
            "10/10 [==============================] - 0s 3ms/step - loss: 0.7120 - accuracy: 0.5233\n",
            "Epoch 19/30\n",
            "10/10 [==============================] - 0s 2ms/step - loss: 0.7107 - accuracy: 0.5333\n",
            "Epoch 20/30\n",
            "10/10 [==============================] - 0s 3ms/step - loss: 0.7096 - accuracy: 0.5333\n",
            "Epoch 21/30\n",
            "10/10 [==============================] - 0s 4ms/step - loss: 0.7085 - accuracy: 0.5367\n",
            "Epoch 22/30\n",
            "10/10 [==============================] - 0s 2ms/step - loss: 0.7075 - accuracy: 0.5367\n",
            "Epoch 23/30\n",
            "10/10 [==============================] - 0s 2ms/step - loss: 0.7065 - accuracy: 0.5367\n",
            "Epoch 24/30\n",
            "10/10 [==============================] - 0s 3ms/step - loss: 0.7055 - accuracy: 0.5333\n",
            "Epoch 25/30\n",
            "10/10 [==============================] - 0s 2ms/step - loss: 0.7045 - accuracy: 0.5267\n",
            "Epoch 26/30\n",
            "10/10 [==============================] - 0s 2ms/step - loss: 0.7035 - accuracy: 0.5233\n",
            "Epoch 27/30\n",
            "10/10 [==============================] - 0s 2ms/step - loss: 0.7027 - accuracy: 0.5200\n",
            "Epoch 28/30\n",
            "10/10 [==============================] - 0s 3ms/step - loss: 0.7019 - accuracy: 0.5133\n",
            "Epoch 29/30\n",
            "10/10 [==============================] - 0s 2ms/step - loss: 0.7011 - accuracy: 0.5067\n",
            "Epoch 30/30\n",
            "10/10 [==============================] - 0s 2ms/step - loss: 0.7004 - accuracy: 0.4933\n"
          ]
        }
      ],
      "source": [
        "model1 = tf.keras.models.Sequential([tf.keras.layers.Dense(1, activation='sigmoid')])\n",
        "\n",
        "model1.compile(optimizer = 'sgd',\n",
        "               loss = 'binary_crossentropy',\n",
        "               metrics=['accuracy'])\n",
        "\n",
        "h1 = model1.fit(X, y, epochs=30)"
      ]
    },
    {
      "cell_type": "markdown",
      "metadata": {
        "id": "0Ugkziwew5y8"
      },
      "source": [
        "\n",
        "### Multi-Layer Perceptron (MLP)\n",
        "이번에는 여러층의 레이어들을 쌓은 MLP 모델을 만들어보겠습니다. 아래는 간략한 가이드입니다 :\n",
        "- 2개의 은닉층 (출력 수를 맞추는 것까지 3개의 Dense를 사용할 것은 추천)\n",
        "- 노드의 개수는 8-32개 내에서 변경해서 사용해보세요.\n",
        "- Activation function과 optimizer는 이번 주에 배운 것들 중에서 자유롭게 골라보세요.\n",
        "- 아래 만들어진 Callback function을 모델에 통합해서 사용하세요\n",
        "\n",
        "MLP로 만들어진 `model2` 를 만들어 학습하고 `h2`에 저장하세요."
      ]
    },
    {
      "cell_type": "code",
      "execution_count": null,
      "metadata": {
        "id": "6BoIn7iBw5y8"
      },
      "outputs": [],
      "source": [
        "import tensorflow as tf\n",
        "\n",
        "class myCallback(tf.keras.callbacks.Callback): \n",
        "    def on_epoch_end(self, epoch, logs={}): \n",
        "        if(logs.get('accuracy') > .90):   \n",
        "            self.model.stop_training = True"
      ]
    },
    {
      "cell_type": "code",
      "source": [
        "from sklearn.model_selection import train_test_split\n",
        "\n",
        "X_train, X_test, y_train, y_test = train_test_split(X, y, train_size=0.8, random_state=2, stratify=y)"
      ],
      "metadata": {
        "id": "QvKbKoguv8Mw"
      },
      "execution_count": null,
      "outputs": []
    },
    {
      "cell_type": "code",
      "execution_count": null,
      "metadata": {
        "colab": {
          "base_uri": "https://localhost:8080/"
        },
        "id": "B63dciqEw5y8",
        "outputId": "b6e71f6e-71b2-4781-f37b-498e28169b2c"
      },
      "outputs": [
        {
          "output_type": "stream",
          "name": "stdout",
          "text": [
            "Epoch 1/30\n",
            "8/8 [==============================] - 1s 25ms/step - loss: 0.6977 - accuracy: 0.5750 - val_loss: 0.7048 - val_accuracy: 0.5500\n",
            "Epoch 2/30\n",
            "8/8 [==============================] - 0s 5ms/step - loss: 0.6757 - accuracy: 0.6292 - val_loss: 0.6822 - val_accuracy: 0.5833\n",
            "Epoch 3/30\n",
            "8/8 [==============================] - 0s 6ms/step - loss: 0.6552 - accuracy: 0.6583 - val_loss: 0.6613 - val_accuracy: 0.5833\n",
            "Epoch 4/30\n",
            "8/8 [==============================] - 0s 6ms/step - loss: 0.6353 - accuracy: 0.6750 - val_loss: 0.6424 - val_accuracy: 0.6667\n",
            "Epoch 5/30\n",
            "8/8 [==============================] - 0s 5ms/step - loss: 0.6181 - accuracy: 0.7083 - val_loss: 0.6239 - val_accuracy: 0.6833\n",
            "Epoch 6/30\n",
            "8/8 [==============================] - 0s 6ms/step - loss: 0.6015 - accuracy: 0.7500 - val_loss: 0.6071 - val_accuracy: 0.7833\n",
            "Epoch 7/30\n",
            "8/8 [==============================] - 0s 6ms/step - loss: 0.5855 - accuracy: 0.8042 - val_loss: 0.5913 - val_accuracy: 0.8167\n",
            "Epoch 8/30\n",
            "8/8 [==============================] - 0s 5ms/step - loss: 0.5695 - accuracy: 0.8458 - val_loss: 0.5764 - val_accuracy: 0.8500\n",
            "Epoch 9/30\n",
            "8/8 [==============================] - 0s 6ms/step - loss: 0.5543 - accuracy: 0.8792 - val_loss: 0.5606 - val_accuracy: 0.8667\n",
            "Epoch 10/30\n",
            "8/8 [==============================] - 0s 6ms/step - loss: 0.5384 - accuracy: 0.8875 - val_loss: 0.5455 - val_accuracy: 0.8833\n",
            "Epoch 11/30\n",
            "8/8 [==============================] - 0s 5ms/step - loss: 0.5235 - accuracy: 0.8792 - val_loss: 0.5303 - val_accuracy: 0.9000\n",
            "Epoch 12/30\n",
            "8/8 [==============================] - 0s 7ms/step - loss: 0.5084 - accuracy: 0.9000 - val_loss: 0.5162 - val_accuracy: 0.9167\n",
            "Epoch 13/30\n",
            "8/8 [==============================] - 0s 5ms/step - loss: 0.4942 - accuracy: 0.9083 - val_loss: 0.5015 - val_accuracy: 0.9167\n"
          ]
        }
      ],
      "source": [
        "#3층 신경망\n",
        "\n",
        "model2 = tf.keras.models.Sequential()\n",
        "model2.add(tf.keras.layers.Dense(8, activation = 'relu'))\n",
        "model2.add(tf.keras.layers.Dense(30, activation = 'relu'))\n",
        "model2.add(tf.keras.layers.Dense(1, activation = 'sigmoid'))\n",
        "\n",
        "model2.compile(optimizer = 'adam',\n",
        "               loss = 'binary_crossentropy',\n",
        "               metrics = ['accuracy'])\n",
        "\n",
        "h2 = model2.fit(X_train, y_train, epochs=30, validation_data = (X_test, y_test), callbacks = [myCallback()])"
      ]
    },
    {
      "cell_type": "markdown",
      "metadata": {
        "id": "xn2TsE76w5y8"
      },
      "source": [
        "### Analyze and Compare\n",
        "\n",
        "코드를 시작하기 전에 추가 라이브러리를 설치해야 합니다. 스프린트 과제에 사용 중인 환경에 패키지 `mlxtend`를 설치합니다. 설치코드를 직접 제작해보세요. 기존 자료들을 참고하면 쉽게 설치할 수 있을 것입니다. \n",
        "\n",
        "아래 셀은 모형의 의사결정 경계도(\"model1\" 및 \"model2\")를 생성합니다. 그림을 검토합니다."
      ]
    },
    {
      "cell_type": "code",
      "execution_count": null,
      "metadata": {
        "colab": {
          "base_uri": "https://localhost:8080/"
        },
        "id": "96hsbGktVlgL",
        "outputId": "9fbe9a8d-5baa-4dbe-95aa-5c874435243a"
      },
      "outputs": [
        {
          "output_type": "stream",
          "name": "stdout",
          "text": [
            "Requirement already satisfied: mlxtend in /usr/local/lib/python3.7/dist-packages (0.14.0)\n",
            "Requirement already satisfied: setuptools in /usr/local/lib/python3.7/dist-packages (from mlxtend) (57.4.0)\n",
            "Requirement already satisfied: scikit-learn>=0.18 in /usr/local/lib/python3.7/dist-packages (from mlxtend) (1.0.2)\n",
            "Requirement already satisfied: pandas>=0.17.1 in /usr/local/lib/python3.7/dist-packages (from mlxtend) (1.3.5)\n",
            "Requirement already satisfied: numpy>=1.10.4 in /usr/local/lib/python3.7/dist-packages (from mlxtend) (1.21.5)\n",
            "Requirement already satisfied: matplotlib>=1.5.1 in /usr/local/lib/python3.7/dist-packages (from mlxtend) (3.2.2)\n",
            "Requirement already satisfied: scipy>=0.17 in /usr/local/lib/python3.7/dist-packages (from mlxtend) (1.4.1)\n",
            "Requirement already satisfied: cycler>=0.10 in /usr/local/lib/python3.7/dist-packages (from matplotlib>=1.5.1->mlxtend) (0.11.0)\n",
            "Requirement already satisfied: pyparsing!=2.0.4,!=2.1.2,!=2.1.6,>=2.0.1 in /usr/local/lib/python3.7/dist-packages (from matplotlib>=1.5.1->mlxtend) (3.0.7)\n",
            "Requirement already satisfied: python-dateutil>=2.1 in /usr/local/lib/python3.7/dist-packages (from matplotlib>=1.5.1->mlxtend) (2.8.2)\n",
            "Requirement already satisfied: kiwisolver>=1.0.1 in /usr/local/lib/python3.7/dist-packages (from matplotlib>=1.5.1->mlxtend) (1.3.2)\n",
            "Requirement already satisfied: pytz>=2017.3 in /usr/local/lib/python3.7/dist-packages (from pandas>=0.17.1->mlxtend) (2018.9)\n",
            "Requirement already satisfied: six>=1.5 in /usr/local/lib/python3.7/dist-packages (from python-dateutil>=2.1->matplotlib>=1.5.1->mlxtend) (1.15.0)\n",
            "Requirement already satisfied: joblib>=0.11 in /usr/local/lib/python3.7/dist-packages (from scikit-learn>=0.18->mlxtend) (1.1.0)\n",
            "Requirement already satisfied: threadpoolctl>=2.0.0 in /usr/local/lib/python3.7/dist-packages (from scikit-learn>=0.18->mlxtend) (3.1.0)\n"
          ]
        }
      ],
      "source": [
        "# mlxtend 라이브러리를 설치합니다\n",
        "!pip install mlxtend"
      ]
    },
    {
      "cell_type": "code",
      "execution_count": null,
      "metadata": {
        "colab": {
          "base_uri": "https://localhost:8080/",
          "height": 425
        },
        "id": "ox13rgjTw5y8",
        "outputId": "0be3ced5-beff-43e4-fcdb-a8a6d13b6f0c"
      },
      "outputs": [
        {
          "output_type": "stream",
          "name": "stderr",
          "text": [
            "/usr/local/lib/python3.7/dist-packages/mlxtend/plotting/decision_regions.py:244: MatplotlibDeprecationWarning: Passing unsupported keyword arguments to axis() will raise a TypeError in 3.3.\n",
            "  ax.axis(xmin=xx.min(), xmax=xx.max(), y_min=yy.min(), y_max=yy.max())\n"
          ]
        },
        {
          "output_type": "display_data",
          "data": {
            "image/png": "[encoded data removed]",
            "text/plain": [
              "<Figure size 864x432 with 2 Axes>"
            ]
          },
          "metadata": {
            "needs_background": "light"
          }
        }
      ],
      "source": [
        "# 이 셀의 코드는 변경하지 마세요\n",
        "\n",
        "import matplotlib.pyplot as plt\n",
        "from mlxtend.plotting import plot_decision_regions\n",
        "\n",
        "h = .02  # step size in the mesh\n",
        "\n",
        "# create a mesh to plot in\n",
        "x_min, x_max = X[:, 0].min() - .2, X[:, 0].max() + .2\n",
        "y_min, y_max = X[:, 1].min() - .2, X[:, 1].max() + .2\n",
        "xx, yy = np.meshgrid(np.arange(x_min, x_max, h),\n",
        "                     np.arange(y_min, y_max, h))\n",
        "\n",
        "fig = plt.figure(figsize=(12,6))\n",
        "\n",
        "\n",
        "for clf, hist, name, grd in zip([model1,model2], [h1, h2],['Perceptron', 'Multi-Layer Perceptron'],[1,2]):\n",
        "\n",
        "    ax = plt.subplot(1,2, grd)\n",
        "    fig = plot_decision_regions(X=X, y=y, clf=clf, legend=2)\n",
        "    title = f\"{name} with {hist.history['accuracy'][-1]:,.2f} Accuracy\"\n",
        "    plt.title(title)\n",
        "\n",
        "plt.show()"
      ]
    },
    {
      "cell_type": "markdown",
      "metadata": {
        "id": "4qBWszwMw5y8"
      },
      "source": [
        "#### 대부분의 Perceptron(\"model1\")의 정확도가 50-70% 정도로 나오실 것인데요, 왜 그것밖에 되지 않을까요? <br> 데이터 X와 레이블 y의 관계를 보다 정확하게 학습할 수 있는 다층 퍼셉트론의 구조적인 특징은 무엇일까요? (설명을 하실 때 우리가 배웠었던 특징 추출의 관점에서 설명을 해보시길 바랍니다.)"
      ]
    },
    {
      "cell_type": "markdown",
      "source": [
        "### 단층 퍼셉트론의 한계(model1)\n",
        "\n",
        "- 단층 퍼셉트론은 활성화 함수에 의해 정해진 기준에 따라 0 또는 1을 출력합니다.\n",
        "\n",
        "- 즉 단층 퍼셉트론은 위의 첫 번째 그래프와 같이 직선에 따라 입력된 데이터의 특성 영역을 둘로 나눕니다.\n",
        "\n",
        "- 문제는 하나의 직선으로 입력 데이터의 특성을 나누지 못할 떄입니다.\n",
        "\n",
        "- 배타적 논리합 구조(XOR gate)에서는 하나의 직선으로 데이터의 특성을 구분하지 못합니다.\n",
        "\n",
        "- 이와 같은 단층 퍼셉트론의 한계를 보여주는 그래프가 두 번째 그래프입니다.\n",
        "\n",
        "### 단층 퍼셉트론의 한계를 극복하기 위한 다층 퍼셉트론(model2)\n",
        "\n",
        "- 단층 퍼셉트론의 위와 같은 한계를 극복하기 위해 퍼셉트론을 다층으로 쌓아올릴 수 있습니다.\n",
        "\n",
        "- 하나의 선으로 데이터를 구분하지 못한다면 두 번째 그래프처럼 여러개의 선을 그어 데이터를 구분하면 되기 때문입니다.\n",
        "\n",
        "- 이를 다층 퍼셉트론이라고 부릅니다.\n",
        "\n",
        "- model1보다 model2의 성능이 더 좋은 이유는 퍼셉트론을 다층으로 쌓아 입력된 데이터의 특징을 하나 이상의 선으로 구분했기 때문입니다. 즉, 다층 퍼셉트론을 사용하면 입력 데이터의 특징을 더욱 잘 추출할 수 있습니다."
      ],
      "metadata": {
        "id": "8Cc8ewl3uLvL"
      }
    },
    {
      "cell_type": "markdown",
      "metadata": {
        "id": "FYEPmr-_w5y8"
      },
      "source": [
        "## 3. Keras MLP 튜닝\n",
        "\n",
        "이번에는 Keras 라이브러리를 사용하여 선택한 MultiLayer Perceptron(MLP) 아키텍처를 구현해보겠습니다. 극히 단순한 모델부터 복잡한 모델까지 만들어 보실 수 있습니다. 모델을 학습하고 정확도를 구해보세요. \n",
        "<br> 그런 다음 최소 <b>두 개</b>의 파라미터를 튜닝한 후에 다시 모형의 정확도를 구해보고 이전 모델과 비교해보세요. \n",
        "<br> 아래 Cell에서 심장병 데이터 세트를 불러 온 후 이진 분류 모델 (binary classification model) 을 만들어 보세요. 이진 분류 작업에 적절한 손실 함수를 사용하고, 신경망의 마지막 계층에서 적절한 출력값과 활성화 함수를 사용합니다. \n",
        "<br> 세부적인 출력을 사용하여 빠르게 수렴할 수 있도록 모델을 학습해보는 것도 중요합니다. GridSearchCV 또는 RandomSearchCV를 사용하여 모델을 하이퍼 파라미터들을 튜닝해봅니다. (최소 두 개의 하이퍼 파라미터를 튜닝해봅니다) 하이퍼 파라미터 튜닝 시 새로운 각 실험에 대해 코드 셀을 추가하여 작업하는 방법을 배워보았는데, 그대로 이용하지 말고 변형을 해서 보여주고 싶은 내용을 정리해서 보여주세요.  \n",
        "<br> 테스트할 때 하이퍼 파라미터의 각 조합에 대한 정확도를 보고하여 가장 높은 정확도를 얻을 수 있는 결과를 쉽게 확인할 수 있도록 합니다. \n",
        "<br> 이 SC에서 **3점**을 얻으려면 **최소 3개의 파라미터**를 조정해야 합니다.\n",
        "\n",
        "- BatchNormalization을 레이어에 추가하면 성능이 많이 오를 수 있습니다. \n",
        "- 하지만 BatchNormalization을 사용하기 위해서는 Batch_size 옵션을 추가해야 합니다."
      ]
    },
    {
      "cell_type": "code",
      "execution_count": null,
      "metadata": {
        "colab": {
          "base_uri": "https://localhost:8080/",
          "height": 224
        },
        "id": "F35sgQ7Cw5y8",
        "inputHidden": false,
        "jupyter": {
          "outputs_hidden": false
        },
        "outputHidden": false,
        "outputId": "78d044dd-f313-4430-bf63-95a6697c790e"
      },
      "outputs": [
        {
          "output_type": "stream",
          "name": "stdout",
          "text": [
            "(303, 14)\n"
          ]
        },
        {
          "output_type": "execute_result",
          "data": {
            "text/html": [
              "\n",
              "  <div id=\"df-562824cc-9179-4987-818f-19e28d89e281\">\n",
              "    <div class=\"colab-df-container\">\n",
              "      <div>\n",
              "<style scoped>\n",
              "    .dataframe tbody tr th:only-of-type {\n",
              "        vertical-align: middle;\n",
              "    }\n",
              "\n",
              "    .dataframe tbody tr th {\n",
              "        vertical-align: top;\n",
              "    }\n",
              "\n",
              "    .dataframe thead th {\n",
              "        text-align: right;\n",
              "    }\n",
              "</style>\n",
              "<table border=\"1\" class=\"dataframe\">\n",
              "  <thead>\n",
              "    <tr style=\"text-align: right;\">\n",
              "      <th></th>\n",
              "      <th>age</th>\n",
              "      <th>sex</th>\n",
              "      <th>cp</th>\n",
              "      <th>trestbps</th>\n",
              "      <th>chol</th>\n",
              "      <th>fbs</th>\n",
              "      <th>restecg</th>\n",
              "      <th>thalach</th>\n",
              "      <th>exang</th>\n",
              "      <th>oldpeak</th>\n",
              "      <th>slope</th>\n",
              "      <th>ca</th>\n",
              "      <th>thal</th>\n",
              "      <th>target</th>\n",
              "    </tr>\n",
              "  </thead>\n",
              "  <tbody>\n",
              "    <tr>\n",
              "      <th>231</th>\n",
              "      <td>57</td>\n",
              "      <td>1</td>\n",
              "      <td>0</td>\n",
              "      <td>165</td>\n",
              "      <td>289</td>\n",
              "      <td>1</td>\n",
              "      <td>0</td>\n",
              "      <td>124</td>\n",
              "      <td>0</td>\n",
              "      <td>1.0</td>\n",
              "      <td>1</td>\n",
              "      <td>3</td>\n",
              "      <td>3</td>\n",
              "      <td>0</td>\n",
              "    </tr>\n",
              "    <tr>\n",
              "      <th>301</th>\n",
              "      <td>57</td>\n",
              "      <td>1</td>\n",
              "      <td>0</td>\n",
              "      <td>130</td>\n",
              "      <td>131</td>\n",
              "      <td>0</td>\n",
              "      <td>1</td>\n",
              "      <td>115</td>\n",
              "      <td>1</td>\n",
              "      <td>1.2</td>\n",
              "      <td>1</td>\n",
              "      <td>1</td>\n",
              "      <td>3</td>\n",
              "      <td>0</td>\n",
              "    </tr>\n",
              "    <tr>\n",
              "      <th>104</th>\n",
              "      <td>50</td>\n",
              "      <td>1</td>\n",
              "      <td>2</td>\n",
              "      <td>129</td>\n",
              "      <td>196</td>\n",
              "      <td>0</td>\n",
              "      <td>1</td>\n",
              "      <td>163</td>\n",
              "      <td>0</td>\n",
              "      <td>0.0</td>\n",
              "      <td>2</td>\n",
              "      <td>0</td>\n",
              "      <td>2</td>\n",
              "      <td>1</td>\n",
              "    </tr>\n",
              "    <tr>\n",
              "      <th>292</th>\n",
              "      <td>58</td>\n",
              "      <td>0</td>\n",
              "      <td>0</td>\n",
              "      <td>170</td>\n",
              "      <td>225</td>\n",
              "      <td>1</td>\n",
              "      <td>0</td>\n",
              "      <td>146</td>\n",
              "      <td>1</td>\n",
              "      <td>2.8</td>\n",
              "      <td>1</td>\n",
              "      <td>2</td>\n",
              "      <td>1</td>\n",
              "      <td>0</td>\n",
              "    </tr>\n",
              "    <tr>\n",
              "      <th>159</th>\n",
              "      <td>56</td>\n",
              "      <td>1</td>\n",
              "      <td>1</td>\n",
              "      <td>130</td>\n",
              "      <td>221</td>\n",
              "      <td>0</td>\n",
              "      <td>0</td>\n",
              "      <td>163</td>\n",
              "      <td>0</td>\n",
              "      <td>0.0</td>\n",
              "      <td>2</td>\n",
              "      <td>0</td>\n",
              "      <td>3</td>\n",
              "      <td>1</td>\n",
              "    </tr>\n",
              "  </tbody>\n",
              "</table>\n",
              "</div>\n",
              "      <button class=\"colab-df-convert\" onclick=\"convertToInteractive('df-562824cc-9179-4987-818f-19e28d89e281')\"\n",
              "              title=\"Convert this dataframe to an interactive table.\"\n",
              "              style=\"display:none;\">\n",
              "        \n",
              "  <svg xmlns=\"http://www.w3.org/2000/svg\" height=\"24px\"viewBox=\"0 0 24 24\"\n",
              "       width=\"24px\">\n",
              "    <path d=\"M0 0h24v24H0V0z\" fill=\"none\"/>\n",
              "    <path d=\"M18.56 5.44l.94 2.06.94-2.06 2.06-.94-2.06-.94-.94-2.06-.94 2.06-2.06.94zm-11 1L8.5 8.5l.94-2.06 2.06-.94-2.06-.94L8.5 2.5l-.94 2.06-2.06.94zm10 10l.94 2.06.94-2.06 2.06-.94-2.06-.94-.94-2.06-.94 2.06-2.06.94z\"/><path d=\"M17.41 7.96l-1.37-1.37c-.4-.4-.92-.59-1.43-.59-.52 0-1.04.2-1.43.59L10.3 9.45l-7.72 7.72c-.78.78-.78 2.05 0 2.83L4 21.41c.39.39.9.59 1.41.59.51 0 1.02-.2 1.41-.59l7.78-7.78 2.81-2.81c.8-.78.8-2.07 0-2.86zM5.41 20L4 18.59l7.72-7.72 1.47 1.35L5.41 20z\"/>\n",
              "  </svg>\n",
              "      </button>\n",
              "      \n",
              "  <style>\n",
              "    .colab-df-container {\n",
              "      display:flex;\n",
              "      flex-wrap:wrap;\n",
              "      gap: 12px;\n",
              "    }\n",
              "\n",
              "    .colab-df-convert {\n",
              "      background-color: #E8F0FE;\n",
              "      border: none;\n",
              "      border-radius: 50%;\n",
              "      cursor: pointer;\n",
              "      display: none;\n",
              "      fill: #1967D2;\n",
              "      height: 32px;\n",
              "      padding: 0 0 0 0;\n",
              "      width: 32px;\n",
              "    }\n",
              "\n",
              "    .colab-df-convert:hover {\n",
              "      background-color: #E2EBFA;\n",
              "      box-shadow: 0px 1px 2px rgba(60, 64, 67, 0.3), 0px 1px 3px 1px rgba(60, 64, 67, 0.15);\n",
              "      fill: #174EA6;\n",
              "    }\n",
              "\n",
              "    [theme=dark] .colab-df-convert {\n",
              "      background-color: #3B4455;\n",
              "      fill: #D2E3FC;\n",
              "    }\n",
              "\n",
              "    [theme=dark] .colab-df-convert:hover {\n",
              "      background-color: #434B5C;\n",
              "      box-shadow: 0px 1px 3px 1px rgba(0, 0, 0, 0.15);\n",
              "      filter: drop-shadow(0px 1px 2px rgba(0, 0, 0, 0.3));\n",
              "      fill: #FFFFFF;\n",
              "    }\n",
              "  </style>\n",
              "\n",
              "      <script>\n",
              "        const buttonEl =\n",
              "          document.querySelector('#df-562824cc-9179-4987-818f-19e28d89e281 button.colab-df-convert');\n",
              "        buttonEl.style.display =\n",
              "          google.colab.kernel.accessAllowed ? 'block' : 'none';\n",
              "\n",
              "        async function convertToInteractive(key) {\n",
              "          const element = document.querySelector('#df-562824cc-9179-4987-818f-19e28d89e281');\n",
              "          const dataTable =\n",
              "            await google.colab.kernel.invokeFunction('convertToInteractive',\n",
              "                                                     [key], {});\n",
              "          if (!dataTable) return;\n",
              "\n",
              "          const docLinkHtml = 'Like what you see? Visit the ' +\n",
              "            '<a target=\"_blank\" href=https://colab.research.google.com/notebooks/data_table.ipynb>data table notebook</a>'\n",
              "            + ' to learn more about interactive tables.';\n",
              "          element.innerHTML = '';\n",
              "          dataTable['output_type'] = 'display_data';\n",
              "          await google.colab.output.renderOutput(dataTable, element);\n",
              "          const docLink = document.createElement('div');\n",
              "          docLink.innerHTML = docLinkHtml;\n",
              "          element.appendChild(docLink);\n",
              "        }\n",
              "      </script>\n",
              "    </div>\n",
              "  </div>\n",
              "  "
            ],
            "text/plain": [
              "     age  sex  cp  trestbps  chol  fbs  ...  exang  oldpeak  slope  ca  thal  target\n",
              "231   57    1   0       165   289    1  ...      0      1.0      1   3     3       0\n",
              "301   57    1   0       130   131    0  ...      1      1.2      1   1     3       0\n",
              "104   50    1   2       129   196    0  ...      0      0.0      2   0     2       1\n",
              "292   58    0   0       170   225    1  ...      1      2.8      1   2     1       0\n",
              "159   56    1   1       130   221    0  ...      0      0.0      2   0     3       1\n",
              "\n",
              "[5 rows x 14 columns]"
            ]
          },
          "metadata": {},
          "execution_count": 21
        }
      ],
      "source": [
        "import pandas as pd\n",
        "from sklearn.preprocessing import StandardScaler\n",
        "\n",
        "df = pd.read_csv('https://ds-lecture-data.s3.ap-northeast-2.amazonaws.com/datasets/heart.csv')\n",
        "df = df.sample(frac=1)\n",
        "print(df.shape)\n",
        "df.head()\n"
      ]
    },
    {
      "cell_type": "code",
      "source": [
        "#피쳐와 타겟 분리\n",
        "\n",
        "target = 'target'\n",
        "features = df.drop(columns = [target]).columns"
      ],
      "metadata": {
        "id": "UuxT4xsHxfwb"
      },
      "execution_count": null,
      "outputs": []
    },
    {
      "cell_type": "code",
      "source": [
        "#분리 확인\n",
        "\n",
        "X = df[features]\n",
        "y = df[target]\n",
        "\n",
        "print(X.head())\n",
        "print(y.head())"
      ],
      "metadata": {
        "colab": {
          "base_uri": "https://localhost:8080/"
        },
        "id": "LoRRvRb-xntg",
        "outputId": "f5f10cb8-aa1b-4330-8743-eb7a85f13322"
      },
      "execution_count": null,
      "outputs": [
        {
          "output_type": "stream",
          "name": "stdout",
          "text": [
            "     age  sex  cp  trestbps  chol  ...  exang  oldpeak  slope  ca  thal\n",
            "231   57    1   0       165   289  ...      0      1.0      1   3     3\n",
            "301   57    1   0       130   131  ...      1      1.2      1   1     3\n",
            "104   50    1   2       129   196  ...      0      0.0      2   0     2\n",
            "292   58    0   0       170   225  ...      1      2.8      1   2     1\n",
            "159   56    1   1       130   221  ...      0      0.0      2   0     3\n",
            "\n",
            "[5 rows x 13 columns]\n",
            "231    0\n",
            "301    0\n",
            "104    1\n",
            "292    0\n",
            "159    1\n",
            "Name: target, dtype: int64\n"
          ]
        }
      ]
    },
    {
      "cell_type": "code",
      "source": [
        "#학습 데이터, 테스트 데이터 분리\n",
        "\n",
        "X_train, X_test, y_train, y_test = train_test_split(X, y, train_size=0.75, random_state=2, stratify=y)"
      ],
      "metadata": {
        "id": "XeClVsj0vwrz"
      },
      "execution_count": null,
      "outputs": []
    },
    {
      "cell_type": "code",
      "execution_count": null,
      "metadata": {
        "colab": {
          "base_uri": "https://localhost:8080/"
        },
        "id": "xUDHLAhId4W8",
        "outputId": "76cca225-cb37-42c2-957c-b766fe8a3e33"
      },
      "outputs": [
        {
          "output_type": "stream",
          "name": "stdout",
          "text": [
            "Epoch 1/30\n",
            "8/8 [==============================] - 1s 49ms/step - loss: 10.9478 - accuracy: 0.5463 - val_loss: 7.6446 - val_accuracy: 0.5395\n",
            "Epoch 2/30\n",
            "8/8 [==============================] - 0s 6ms/step - loss: 5.3127 - accuracy: 0.5463 - val_loss: 1.8696 - val_accuracy: 0.5395\n",
            "Epoch 3/30\n",
            "8/8 [==============================] - 0s 6ms/step - loss: 1.1787 - accuracy: 0.5727 - val_loss: 1.6917 - val_accuracy: 0.5000\n",
            "Epoch 4/30\n",
            "8/8 [==============================] - 0s 8ms/step - loss: 1.6298 - accuracy: 0.4802 - val_loss: 0.8498 - val_accuracy: 0.5395\n",
            "Epoch 5/30\n",
            "8/8 [==============================] - 0s 6ms/step - loss: 0.9754 - accuracy: 0.5727 - val_loss: 1.1420 - val_accuracy: 0.6184\n",
            "Epoch 6/30\n",
            "8/8 [==============================] - 0s 8ms/step - loss: 0.8885 - accuracy: 0.5991 - val_loss: 0.7495 - val_accuracy: 0.5921\n",
            "Epoch 7/30\n",
            "8/8 [==============================] - 0s 6ms/step - loss: 0.9434 - accuracy: 0.5242 - val_loss: 0.7440 - val_accuracy: 0.5789\n",
            "Epoch 8/30\n",
            "8/8 [==============================] - 0s 12ms/step - loss: 0.7251 - accuracy: 0.6300 - val_loss: 0.7957 - val_accuracy: 0.6184\n",
            "Epoch 9/30\n",
            "8/8 [==============================] - 0s 11ms/step - loss: 0.6686 - accuracy: 0.6344 - val_loss: 0.6994 - val_accuracy: 0.5789\n",
            "Epoch 10/30\n",
            "8/8 [==============================] - 0s 10ms/step - loss: 0.6907 - accuracy: 0.5859 - val_loss: 0.6469 - val_accuracy: 0.6053\n",
            "Epoch 11/30\n",
            "8/8 [==============================] - 0s 10ms/step - loss: 0.6357 - accuracy: 0.6256 - val_loss: 0.6489 - val_accuracy: 0.6184\n",
            "Epoch 12/30\n",
            "8/8 [==============================] - 0s 12ms/step - loss: 0.6515 - accuracy: 0.6079 - val_loss: 0.6468 - val_accuracy: 0.6053\n",
            "Epoch 13/30\n",
            "8/8 [==============================] - 0s 10ms/step - loss: 0.6431 - accuracy: 0.5991 - val_loss: 0.6783 - val_accuracy: 0.6053\n",
            "Epoch 14/30\n",
            "8/8 [==============================] - 0s 11ms/step - loss: 0.6160 - accuracy: 0.6388 - val_loss: 0.6442 - val_accuracy: 0.5921\n",
            "Epoch 15/30\n",
            "8/8 [==============================] - 0s 12ms/step - loss: 0.6022 - accuracy: 0.6696 - val_loss: 0.6488 - val_accuracy: 0.6184\n",
            "Epoch 16/30\n",
            "8/8 [==============================] - 0s 11ms/step - loss: 0.6059 - accuracy: 0.6740 - val_loss: 0.6412 - val_accuracy: 0.6053\n",
            "Epoch 17/30\n",
            "8/8 [==============================] - 0s 11ms/step - loss: 0.6061 - accuracy: 0.6740 - val_loss: 0.6486 - val_accuracy: 0.6184\n",
            "Epoch 18/30\n",
            "8/8 [==============================] - 0s 11ms/step - loss: 0.6212 - accuracy: 0.6344 - val_loss: 0.6430 - val_accuracy: 0.6053\n",
            "Epoch 19/30\n",
            "8/8 [==============================] - 0s 10ms/step - loss: 0.6468 - accuracy: 0.6432 - val_loss: 0.6447 - val_accuracy: 0.6184\n",
            "Epoch 20/30\n",
            "8/8 [==============================] - 0s 12ms/step - loss: 0.6038 - accuracy: 0.6652 - val_loss: 0.6561 - val_accuracy: 0.6184\n",
            "Epoch 21/30\n",
            "8/8 [==============================] - 0s 11ms/step - loss: 0.5966 - accuracy: 0.6652 - val_loss: 0.6499 - val_accuracy: 0.5921\n",
            "Epoch 22/30\n",
            "8/8 [==============================] - 0s 12ms/step - loss: 0.6052 - accuracy: 0.6652 - val_loss: 0.6494 - val_accuracy: 0.6316\n",
            "Epoch 23/30\n",
            "8/8 [==============================] - 0s 12ms/step - loss: 0.5949 - accuracy: 0.6872 - val_loss: 0.6385 - val_accuracy: 0.6447\n",
            "Epoch 24/30\n",
            "8/8 [==============================] - 0s 11ms/step - loss: 0.6215 - accuracy: 0.6123 - val_loss: 0.6557 - val_accuracy: 0.6184\n",
            "Epoch 25/30\n",
            "8/8 [==============================] - 0s 11ms/step - loss: 0.6028 - accuracy: 0.6652 - val_loss: 0.6435 - val_accuracy: 0.6184\n",
            "Epoch 26/30\n",
            "8/8 [==============================] - 0s 10ms/step - loss: 0.6003 - accuracy: 0.6608 - val_loss: 0.6506 - val_accuracy: 0.6316\n",
            "Epoch 27/30\n",
            "8/8 [==============================] - 0s 10ms/step - loss: 0.5857 - accuracy: 0.7004 - val_loss: 0.6399 - val_accuracy: 0.6316\n",
            "Epoch 28/30\n",
            "8/8 [==============================] - 0s 10ms/step - loss: 0.5949 - accuracy: 0.6608 - val_loss: 0.6390 - val_accuracy: 0.6447\n",
            "Epoch 29/30\n",
            "8/8 [==============================] - 0s 9ms/step - loss: 0.5858 - accuracy: 0.7093 - val_loss: 0.6381 - val_accuracy: 0.6316\n",
            "Epoch 30/30\n",
            "8/8 [==============================] - 0s 5ms/step - loss: 0.6035 - accuracy: 0.6520 - val_loss: 0.6408 - val_accuracy: 0.6184\n"
          ]
        },
        {
          "output_type": "execute_result",
          "data": {
            "text/plain": [
              "<keras.callbacks.History at 0x7effa6536610>"
            ]
          },
          "metadata": {},
          "execution_count": 68
        }
      ],
      "source": [
        "#기본 모델 구축\n",
        "\n",
        "model = tf.keras.models.Sequential()\n",
        "model.add(tf.keras.layers.Dense(8, activation = 'relu'))\n",
        "model.add(tf.keras.layers.Dense(30, activation = 'relu'))\n",
        "model.add(tf.keras.layers.Dense(1, activation = 'sigmoid'))\n",
        "\n",
        "model.compile(optimizer = 'adam',\n",
        "               loss = 'binary_crossentropy',\n",
        "               metrics = ['accuracy'])\n",
        "\n",
        "model.fit(X_train, y_train, epochs=30, validation_data = (X_test, y_test))"
      ]
    },
    {
      "cell_type": "code",
      "source": [
        "#기본 모델 평가\n",
        "\n",
        "result = model.evaluate(x=X_test, y=y_test, verbose=1)"
      ],
      "metadata": {
        "colab": {
          "base_uri": "https://localhost:8080/"
        },
        "id": "oH11wTdK6RVV",
        "outputId": "209d8dd0-fc0f-40de-deec-488ed1ce142a"
      },
      "execution_count": null,
      "outputs": [
        {
          "output_type": "stream",
          "name": "stdout",
          "text": [
            "3/3 [==============================] - 0s 5ms/step - loss: 0.6408 - accuracy: 0.6184\n"
          ]
        }
      ]
    },
    {
      "cell_type": "code",
      "source": [
        "#모듈 import\n",
        "\n",
        "from tensorflow.keras.layers import Dense, Flatten, Dropout\n",
        "!pip install -U keras-tuner\n",
        "import kerastuner as kt\n",
        "import IPython"
      ],
      "metadata": {
        "id": "E_IOXBJD0Osj"
      },
      "execution_count": null,
      "outputs": []
    },
    {
      "cell_type": "code",
      "source": [
        "#tuner를 활용한 하이퍼파라미터 조정\n",
        "#3층 신경망 모델\n",
        "#가중치 초기화 적용\n",
        "#BatchNormalization 적용\n",
        "#노드 수 / 드롭아웃 범위 / 학습률 탐색\n",
        "\n",
        "def model_builder(hp):\n",
        "\n",
        "    He_normal = tf.keras.initializers.he_normal(seed=None)\n",
        "    batch_normal = tf.keras.layers.BatchNormalization()\n",
        "    model = tf.keras.Sequential()\n",
        "\n",
        "    hp_units = hp.Int('units', min_value = 32, max_value = 512, step = 32)\n",
        "    model.add(Dense(units= hp_units, activation = 'relu', kernel_initializer = He_normal))\n",
        "    model.add(batch_normal)\n",
        "    hp_dropout = hp.Float('dropout', 0, 0.5, step=0.1)\n",
        "    Dropout(rate=hp_dropout)\n",
        "\n",
        "    hp_units_2 = hp.Int('units_2', min_value = 32, max_value = 512, step = 32)\n",
        "    model.add(Dense(units=hp_units_2, activation = 'relu', kernel_initializer = He_normal))\n",
        "    model.add(batch_normal)\n",
        "    hp_dropout_2 = hp.Float('dropout_2', 0, 0.5, step=0.1)\n",
        "    Dropout(rate=hp_dropout_2)\n",
        "    \n",
        "    model.add(Dense(10, activation = 'sigmoid'))\n",
        "\n",
        "    hp_learning_rate = hp.Choice('learning_rate', values = [1e-2, 1e-3, 1e-4])\n",
        "    model.compile(optimizer = tf.keras.optimizers.Adam(learning_rate = hp_learning_rate),\n",
        "                  loss = tf.keras.losses.SparseCategoricalCrossentropy(from_logits=True),\n",
        "                  metrics = ['accuracy'])\n",
        "    \n",
        "    return model\n",
        "\n",
        "#튜너 제작\n",
        "\n",
        "tuner = kt.RandomSearch(model_builder,\n",
        "                     objective = 'val_accuracy',\n",
        "                     max_trials =  10,\n",
        "                     directory = 'my_dir_5',\n",
        "                     project_name = 'intro_to_kt')\n",
        "\n",
        "#callback 함수 지정\n",
        "\n",
        "class ClearTrainingOutput(tf.keras.callbacks.Callback):\n",
        "    def on_train_end(*args, **kwargs):\n",
        "        IPython.display.clear_output(wait=True)"
      ],
      "metadata": {
        "id": "S5WRAfeJyYfW"
      },
      "execution_count": null,
      "outputs": []
    },
    {
      "cell_type": "code",
      "source": [
        "#하이퍼파라미터 탐색\n",
        "\n",
        "tuner.search(X_train, y_train, epochs = 10, validation_data = (X_test, y_test), callbacks = [ClearTrainingOutput()])"
      ],
      "metadata": {
        "colab": {
          "base_uri": "https://localhost:8080/"
        },
        "id": "EqkEJ1kn0uHl",
        "outputId": "a765b6b0-cacc-4f77-c31a-9271b9da98e1"
      },
      "execution_count": null,
      "outputs": [
        {
          "output_type": "stream",
          "name": "stdout",
          "text": [
            "Trial 10 Complete [00h 00m 02s]\n",
            "val_accuracy: 1.0\n",
            "\n",
            "Best val_accuracy So Far: 1.0\n",
            "Total elapsed time: 00h 00m 29s\n",
            "INFO:tensorflow:Oracle triggered exit\n"
          ]
        },
        {
          "output_type": "stream",
          "name": "stderr",
          "text": [
            "INFO:tensorflow:Oracle triggered exit\n"
          ]
        }
      ]
    },
    {
      "cell_type": "code",
      "source": [
        "#모듈 인스턴스\n",
        "\n",
        "best_hps = tuner.get_best_hyperparameters(num_trials=1)[0]"
      ],
      "metadata": {
        "id": "iBE1OUew4NRp"
      },
      "execution_count": null,
      "outputs": []
    },
    {
      "cell_type": "code",
      "source": [
        "#조정 결과\n",
        "\n",
        "print(f\"\"\"\n",
        "하이퍼 파라미터 검색이 완료되었습니다. \n",
        "최적화된 첫 번째 Dense 노드 수는 {best_hps.get('units')} 입니다.\n",
        "최적화된 두 번째 Dense 노드 수는 {best_hps.get('units_2')}\n",
        "최적의 학습 속도는 {best_hps.get('learning_rate')} 입니다.\n",
        "최적화된 첫 번째 드롭 아웃은 {best_hps.get('dropout')}\n",
        "최적화된 두 번째 드롭 아웃은 {best_hps.get('dropout_2')}\n",
        "\"\"\")"
      ],
      "metadata": {
        "colab": {
          "base_uri": "https://localhost:8080/"
        },
        "id": "GqJuVg_D5Pzf",
        "outputId": "78048c9d-6bed-46f7-c7bc-93a49f8b7bdf"
      },
      "execution_count": null,
      "outputs": [
        {
          "output_type": "stream",
          "name": "stdout",
          "text": [
            "\n",
            "하이퍼 파라미터 검색이 완료되었습니다. \n",
            "최적화된 첫 번째 Dense 노드 수는 352 입니다.\n",
            "최적화된 두 번째 Dense 노드 수는 416\n",
            "최적의 학습 속도는 0.001 입니다.\n",
            "최적화된 첫 번째 드롭 아웃은 0.0\n",
            "최적화된 두 번째 드롭 아웃은 0.2\n",
            "\n"
          ]
        }
      ]
    },
    {
      "cell_type": "code",
      "source": [
        "#조정된 모델로 다시 학습하기\n",
        "\n",
        "model = tuner.hypermodel.build(best_hps)\n",
        "\n",
        "model.fit(X_train, y_train, epochs = 100, batch_size = 50, validation_data = (X_test, y_test))"
      ],
      "metadata": {
        "colab": {
          "base_uri": "https://localhost:8080/"
        },
        "id": "EUCFuY-c53vU",
        "outputId": "38affda6-8bd7-4739-dae9-674ca3c6b539"
      },
      "execution_count": null,
      "outputs": [
        {
          "output_type": "stream",
          "name": "stdout",
          "text": [
            "Epoch 1/100\n"
          ]
        },
        {
          "output_type": "stream",
          "name": "stderr",
          "text": [
            "/usr/local/lib/python3.7/dist-packages/tensorflow/python/util/dispatch.py:1082: UserWarning: \"`sparse_categorical_crossentropy` received `from_logits=True`, but the `output` argument was produced by a sigmoid or softmax activation and thus does not represent logits. Was this intended?\"\n",
            "  return dispatch_target(*args, **kwargs)\n"
          ]
        },
        {
          "output_type": "stream",
          "name": "stdout",
          "text": [
            "5/5 [==============================] - 1s 56ms/step - loss: 1.4685 - accuracy: 0.5625 - val_loss: 0.6013 - val_accuracy: 0.9500\n",
            "Epoch 2/100\n",
            "5/5 [==============================] - 0s 11ms/step - loss: 0.2321 - accuracy: 0.9083 - val_loss: 0.3314 - val_accuracy: 0.9500\n",
            "Epoch 3/100\n",
            "5/5 [==============================] - 0s 12ms/step - loss: 0.1602 - accuracy: 0.9375 - val_loss: 0.2472 - val_accuracy: 0.9500\n",
            "Epoch 4/100\n",
            "5/5 [==============================] - 0s 13ms/step - loss: 0.1300 - accuracy: 0.9458 - val_loss: 0.1609 - val_accuracy: 0.9667\n",
            "Epoch 5/100\n",
            "5/5 [==============================] - 0s 11ms/step - loss: 0.1174 - accuracy: 0.9708 - val_loss: 0.1347 - val_accuracy: 0.9833\n",
            "Epoch 6/100\n",
            "5/5 [==============================] - 0s 16ms/step - loss: 0.1232 - accuracy: 0.9500 - val_loss: 0.1362 - val_accuracy: 0.9667\n",
            "Epoch 7/100\n",
            "5/5 [==============================] - 0s 12ms/step - loss: 0.1152 - accuracy: 0.9625 - val_loss: 0.1335 - val_accuracy: 0.9667\n",
            "Epoch 8/100\n",
            "5/5 [==============================] - 0s 11ms/step - loss: 0.1337 - accuracy: 0.9500 - val_loss: 0.1011 - val_accuracy: 0.9500\n",
            "Epoch 9/100\n",
            "5/5 [==============================] - 0s 12ms/step - loss: 0.1072 - accuracy: 0.9542 - val_loss: 0.0774 - val_accuracy: 0.9833\n",
            "Epoch 10/100\n",
            "5/5 [==============================] - 0s 15ms/step - loss: 0.1083 - accuracy: 0.9583 - val_loss: 0.0741 - val_accuracy: 0.9833\n",
            "Epoch 11/100\n",
            "5/5 [==============================] - 0s 12ms/step - loss: 0.0936 - accuracy: 0.9625 - val_loss: 0.0709 - val_accuracy: 0.9833\n",
            "Epoch 12/100\n",
            "5/5 [==============================] - 0s 12ms/step - loss: 0.0608 - accuracy: 0.9833 - val_loss: 0.0727 - val_accuracy: 0.9833\n",
            "Epoch 13/100\n",
            "5/5 [==============================] - 0s 13ms/step - loss: 0.1020 - accuracy: 0.9583 - val_loss: 0.0582 - val_accuracy: 1.0000\n",
            "Epoch 14/100\n",
            "5/5 [==============================] - 0s 12ms/step - loss: 0.1384 - accuracy: 0.9542 - val_loss: 0.0455 - val_accuracy: 1.0000\n",
            "Epoch 15/100\n",
            "5/5 [==============================] - 0s 12ms/step - loss: 0.0836 - accuracy: 0.9542 - val_loss: 0.0428 - val_accuracy: 1.0000\n",
            "Epoch 16/100\n",
            "5/5 [==============================] - 0s 12ms/step - loss: 0.0659 - accuracy: 0.9750 - val_loss: 0.0521 - val_accuracy: 0.9833\n",
            "Epoch 17/100\n",
            "5/5 [==============================] - 0s 13ms/step - loss: 0.1003 - accuracy: 0.9667 - val_loss: 0.0539 - val_accuracy: 0.9833\n",
            "Epoch 18/100\n",
            "5/5 [==============================] - 0s 12ms/step - loss: 0.0808 - accuracy: 0.9625 - val_loss: 0.0517 - val_accuracy: 0.9667\n",
            "Epoch 19/100\n",
            "5/5 [==============================] - 0s 14ms/step - loss: 0.1106 - accuracy: 0.9625 - val_loss: 0.0366 - val_accuracy: 1.0000\n",
            "Epoch 20/100\n",
            "5/5 [==============================] - 0s 11ms/step - loss: 0.0985 - accuracy: 0.9625 - val_loss: 0.0389 - val_accuracy: 1.0000\n",
            "Epoch 21/100\n",
            "5/5 [==============================] - 0s 12ms/step - loss: 0.0802 - accuracy: 0.9792 - val_loss: 0.0366 - val_accuracy: 1.0000\n",
            "Epoch 22/100\n",
            "5/5 [==============================] - 0s 15ms/step - loss: 0.0805 - accuracy: 0.9667 - val_loss: 0.0425 - val_accuracy: 0.9667\n",
            "Epoch 23/100\n",
            "5/5 [==============================] - 0s 12ms/step - loss: 0.1247 - accuracy: 0.9417 - val_loss: 0.0415 - val_accuracy: 0.9833\n",
            "Epoch 24/100\n",
            "5/5 [==============================] - 0s 12ms/step - loss: 0.1013 - accuracy: 0.9500 - val_loss: 0.0465 - val_accuracy: 1.0000\n",
            "Epoch 25/100\n",
            "5/5 [==============================] - 0s 11ms/step - loss: 0.0635 - accuracy: 0.9750 - val_loss: 0.0836 - val_accuracy: 0.9667\n",
            "Epoch 26/100\n",
            "5/5 [==============================] - 0s 12ms/step - loss: 0.0734 - accuracy: 0.9667 - val_loss: 0.0665 - val_accuracy: 0.9833\n",
            "Epoch 27/100\n",
            "5/5 [==============================] - 0s 12ms/step - loss: 0.0598 - accuracy: 0.9667 - val_loss: 0.0333 - val_accuracy: 0.9833\n",
            "Epoch 28/100\n",
            "5/5 [==============================] - 0s 14ms/step - loss: 0.1024 - accuracy: 0.9667 - val_loss: 0.0288 - val_accuracy: 0.9833\n",
            "Epoch 29/100\n",
            "5/5 [==============================] - 0s 12ms/step - loss: 0.1443 - accuracy: 0.9458 - val_loss: 0.0646 - val_accuracy: 0.9833\n",
            "Epoch 30/100\n",
            "5/5 [==============================] - 0s 11ms/step - loss: 0.0852 - accuracy: 0.9708 - val_loss: 0.0633 - val_accuracy: 0.9667\n",
            "Epoch 31/100\n",
            "5/5 [==============================] - 0s 12ms/step - loss: 0.0611 - accuracy: 0.9792 - val_loss: 0.0469 - val_accuracy: 0.9833\n",
            "Epoch 32/100\n",
            "5/5 [==============================] - 0s 12ms/step - loss: 0.0725 - accuracy: 0.9667 - val_loss: 0.0431 - val_accuracy: 0.9833\n",
            "Epoch 33/100\n",
            "5/5 [==============================] - 0s 11ms/step - loss: 0.1177 - accuracy: 0.9583 - val_loss: 0.0365 - val_accuracy: 0.9833\n",
            "Epoch 34/100\n",
            "5/5 [==============================] - 0s 13ms/step - loss: 0.0713 - accuracy: 0.9792 - val_loss: 0.0413 - val_accuracy: 0.9833\n",
            "Epoch 35/100\n",
            "5/5 [==============================] - 0s 11ms/step - loss: 0.1057 - accuracy: 0.9583 - val_loss: 0.0290 - val_accuracy: 0.9833\n",
            "Epoch 36/100\n",
            "5/5 [==============================] - 0s 16ms/step - loss: 0.1288 - accuracy: 0.9375 - val_loss: 0.0267 - val_accuracy: 1.0000\n",
            "Epoch 37/100\n",
            "5/5 [==============================] - 0s 12ms/step - loss: 0.0746 - accuracy: 0.9708 - val_loss: 0.0283 - val_accuracy: 1.0000\n",
            "Epoch 38/100\n",
            "5/5 [==============================] - 0s 16ms/step - loss: 0.0715 - accuracy: 0.9667 - val_loss: 0.0360 - val_accuracy: 0.9833\n",
            "Epoch 39/100\n",
            "5/5 [==============================] - 0s 12ms/step - loss: 0.1271 - accuracy: 0.9500 - val_loss: 0.0177 - val_accuracy: 1.0000\n",
            "Epoch 40/100\n",
            "5/5 [==============================] - 0s 13ms/step - loss: 0.0398 - accuracy: 0.9875 - val_loss: 0.0458 - val_accuracy: 0.9833\n",
            "Epoch 41/100\n",
            "5/5 [==============================] - 0s 12ms/step - loss: 0.0692 - accuracy: 0.9708 - val_loss: 0.0576 - val_accuracy: 0.9833\n",
            "Epoch 42/100\n",
            "5/5 [==============================] - 0s 12ms/step - loss: 0.0649 - accuracy: 0.9667 - val_loss: 0.0356 - val_accuracy: 0.9833\n",
            "Epoch 43/100\n",
            "5/5 [==============================] - 0s 11ms/step - loss: 0.0427 - accuracy: 0.9833 - val_loss: 0.0560 - val_accuracy: 0.9833\n",
            "Epoch 44/100\n",
            "5/5 [==============================] - 0s 12ms/step - loss: 0.0659 - accuracy: 0.9708 - val_loss: 0.0691 - val_accuracy: 0.9667\n",
            "Epoch 45/100\n",
            "5/5 [==============================] - 0s 13ms/step - loss: 0.0901 - accuracy: 0.9792 - val_loss: 0.0281 - val_accuracy: 1.0000\n",
            "Epoch 46/100\n",
            "5/5 [==============================] - 0s 15ms/step - loss: 0.0674 - accuracy: 0.9792 - val_loss: 0.0161 - val_accuracy: 1.0000\n",
            "Epoch 47/100\n",
            "5/5 [==============================] - 0s 14ms/step - loss: 0.0810 - accuracy: 0.9708 - val_loss: 0.0349 - val_accuracy: 1.0000\n",
            "Epoch 48/100\n",
            "5/5 [==============================] - 0s 13ms/step - loss: 0.0626 - accuracy: 0.9833 - val_loss: 0.0318 - val_accuracy: 1.0000\n",
            "Epoch 49/100\n",
            "5/5 [==============================] - 0s 13ms/step - loss: 0.0865 - accuracy: 0.9583 - val_loss: 0.0417 - val_accuracy: 0.9833\n",
            "Epoch 50/100\n",
            "5/5 [==============================] - 0s 14ms/step - loss: 0.0984 - accuracy: 0.9750 - val_loss: 0.0550 - val_accuracy: 0.9667\n",
            "Epoch 51/100\n",
            "5/5 [==============================] - 0s 13ms/step - loss: 0.0591 - accuracy: 0.9750 - val_loss: 0.0295 - val_accuracy: 0.9833\n",
            "Epoch 52/100\n",
            "5/5 [==============================] - 0s 15ms/step - loss: 0.1099 - accuracy: 0.9458 - val_loss: 0.0441 - val_accuracy: 0.9833\n",
            "Epoch 53/100\n",
            "5/5 [==============================] - 0s 15ms/step - loss: 0.0401 - accuracy: 0.9875 - val_loss: 0.0798 - val_accuracy: 0.9500\n",
            "Epoch 54/100\n",
            "5/5 [==============================] - 0s 21ms/step - loss: 0.0723 - accuracy: 0.9625 - val_loss: 0.0487 - val_accuracy: 0.9667\n",
            "Epoch 55/100\n",
            "5/5 [==============================] - 0s 16ms/step - loss: 0.0733 - accuracy: 0.9708 - val_loss: 0.0163 - val_accuracy: 1.0000\n",
            "Epoch 56/100\n",
            "5/5 [==============================] - 0s 14ms/step - loss: 0.0600 - accuracy: 0.9708 - val_loss: 0.0118 - val_accuracy: 1.0000\n",
            "Epoch 57/100\n",
            "5/5 [==============================] - 0s 15ms/step - loss: 0.0563 - accuracy: 0.9833 - val_loss: 0.0183 - val_accuracy: 1.0000\n",
            "Epoch 58/100\n",
            "5/5 [==============================] - 0s 19ms/step - loss: 0.0423 - accuracy: 0.9792 - val_loss: 0.0613 - val_accuracy: 0.9667\n",
            "Epoch 59/100\n",
            "5/5 [==============================] - 0s 13ms/step - loss: 0.0496 - accuracy: 0.9833 - val_loss: 0.0615 - val_accuracy: 0.9500\n",
            "Epoch 60/100\n",
            "5/5 [==============================] - 0s 24ms/step - loss: 0.0904 - accuracy: 0.9750 - val_loss: 0.0276 - val_accuracy: 0.9833\n",
            "Epoch 61/100\n",
            "5/5 [==============================] - 0s 31ms/step - loss: 0.0466 - accuracy: 0.9875 - val_loss: 0.0163 - val_accuracy: 1.0000\n",
            "Epoch 62/100\n",
            "5/5 [==============================] - 0s 24ms/step - loss: 0.0473 - accuracy: 0.9792 - val_loss: 0.0189 - val_accuracy: 1.0000\n",
            "Epoch 63/100\n",
            "5/5 [==============================] - 0s 22ms/step - loss: 0.0714 - accuracy: 0.9833 - val_loss: 0.0257 - val_accuracy: 1.0000\n",
            "Epoch 64/100\n",
            "5/5 [==============================] - 0s 23ms/step - loss: 0.0627 - accuracy: 0.9750 - val_loss: 0.0307 - val_accuracy: 0.9833\n",
            "Epoch 65/100\n",
            "5/5 [==============================] - 0s 20ms/step - loss: 0.0472 - accuracy: 0.9792 - val_loss: 0.0263 - val_accuracy: 1.0000\n",
            "Epoch 66/100\n",
            "5/5 [==============================] - 0s 24ms/step - loss: 0.0429 - accuracy: 0.9792 - val_loss: 0.0285 - val_accuracy: 1.0000\n",
            "Epoch 67/100\n",
            "5/5 [==============================] - 0s 23ms/step - loss: 0.0277 - accuracy: 0.9917 - val_loss: 0.0362 - val_accuracy: 0.9833\n",
            "Epoch 68/100\n",
            "5/5 [==============================] - 0s 28ms/step - loss: 0.0577 - accuracy: 0.9750 - val_loss: 0.0303 - val_accuracy: 0.9833\n",
            "Epoch 69/100\n",
            "5/5 [==============================] - 0s 47ms/step - loss: 0.0416 - accuracy: 0.9875 - val_loss: 0.0275 - val_accuracy: 0.9833\n",
            "Epoch 70/100\n",
            "5/5 [==============================] - 0s 47ms/step - loss: 0.0498 - accuracy: 0.9792 - val_loss: 0.0117 - val_accuracy: 1.0000\n",
            "Epoch 71/100\n",
            "5/5 [==============================] - 0s 35ms/step - loss: 0.0304 - accuracy: 0.9917 - val_loss: 0.0180 - val_accuracy: 1.0000\n",
            "Epoch 72/100\n",
            "5/5 [==============================] - 0s 39ms/step - loss: 0.0392 - accuracy: 0.9792 - val_loss: 0.0224 - val_accuracy: 1.0000\n",
            "Epoch 73/100\n",
            "5/5 [==============================] - 0s 42ms/step - loss: 0.0432 - accuracy: 0.9917 - val_loss: 0.0414 - val_accuracy: 0.9667\n",
            "Epoch 74/100\n",
            "5/5 [==============================] - 0s 40ms/step - loss: 0.0457 - accuracy: 0.9833 - val_loss: 0.0396 - val_accuracy: 0.9667\n",
            "Epoch 75/100\n",
            "5/5 [==============================] - 0s 21ms/step - loss: 0.0380 - accuracy: 0.9917 - val_loss: 0.0332 - val_accuracy: 0.9833\n",
            "Epoch 76/100\n",
            "5/5 [==============================] - 0s 29ms/step - loss: 0.0637 - accuracy: 0.9750 - val_loss: 0.0307 - val_accuracy: 0.9833\n",
            "Epoch 77/100\n",
            "5/5 [==============================] - 0s 32ms/step - loss: 0.0577 - accuracy: 0.9875 - val_loss: 0.0470 - val_accuracy: 0.9667\n",
            "Epoch 78/100\n",
            "5/5 [==============================] - 0s 36ms/step - loss: 0.0231 - accuracy: 0.9917 - val_loss: 0.0545 - val_accuracy: 0.9833\n",
            "Epoch 79/100\n",
            "5/5 [==============================] - 0s 39ms/step - loss: 0.0842 - accuracy: 0.9542 - val_loss: 0.0424 - val_accuracy: 0.9833\n",
            "Epoch 80/100\n",
            "5/5 [==============================] - 0s 26ms/step - loss: 0.0725 - accuracy: 0.9708 - val_loss: 0.0121 - val_accuracy: 1.0000\n",
            "Epoch 81/100\n",
            "5/5 [==============================] - 0s 18ms/step - loss: 0.0425 - accuracy: 0.9792 - val_loss: 0.0104 - val_accuracy: 1.0000\n",
            "Epoch 82/100\n",
            "5/5 [==============================] - 0s 21ms/step - loss: 0.0575 - accuracy: 0.9792 - val_loss: 0.0267 - val_accuracy: 0.9833\n",
            "Epoch 83/100\n",
            "5/5 [==============================] - 0s 18ms/step - loss: 0.0305 - accuracy: 0.9917 - val_loss: 0.0353 - val_accuracy: 0.9833\n",
            "Epoch 84/100\n",
            "5/5 [==============================] - 0s 32ms/step - loss: 0.0319 - accuracy: 0.9875 - val_loss: 0.0125 - val_accuracy: 1.0000\n",
            "Epoch 85/100\n",
            "5/5 [==============================] - 0s 30ms/step - loss: 0.0510 - accuracy: 0.9750 - val_loss: 0.0128 - val_accuracy: 1.0000\n",
            "Epoch 86/100\n",
            "5/5 [==============================] - 0s 19ms/step - loss: 0.0400 - accuracy: 0.9917 - val_loss: 0.1008 - val_accuracy: 0.9500\n",
            "Epoch 87/100\n",
            "5/5 [==============================] - 0s 19ms/step - loss: 0.0582 - accuracy: 0.9625 - val_loss: 0.1089 - val_accuracy: 0.9500\n",
            "Epoch 88/100\n",
            "5/5 [==============================] - 0s 31ms/step - loss: 0.0235 - accuracy: 0.9917 - val_loss: 0.0389 - val_accuracy: 0.9833\n",
            "Epoch 89/100\n",
            "5/5 [==============================] - 0s 38ms/step - loss: 0.0347 - accuracy: 0.9875 - val_loss: 0.0251 - val_accuracy: 0.9833\n",
            "Epoch 90/100\n",
            "5/5 [==============================] - 0s 23ms/step - loss: 0.0386 - accuracy: 0.9792 - val_loss: 0.0240 - val_accuracy: 1.0000\n",
            "Epoch 91/100\n",
            "5/5 [==============================] - 0s 34ms/step - loss: 0.0684 - accuracy: 0.9708 - val_loss: 0.1081 - val_accuracy: 0.9667\n",
            "Epoch 92/100\n",
            "5/5 [==============================] - 0s 26ms/step - loss: 0.0513 - accuracy: 0.9833 - val_loss: 0.2418 - val_accuracy: 0.9667\n",
            "Epoch 93/100\n",
            "5/5 [==============================] - 0s 30ms/step - loss: 0.0251 - accuracy: 0.9917 - val_loss: 0.1285 - val_accuracy: 0.9500\n",
            "Epoch 94/100\n",
            "5/5 [==============================] - 0s 25ms/step - loss: 0.0676 - accuracy: 0.9875 - val_loss: 0.0744 - val_accuracy: 0.9500\n",
            "Epoch 95/100\n",
            "5/5 [==============================] - 0s 24ms/step - loss: 0.0440 - accuracy: 0.9917 - val_loss: 0.0636 - val_accuracy: 0.9667\n",
            "Epoch 96/100\n",
            "5/5 [==============================] - 0s 26ms/step - loss: 0.0461 - accuracy: 0.9875 - val_loss: 0.0523 - val_accuracy: 0.9667\n",
            "Epoch 97/100\n",
            "5/5 [==============================] - 0s 27ms/step - loss: 0.0648 - accuracy: 0.9750 - val_loss: 0.0243 - val_accuracy: 0.9833\n",
            "Epoch 98/100\n",
            "5/5 [==============================] - 0s 39ms/step - loss: 0.0728 - accuracy: 0.9625 - val_loss: 0.0213 - val_accuracy: 0.9833\n",
            "Epoch 99/100\n",
            "5/5 [==============================] - 0s 33ms/step - loss: 0.0437 - accuracy: 0.9833 - val_loss: 0.0399 - val_accuracy: 0.9833\n",
            "Epoch 100/100\n",
            "5/5 [==============================] - 0s 44ms/step - loss: 0.0479 - accuracy: 0.9792 - val_loss: 0.0665 - val_accuracy: 0.9667\n"
          ]
        },
        {
          "output_type": "execute_result",
          "data": {
            "text/plain": [
              "<keras.callbacks.History at 0x7effa4d39e90>"
            ]
          },
          "metadata": {},
          "execution_count": 130
        }
      ]
    },
    {
      "cell_type": "code",
      "source": [
        "#모델 평가\n",
        "\n",
        "hp_result = model.evaluate(x=X_test, y=y_test, verbose=1)"
      ],
      "metadata": {
        "colab": {
          "base_uri": "https://localhost:8080/"
        },
        "id": "j5mLiIkO6FD9",
        "outputId": "656f2e11-b1d9-4b61-edf8-84abe37a8777"
      },
      "execution_count": null,
      "outputs": [
        {
          "output_type": "stream",
          "name": "stdout",
          "text": [
            "2/2 [==============================] - 0s 6ms/step - loss: 0.0665 - accuracy: 0.9667\n"
          ]
        }
      ]
    },
    {
      "cell_type": "code",
      "source": [
        "#기본 모델과 하이퍼파라미터를 조정한 모델 비교\n",
        "\n",
        "print(f\"기본 모델의 정확도: {result[1]}\")\n",
        "print(f\"하이퍼파라미터 조정 모델의 정확도: {hp_result[1]}\")"
      ],
      "metadata": {
        "colab": {
          "base_uri": "https://localhost:8080/"
        },
        "id": "0218kMvQ6Wp7",
        "outputId": "c239780e-9bea-4c23-c1b2-3e76a1814c4e"
      },
      "execution_count": null,
      "outputs": [
        {
          "output_type": "stream",
          "name": "stdout",
          "text": [
            "기본 모델의 정확도: 0.6184210777282715\n",
            "하이퍼파라미터 조정 모델의 정확도: 0.9666666388511658\n"
          ]
        }
      ]
    }
  ],
  "metadata": {
    "colab": {
      "name": "ai-sc41x-박경국(수정).ipynb",
      "provenance": [],
      "include_colab_link": true
    },
    "kernelspec": {
      "display_name": "Python 3",
      "language": "python",
      "name": "python3"
    },
    "language_info": {
      "codemirror_mode": {
        "name": "ipython",
        "version": 3
      },
      "file_extension": ".py",
      "mimetype": "text/x-python",
      "name": "python",
      "nbconvert_exporter": "python",
      "pygments_lexer": "ipython3",
      "version": "3.9.4"
    },
    "nteract": {
      "version": "0.23.3"
    }
  },
  "nbformat": 4,
  "nbformat_minor": 0
}