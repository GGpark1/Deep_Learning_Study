{
  "nbformat": 4,
  "nbformat_minor": 0,
  "metadata": {
    "colab": {
      "name": "Chat bot_engine.ipynb",
      "provenance": [],
      "authorship_tag": "ABX9TyPxTq8ONq5BVL9GIN0VftcK",
      "include_colab_link": true
    },
    "kernelspec": {
      "name": "python3",
      "display_name": "Python 3"
    },
    "language_info": {
      "name": "python"
    }
  },
  "cells": [
    {
      "cell_type": "markdown",
      "metadata": {
        "id": "view-in-github",
        "colab_type": "text"
      },
      "source": [
        "<a href=\"https://colab.research.google.com/github/GGpark1/Deep_Learning_Study/blob/master/Chat_bot_engine.ipynb\" target=\"_parent\"><img src=\"https://colab.research.google.com/assets/colab-badge.svg\" alt=\"Open In Colab\"/></a>"
      ]
    },
    {
      "cell_type": "code",
      "source": [
        "!pip install konlpy"
      ],
      "metadata": {
        "colab": {
          "base_uri": "https://localhost:8080/"
        },
        "id": "XXhfrm6nMKPv",
        "outputId": "abf9abc9-6808-4d00-9439-b374d4d1340b"
      },
      "execution_count": 4,
      "outputs": [
        {
          "output_type": "stream",
          "name": "stdout",
          "text": [
            "Collecting konlpy\n",
            "  Downloading konlpy-0.6.0-py2.py3-none-any.whl (19.4 MB)\n",
            "\u001b[K     |████████████████████████████████| 19.4 MB 1.1 MB/s \n",
            "\u001b[?25hRequirement already satisfied: numpy>=1.6 in /usr/local/lib/python3.7/dist-packages (from konlpy) (1.21.5)\n",
            "Requirement already satisfied: lxml>=4.1.0 in /usr/local/lib/python3.7/dist-packages (from konlpy) (4.2.6)\n",
            "Collecting JPype1>=0.7.0\n",
            "  Downloading JPype1-1.3.0-cp37-cp37m-manylinux_2_5_x86_64.manylinux1_x86_64.whl (448 kB)\n",
            "\u001b[K     |████████████████████████████████| 448 kB 50.6 MB/s \n",
            "\u001b[?25hRequirement already satisfied: typing-extensions in /usr/local/lib/python3.7/dist-packages (from JPype1>=0.7.0->konlpy) (3.10.0.2)\n",
            "Installing collected packages: JPype1, konlpy\n",
            "Successfully installed JPype1-1.3.0 konlpy-0.6.0\n"
          ]
        }
      ]
    },
    {
      "cell_type": "code",
      "source": [
        "from konlpy.tag import Komoran"
      ],
      "metadata": {
        "id": "wGfKAgT0Ln_g"
      },
      "execution_count": 5,
      "outputs": []
    },
    {
      "cell_type": "code",
      "source": [
        "class Preprocess:\n",
        "    def __init__(self, userdic=None):\n",
        "        self.komoran = Komoran(userdic=userdic)\n",
        "        self.exclusion_tags = [\n",
        "                               'JKS', 'JKC', 'JKG', 'JKO', 'JKB', 'JKV', 'JKQ',\n",
        "                               'JX', 'JC',\n",
        "                               'SF', 'SP', 'SS', 'SO',\n",
        "                               'EP', 'EF', 'EC', 'ETN', 'ETM',\n",
        "                               'XSN', 'XSV', 'XSA'\n",
        "        ]\n",
        "\n",
        "    def pos(self, sentence):\n",
        "        return self.komoran.pos(sentence)\n",
        "\n",
        "    def get_keywords(self, pos, without_tag = False):\n",
        "        f = lambda x: x in self.exclusion_tags\n",
        "        word_list = []\n",
        "        for p in pos:\n",
        "            if f(p[1]) is False:\n",
        "                word_list.append(p if without_tag is False else p[0])\n",
        "        return word_list"
      ],
      "metadata": {
        "id": "pe-mHXYwMO1X"
      },
      "execution_count": 21,
      "outputs": []
    },
    {
      "cell_type": "code",
      "source": [
        "sent = \"청년수당 신청일을 알려주세요\"\n",
        "\n",
        "p = Preprocess(userdic='/content/user_dic.tsv')\n",
        "pos = p.pos(sent)\n",
        "ret = p.get_keywords(pos, without_tag=False)\n",
        "print(ret)"
      ],
      "metadata": {
        "colab": {
          "base_uri": "https://localhost:8080/"
        },
        "id": "x-1v9WtdOyRi",
        "outputId": "bfd8cea9-2f59-4f4d-e21c-0e974efbca2c"
      },
      "execution_count": 24,
      "outputs": [
        {
          "output_type": "stream",
          "name": "stdout",
          "text": [
            "[('청년', 'NNG'), ('수당', 'NNG'), ('신청', 'NNG'), ('일', 'NNG'), ('알리', 'VV'), ('주', 'VX')]\n"
          ]
        }
      ]
    },
    {
      "cell_type": "code",
      "source": [
        ""
      ],
      "metadata": {
        "id": "00WIa_-_PXV1"
      },
      "execution_count": null,
      "outputs": []
    }
  ]
}