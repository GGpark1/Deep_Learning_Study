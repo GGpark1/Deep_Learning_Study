{
  "nbformat": 4,
  "nbformat_minor": 0,
  "metadata": {
    "colab": {
      "name": "seq2seq.ipynb",
      "provenance": [],
      "authorship_tag": "ABX9TyPDZ054lBv9XruXmPZ34asH",
      "include_colab_link": true
    },
    "kernelspec": {
      "name": "python3",
      "display_name": "Python 3"
    },
    "language_info": {
      "name": "python"
    }
  },
  "cells": [
    {
      "cell_type": "markdown",
      "metadata": {
        "id": "view-in-github",
        "colab_type": "text"
      },
      "source": [
        "<a href=\"https://colab.research.google.com/github/GGpark1/Deep_Learning_Study/blob/master/seq2seq.ipynb\" target=\"_parent\"><img src=\"https://colab.research.google.com/assets/colab-badge.svg\" alt=\"Open In Colab\"/></a>"
      ]
    },
    {
      "cell_type": "code",
      "execution_count": 32,
      "metadata": {
        "id": "TlfxwraCshro"
      },
      "outputs": [],
      "source": [
        "import os\n",
        "import shutil\n",
        "import zipfile\n",
        "\n",
        "import pandas as pd\n",
        "import tensorflow as tf\n",
        "import urllib3\n",
        "from tensorflow.keras.preprocessing.sequence import pad_sequences\n",
        "from tensorflow.keras.utils import to_categorical"
      ]
    },
    {
      "cell_type": "code",
      "source": [
        "#파일 import\n",
        "\n",
        "http = urllib3.PoolManager()\n",
        "url ='http://www.manythings.org/anki/fra-eng.zip'\n",
        "filename = 'fra-eng.zip'\n",
        "path = os.getcwd()\n",
        "zipfilename = os.path.join(path, filename)\n",
        "with http.request('GET', url, preload_content=False) as r, open(zipfilename, 'wb') as out_file:       \n",
        "    shutil.copyfileobj(r, out_file)\n",
        "\n",
        "with zipfile.ZipFile(zipfilename, 'r') as zip_ref:\n",
        "    zip_ref.extractall(path)"
      ],
      "metadata": {
        "id": "BjGogEzYtRZ9"
      },
      "execution_count": 33,
      "outputs": []
    },
    {
      "cell_type": "code",
      "source": [
        "#df 구성\n",
        "\n",
        "lines = pd.read_csv('fra.txt', names=['src', 'tar', 'lic'], sep='\\t')\n",
        "del lines['lic']\n",
        "print('전체 샘플의 개수 :',len(lines))"
      ],
      "metadata": {
        "colab": {
          "base_uri": "https://localhost:8080/"
        },
        "id": "rLRKp8SjtWwv",
        "outputId": "ba5330fa-1e55-44cb-effb-aceb2d52f54b"
      },
      "execution_count": 34,
      "outputs": [
        {
          "output_type": "stream",
          "name": "stdout",
          "text": [
            "전체 샘플의 개수 : 192341\n"
          ]
        }
      ]
    },
    {
      "cell_type": "code",
      "source": [
        "lines.head()"
      ],
      "metadata": {
        "colab": {
          "base_uri": "https://localhost:8080/",
          "height": 206
        },
        "id": "oYqJ7e5NtcoD",
        "outputId": "89ba96b5-268f-41d8-eac8-373659c5cf40"
      },
      "execution_count": 35,
      "outputs": [
        {
          "output_type": "execute_result",
          "data": {
            "text/html": [
              "\n",
              "  <div id=\"df-a2c93165-680b-4b06-99ab-f38ce8d9cb4d\">\n",
              "    <div class=\"colab-df-container\">\n",
              "      <div>\n",
              "<style scoped>\n",
              "    .dataframe tbody tr th:only-of-type {\n",
              "        vertical-align: middle;\n",
              "    }\n",
              "\n",
              "    .dataframe tbody tr th {\n",
              "        vertical-align: top;\n",
              "    }\n",
              "\n",
              "    .dataframe thead th {\n",
              "        text-align: right;\n",
              "    }\n",
              "</style>\n",
              "<table border=\"1\" class=\"dataframe\">\n",
              "  <thead>\n",
              "    <tr style=\"text-align: right;\">\n",
              "      <th></th>\n",
              "      <th>src</th>\n",
              "      <th>tar</th>\n",
              "    </tr>\n",
              "  </thead>\n",
              "  <tbody>\n",
              "    <tr>\n",
              "      <th>0</th>\n",
              "      <td>Go.</td>\n",
              "      <td>Va !</td>\n",
              "    </tr>\n",
              "    <tr>\n",
              "      <th>1</th>\n",
              "      <td>Go.</td>\n",
              "      <td>Marche.</td>\n",
              "    </tr>\n",
              "    <tr>\n",
              "      <th>2</th>\n",
              "      <td>Go.</td>\n",
              "      <td>Bouge !</td>\n",
              "    </tr>\n",
              "    <tr>\n",
              "      <th>3</th>\n",
              "      <td>Hi.</td>\n",
              "      <td>Salut !</td>\n",
              "    </tr>\n",
              "    <tr>\n",
              "      <th>4</th>\n",
              "      <td>Hi.</td>\n",
              "      <td>Salut.</td>\n",
              "    </tr>\n",
              "  </tbody>\n",
              "</table>\n",
              "</div>\n",
              "      <button class=\"colab-df-convert\" onclick=\"convertToInteractive('df-a2c93165-680b-4b06-99ab-f38ce8d9cb4d')\"\n",
              "              title=\"Convert this dataframe to an interactive table.\"\n",
              "              style=\"display:none;\">\n",
              "        \n",
              "  <svg xmlns=\"http://www.w3.org/2000/svg\" height=\"24px\"viewBox=\"0 0 24 24\"\n",
              "       width=\"24px\">\n",
              "    <path d=\"M0 0h24v24H0V0z\" fill=\"none\"/>\n",
              "    <path d=\"M18.56 5.44l.94 2.06.94-2.06 2.06-.94-2.06-.94-.94-2.06-.94 2.06-2.06.94zm-11 1L8.5 8.5l.94-2.06 2.06-.94-2.06-.94L8.5 2.5l-.94 2.06-2.06.94zm10 10l.94 2.06.94-2.06 2.06-.94-2.06-.94-.94-2.06-.94 2.06-2.06.94z\"/><path d=\"M17.41 7.96l-1.37-1.37c-.4-.4-.92-.59-1.43-.59-.52 0-1.04.2-1.43.59L10.3 9.45l-7.72 7.72c-.78.78-.78 2.05 0 2.83L4 21.41c.39.39.9.59 1.41.59.51 0 1.02-.2 1.41-.59l7.78-7.78 2.81-2.81c.8-.78.8-2.07 0-2.86zM5.41 20L4 18.59l7.72-7.72 1.47 1.35L5.41 20z\"/>\n",
              "  </svg>\n",
              "      </button>\n",
              "      \n",
              "  <style>\n",
              "    .colab-df-container {\n",
              "      display:flex;\n",
              "      flex-wrap:wrap;\n",
              "      gap: 12px;\n",
              "    }\n",
              "\n",
              "    .colab-df-convert {\n",
              "      background-color: #E8F0FE;\n",
              "      border: none;\n",
              "      border-radius: 50%;\n",
              "      cursor: pointer;\n",
              "      display: none;\n",
              "      fill: #1967D2;\n",
              "      height: 32px;\n",
              "      padding: 0 0 0 0;\n",
              "      width: 32px;\n",
              "    }\n",
              "\n",
              "    .colab-df-convert:hover {\n",
              "      background-color: #E2EBFA;\n",
              "      box-shadow: 0px 1px 2px rgba(60, 64, 67, 0.3), 0px 1px 3px 1px rgba(60, 64, 67, 0.15);\n",
              "      fill: #174EA6;\n",
              "    }\n",
              "\n",
              "    [theme=dark] .colab-df-convert {\n",
              "      background-color: #3B4455;\n",
              "      fill: #D2E3FC;\n",
              "    }\n",
              "\n",
              "    [theme=dark] .colab-df-convert:hover {\n",
              "      background-color: #434B5C;\n",
              "      box-shadow: 0px 1px 3px 1px rgba(0, 0, 0, 0.15);\n",
              "      filter: drop-shadow(0px 1px 2px rgba(0, 0, 0, 0.3));\n",
              "      fill: #FFFFFF;\n",
              "    }\n",
              "  </style>\n",
              "\n",
              "      <script>\n",
              "        const buttonEl =\n",
              "          document.querySelector('#df-a2c93165-680b-4b06-99ab-f38ce8d9cb4d button.colab-df-convert');\n",
              "        buttonEl.style.display =\n",
              "          google.colab.kernel.accessAllowed ? 'block' : 'none';\n",
              "\n",
              "        async function convertToInteractive(key) {\n",
              "          const element = document.querySelector('#df-a2c93165-680b-4b06-99ab-f38ce8d9cb4d');\n",
              "          const dataTable =\n",
              "            await google.colab.kernel.invokeFunction('convertToInteractive',\n",
              "                                                     [key], {});\n",
              "          if (!dataTable) return;\n",
              "\n",
              "          const docLinkHtml = 'Like what you see? Visit the ' +\n",
              "            '<a target=\"_blank\" href=https://colab.research.google.com/notebooks/data_table.ipynb>data table notebook</a>'\n",
              "            + ' to learn more about interactive tables.';\n",
              "          element.innerHTML = '';\n",
              "          dataTable['output_type'] = 'display_data';\n",
              "          await google.colab.output.renderOutput(dataTable, element);\n",
              "          const docLink = document.createElement('div');\n",
              "          docLink.innerHTML = docLinkHtml;\n",
              "          element.appendChild(docLink);\n",
              "        }\n",
              "      </script>\n",
              "    </div>\n",
              "  </div>\n",
              "  "
            ],
            "text/plain": [
              "   src      tar\n",
              "0  Go.     Va !\n",
              "1  Go.  Marche.\n",
              "2  Go.  Bouge !\n",
              "3  Hi.  Salut !\n",
              "4  Hi.   Salut."
            ]
          },
          "metadata": {},
          "execution_count": 35
        }
      ]
    },
    {
      "cell_type": "code",
      "source": [
        "lines = lines[0:60000]"
      ],
      "metadata": {
        "id": "lch3QIHQtezM"
      },
      "execution_count": 36,
      "outputs": []
    },
    {
      "cell_type": "code",
      "source": [
        "lines.sample(10)"
      ],
      "metadata": {
        "colab": {
          "base_uri": "https://localhost:8080/",
          "height": 363
        },
        "id": "Ei9B82N-ttRP",
        "outputId": "5eac5608-4755-439a-adbd-a21454414c20"
      },
      "execution_count": 37,
      "outputs": [
        {
          "output_type": "execute_result",
          "data": {
            "text/html": [
              "\n",
              "  <div id=\"df-947113c2-31c1-4297-a695-73ed3d0426c6\">\n",
              "    <div class=\"colab-df-container\">\n",
              "      <div>\n",
              "<style scoped>\n",
              "    .dataframe tbody tr th:only-of-type {\n",
              "        vertical-align: middle;\n",
              "    }\n",
              "\n",
              "    .dataframe tbody tr th {\n",
              "        vertical-align: top;\n",
              "    }\n",
              "\n",
              "    .dataframe thead th {\n",
              "        text-align: right;\n",
              "    }\n",
              "</style>\n",
              "<table border=\"1\" class=\"dataframe\">\n",
              "  <thead>\n",
              "    <tr style=\"text-align: right;\">\n",
              "      <th></th>\n",
              "      <th>src</th>\n",
              "      <th>tar</th>\n",
              "    </tr>\n",
              "  </thead>\n",
              "  <tbody>\n",
              "    <tr>\n",
              "      <th>24483</th>\n",
              "      <td>Is that mandatory?</td>\n",
              "      <td>Est-ce obligatoire ?</td>\n",
              "    </tr>\n",
              "    <tr>\n",
              "      <th>24617</th>\n",
              "      <td>It was very windy.</td>\n",
              "      <td>C'était très venteux.</td>\n",
              "    </tr>\n",
              "    <tr>\n",
              "      <th>37704</th>\n",
              "      <td>They believe in God.</td>\n",
              "      <td>Eux croient en Dieu.</td>\n",
              "    </tr>\n",
              "    <tr>\n",
              "      <th>25208</th>\n",
              "      <td>She never told me.</td>\n",
              "      <td>Elle ne me l'a jamais dit.</td>\n",
              "    </tr>\n",
              "    <tr>\n",
              "      <th>5764</th>\n",
              "      <td>Tell me more.</td>\n",
              "      <td>Conte-m'en davantage !</td>\n",
              "    </tr>\n",
              "    <tr>\n",
              "      <th>5265</th>\n",
              "      <td>I'm stubborn.</td>\n",
              "      <td>Je suis obstinée.</td>\n",
              "    </tr>\n",
              "    <tr>\n",
              "      <th>7567</th>\n",
              "      <td>I'll get lost.</td>\n",
              "      <td>Je me perdrai.</td>\n",
              "    </tr>\n",
              "    <tr>\n",
              "      <th>36752</th>\n",
              "      <td>Look under the seat.</td>\n",
              "      <td>Regarde sous le siège.</td>\n",
              "    </tr>\n",
              "    <tr>\n",
              "      <th>3011</th>\n",
              "      <td>I can dance.</td>\n",
              "      <td>Je sais danser.</td>\n",
              "    </tr>\n",
              "    <tr>\n",
              "      <th>24949</th>\n",
              "      <td>My new car is red.</td>\n",
              "      <td>Ma nouvelle voiture est rouge.</td>\n",
              "    </tr>\n",
              "  </tbody>\n",
              "</table>\n",
              "</div>\n",
              "      <button class=\"colab-df-convert\" onclick=\"convertToInteractive('df-947113c2-31c1-4297-a695-73ed3d0426c6')\"\n",
              "              title=\"Convert this dataframe to an interactive table.\"\n",
              "              style=\"display:none;\">\n",
              "        \n",
              "  <svg xmlns=\"http://www.w3.org/2000/svg\" height=\"24px\"viewBox=\"0 0 24 24\"\n",
              "       width=\"24px\">\n",
              "    <path d=\"M0 0h24v24H0V0z\" fill=\"none\"/>\n",
              "    <path d=\"M18.56 5.44l.94 2.06.94-2.06 2.06-.94-2.06-.94-.94-2.06-.94 2.06-2.06.94zm-11 1L8.5 8.5l.94-2.06 2.06-.94-2.06-.94L8.5 2.5l-.94 2.06-2.06.94zm10 10l.94 2.06.94-2.06 2.06-.94-2.06-.94-.94-2.06-.94 2.06-2.06.94z\"/><path d=\"M17.41 7.96l-1.37-1.37c-.4-.4-.92-.59-1.43-.59-.52 0-1.04.2-1.43.59L10.3 9.45l-7.72 7.72c-.78.78-.78 2.05 0 2.83L4 21.41c.39.39.9.59 1.41.59.51 0 1.02-.2 1.41-.59l7.78-7.78 2.81-2.81c.8-.78.8-2.07 0-2.86zM5.41 20L4 18.59l7.72-7.72 1.47 1.35L5.41 20z\"/>\n",
              "  </svg>\n",
              "      </button>\n",
              "      \n",
              "  <style>\n",
              "    .colab-df-container {\n",
              "      display:flex;\n",
              "      flex-wrap:wrap;\n",
              "      gap: 12px;\n",
              "    }\n",
              "\n",
              "    .colab-df-convert {\n",
              "      background-color: #E8F0FE;\n",
              "      border: none;\n",
              "      border-radius: 50%;\n",
              "      cursor: pointer;\n",
              "      display: none;\n",
              "      fill: #1967D2;\n",
              "      height: 32px;\n",
              "      padding: 0 0 0 0;\n",
              "      width: 32px;\n",
              "    }\n",
              "\n",
              "    .colab-df-convert:hover {\n",
              "      background-color: #E2EBFA;\n",
              "      box-shadow: 0px 1px 2px rgba(60, 64, 67, 0.3), 0px 1px 3px 1px rgba(60, 64, 67, 0.15);\n",
              "      fill: #174EA6;\n",
              "    }\n",
              "\n",
              "    [theme=dark] .colab-df-convert {\n",
              "      background-color: #3B4455;\n",
              "      fill: #D2E3FC;\n",
              "    }\n",
              "\n",
              "    [theme=dark] .colab-df-convert:hover {\n",
              "      background-color: #434B5C;\n",
              "      box-shadow: 0px 1px 3px 1px rgba(0, 0, 0, 0.15);\n",
              "      filter: drop-shadow(0px 1px 2px rgba(0, 0, 0, 0.3));\n",
              "      fill: #FFFFFF;\n",
              "    }\n",
              "  </style>\n",
              "\n",
              "      <script>\n",
              "        const buttonEl =\n",
              "          document.querySelector('#df-947113c2-31c1-4297-a695-73ed3d0426c6 button.colab-df-convert');\n",
              "        buttonEl.style.display =\n",
              "          google.colab.kernel.accessAllowed ? 'block' : 'none';\n",
              "\n",
              "        async function convertToInteractive(key) {\n",
              "          const element = document.querySelector('#df-947113c2-31c1-4297-a695-73ed3d0426c6');\n",
              "          const dataTable =\n",
              "            await google.colab.kernel.invokeFunction('convertToInteractive',\n",
              "                                                     [key], {});\n",
              "          if (!dataTable) return;\n",
              "\n",
              "          const docLinkHtml = 'Like what you see? Visit the ' +\n",
              "            '<a target=\"_blank\" href=https://colab.research.google.com/notebooks/data_table.ipynb>data table notebook</a>'\n",
              "            + ' to learn more about interactive tables.';\n",
              "          element.innerHTML = '';\n",
              "          dataTable['output_type'] = 'display_data';\n",
              "          await google.colab.output.renderOutput(dataTable, element);\n",
              "          const docLink = document.createElement('div');\n",
              "          docLink.innerHTML = docLinkHtml;\n",
              "          element.appendChild(docLink);\n",
              "        }\n",
              "      </script>\n",
              "    </div>\n",
              "  </div>\n",
              "  "
            ],
            "text/plain": [
              "                        src                             tar\n",
              "24483    Is that mandatory?            Est-ce obligatoire ?\n",
              "24617    It was very windy.           C'était très venteux.\n",
              "37704  They believe in God.            Eux croient en Dieu.\n",
              "25208    She never told me.      Elle ne me l'a jamais dit.\n",
              "5764          Tell me more.          Conte-m'en davantage !\n",
              "5265          I'm stubborn.               Je suis obstinée.\n",
              "7567         I'll get lost.                  Je me perdrai.\n",
              "36752  Look under the seat.          Regarde sous le siège.\n",
              "3011           I can dance.                 Je sais danser.\n",
              "24949    My new car is red.  Ma nouvelle voiture est rouge."
            ]
          },
          "metadata": {},
          "execution_count": 37
        }
      ]
    },
    {
      "cell_type": "code",
      "source": [
        "#디코딩 문장의 앞 뒤에 시작과 종료 표시\n",
        "\n",
        "lines.tar = lines.tar.apply(lambda x : '\\t ' + x + ' \\n')\n",
        "lines.sample(10)"
      ],
      "metadata": {
        "colab": {
          "base_uri": "https://localhost:8080/",
          "height": 363
        },
        "id": "LofuSx-otvvH",
        "outputId": "7b7acf91-b8f8-42c3-e688-cd0a9e3bddb0"
      },
      "execution_count": 38,
      "outputs": [
        {
          "output_type": "execute_result",
          "data": {
            "text/html": [
              "\n",
              "  <div id=\"df-0e000d48-35f3-4551-a5f9-13e6708314e8\">\n",
              "    <div class=\"colab-df-container\">\n",
              "      <div>\n",
              "<style scoped>\n",
              "    .dataframe tbody tr th:only-of-type {\n",
              "        vertical-align: middle;\n",
              "    }\n",
              "\n",
              "    .dataframe tbody tr th {\n",
              "        vertical-align: top;\n",
              "    }\n",
              "\n",
              "    .dataframe thead th {\n",
              "        text-align: right;\n",
              "    }\n",
              "</style>\n",
              "<table border=\"1\" class=\"dataframe\">\n",
              "  <thead>\n",
              "    <tr style=\"text-align: right;\">\n",
              "      <th></th>\n",
              "      <th>src</th>\n",
              "      <th>tar</th>\n",
              "    </tr>\n",
              "  </thead>\n",
              "  <tbody>\n",
              "    <tr>\n",
              "      <th>22611</th>\n",
              "      <td>Don't tell anyone.</td>\n",
              "      <td>\\t Ne le dites à quiconque ! \\n</td>\n",
              "    </tr>\n",
              "    <tr>\n",
              "      <th>42325</th>\n",
              "      <td>I want you to try it.</td>\n",
              "      <td>\\t Je veux que tu l'essayes. \\n</td>\n",
              "    </tr>\n",
              "    <tr>\n",
              "      <th>32571</th>\n",
              "      <td>We're not sure yet.</td>\n",
              "      <td>\\t Nous n'en sommes pas encore sûrs. \\n</td>\n",
              "    </tr>\n",
              "    <tr>\n",
              "      <th>39381</th>\n",
              "      <td>You have to help me.</td>\n",
              "      <td>\\t Vous devez m'aider. \\n</td>\n",
              "    </tr>\n",
              "    <tr>\n",
              "      <th>39502</th>\n",
              "      <td>You sure are pretty.</td>\n",
              "      <td>\\t Tu es vraiment jolie. \\n</td>\n",
              "    </tr>\n",
              "    <tr>\n",
              "      <th>31695</th>\n",
              "      <td>This is a big help.</td>\n",
              "      <td>\\t Ceci est d'une grande aide. \\n</td>\n",
              "    </tr>\n",
              "    <tr>\n",
              "      <th>37397</th>\n",
              "      <td>That's Tom's sister.</td>\n",
              "      <td>\\t C'est la sœur de Tom. \\n</td>\n",
              "    </tr>\n",
              "    <tr>\n",
              "      <th>13524</th>\n",
              "      <td>He's a good lad.</td>\n",
              "      <td>\\t C'est un mec bien. \\n</td>\n",
              "    </tr>\n",
              "    <tr>\n",
              "      <th>59866</th>\n",
              "      <td>Who're you calling now?</td>\n",
              "      <td>\\t Qui es-tu en train d'appeler ? \\n</td>\n",
              "    </tr>\n",
              "    <tr>\n",
              "      <th>58025</th>\n",
              "      <td>That's not my decision.</td>\n",
              "      <td>\\t Ce n'est pas ma décision. \\n</td>\n",
              "    </tr>\n",
              "  </tbody>\n",
              "</table>\n",
              "</div>\n",
              "      <button class=\"colab-df-convert\" onclick=\"convertToInteractive('df-0e000d48-35f3-4551-a5f9-13e6708314e8')\"\n",
              "              title=\"Convert this dataframe to an interactive table.\"\n",
              "              style=\"display:none;\">\n",
              "        \n",
              "  <svg xmlns=\"http://www.w3.org/2000/svg\" height=\"24px\"viewBox=\"0 0 24 24\"\n",
              "       width=\"24px\">\n",
              "    <path d=\"M0 0h24v24H0V0z\" fill=\"none\"/>\n",
              "    <path d=\"M18.56 5.44l.94 2.06.94-2.06 2.06-.94-2.06-.94-.94-2.06-.94 2.06-2.06.94zm-11 1L8.5 8.5l.94-2.06 2.06-.94-2.06-.94L8.5 2.5l-.94 2.06-2.06.94zm10 10l.94 2.06.94-2.06 2.06-.94-2.06-.94-.94-2.06-.94 2.06-2.06.94z\"/><path d=\"M17.41 7.96l-1.37-1.37c-.4-.4-.92-.59-1.43-.59-.52 0-1.04.2-1.43.59L10.3 9.45l-7.72 7.72c-.78.78-.78 2.05 0 2.83L4 21.41c.39.39.9.59 1.41.59.51 0 1.02-.2 1.41-.59l7.78-7.78 2.81-2.81c.8-.78.8-2.07 0-2.86zM5.41 20L4 18.59l7.72-7.72 1.47 1.35L5.41 20z\"/>\n",
              "  </svg>\n",
              "      </button>\n",
              "      \n",
              "  <style>\n",
              "    .colab-df-container {\n",
              "      display:flex;\n",
              "      flex-wrap:wrap;\n",
              "      gap: 12px;\n",
              "    }\n",
              "\n",
              "    .colab-df-convert {\n",
              "      background-color: #E8F0FE;\n",
              "      border: none;\n",
              "      border-radius: 50%;\n",
              "      cursor: pointer;\n",
              "      display: none;\n",
              "      fill: #1967D2;\n",
              "      height: 32px;\n",
              "      padding: 0 0 0 0;\n",
              "      width: 32px;\n",
              "    }\n",
              "\n",
              "    .colab-df-convert:hover {\n",
              "      background-color: #E2EBFA;\n",
              "      box-shadow: 0px 1px 2px rgba(60, 64, 67, 0.3), 0px 1px 3px 1px rgba(60, 64, 67, 0.15);\n",
              "      fill: #174EA6;\n",
              "    }\n",
              "\n",
              "    [theme=dark] .colab-df-convert {\n",
              "      background-color: #3B4455;\n",
              "      fill: #D2E3FC;\n",
              "    }\n",
              "\n",
              "    [theme=dark] .colab-df-convert:hover {\n",
              "      background-color: #434B5C;\n",
              "      box-shadow: 0px 1px 3px 1px rgba(0, 0, 0, 0.15);\n",
              "      filter: drop-shadow(0px 1px 2px rgba(0, 0, 0, 0.3));\n",
              "      fill: #FFFFFF;\n",
              "    }\n",
              "  </style>\n",
              "\n",
              "      <script>\n",
              "        const buttonEl =\n",
              "          document.querySelector('#df-0e000d48-35f3-4551-a5f9-13e6708314e8 button.colab-df-convert');\n",
              "        buttonEl.style.display =\n",
              "          google.colab.kernel.accessAllowed ? 'block' : 'none';\n",
              "\n",
              "        async function convertToInteractive(key) {\n",
              "          const element = document.querySelector('#df-0e000d48-35f3-4551-a5f9-13e6708314e8');\n",
              "          const dataTable =\n",
              "            await google.colab.kernel.invokeFunction('convertToInteractive',\n",
              "                                                     [key], {});\n",
              "          if (!dataTable) return;\n",
              "\n",
              "          const docLinkHtml = 'Like what you see? Visit the ' +\n",
              "            '<a target=\"_blank\" href=https://colab.research.google.com/notebooks/data_table.ipynb>data table notebook</a>'\n",
              "            + ' to learn more about interactive tables.';\n",
              "          element.innerHTML = '';\n",
              "          dataTable['output_type'] = 'display_data';\n",
              "          await google.colab.output.renderOutput(dataTable, element);\n",
              "          const docLink = document.createElement('div');\n",
              "          docLink.innerHTML = docLinkHtml;\n",
              "          element.appendChild(docLink);\n",
              "        }\n",
              "      </script>\n",
              "    </div>\n",
              "  </div>\n",
              "  "
            ],
            "text/plain": [
              "                           src                                      tar\n",
              "22611       Don't tell anyone.          \\t Ne le dites à quiconque ! \\n\n",
              "42325    I want you to try it.          \\t Je veux que tu l'essayes. \\n\n",
              "32571      We're not sure yet.  \\t Nous n'en sommes pas encore sûrs. \\n\n",
              "39381     You have to help me.                \\t Vous devez m'aider. \\n\n",
              "39502     You sure are pretty.              \\t Tu es vraiment jolie. \\n\n",
              "31695      This is a big help.        \\t Ceci est d'une grande aide. \\n\n",
              "37397     That's Tom's sister.              \\t C'est la sœur de Tom. \\n\n",
              "13524         He's a good lad.                 \\t C'est un mec bien. \\n\n",
              "59866  Who're you calling now?     \\t Qui es-tu en train d'appeler ? \\n\n",
              "58025  That's not my decision.          \\t Ce n'est pas ma décision. \\n"
            ]
          },
          "metadata": {},
          "execution_count": 38
        }
      ]
    },
    {
      "cell_type": "code",
      "source": [
        "#문자 집합 구축\n",
        "\n",
        "src_vocab = set()\n",
        "for line in lines.src:\n",
        "    for char in line:\n",
        "        src_vocab.add(char)\n",
        "\n",
        "tar_vocab = set()\n",
        "for line in lines.tar:\n",
        "    for char in line:\n",
        "        tar_vocab.add(char)"
      ],
      "metadata": {
        "id": "3tJGyDFayBjq"
      },
      "execution_count": 39,
      "outputs": []
    },
    {
      "cell_type": "code",
      "source": [
        "#문자 집합 사이즈 정의\n",
        "\n",
        "src_vocab_size = len(src_vocab) + 1\n",
        "tar_vocab_size = len(tar_vocab) + 1\n",
        "\n",
        "print(src_vocab_size)\n",
        "print(tar_vocab_size)"
      ],
      "metadata": {
        "colab": {
          "base_uri": "https://localhost:8080/"
        },
        "id": "NHnMRCsMGXxv",
        "outputId": "be94423b-2c0e-4832-8c76-289d1c2c799d"
      },
      "execution_count": 40,
      "outputs": [
        {
          "output_type": "stream",
          "name": "stdout",
          "text": [
            "80\n",
            "105\n"
          ]
        }
      ]
    },
    {
      "cell_type": "code",
      "source": [
        "#문자 집합 리스트화\n",
        "\n",
        "src_vocab = sorted(list(src_vocab))\n",
        "tar_vocab = sorted(list(tar_vocab))\n",
        "\n",
        "print(src_vocab[45:75])\n",
        "print(tar_vocab[0:10])"
      ],
      "metadata": {
        "colab": {
          "base_uri": "https://localhost:8080/"
        },
        "id": "6zbvmIC6Gta8",
        "outputId": "cd73897b-401e-42b9-b9ea-5401c84ccd51"
      },
      "execution_count": 41,
      "outputs": [
        {
          "output_type": "stream",
          "name": "stdout",
          "text": [
            "['W', 'X', 'Y', 'Z', 'a', 'b', 'c', 'd', 'e', 'f', 'g', 'h', 'i', 'j', 'k', 'l', 'm', 'n', 'o', 'p', 'q', 'r', 's', 't', 'u', 'v', 'w', 'x', 'y', 'z']\n",
            "['\\t', '\\n', ' ', '!', '\"', '$', '%', '&', \"'\", '(']\n"
          ]
        }
      ]
    },
    {
      "cell_type": "code",
      "source": [
        "#문자에 인덱스 번호 부여\n",
        "src_to_index = dict([(word, i+1) for i, word in enumerate(src_vocab)])\n",
        "tar_to_index = dict([(word, i+1) for i, word in enumerate(tar_vocab)])"
      ],
      "metadata": {
        "id": "1767kuUHHZy6"
      },
      "execution_count": 42,
      "outputs": []
    },
    {
      "cell_type": "code",
      "source": [
        "#훈련 데이터 정수 인코딩\n",
        "\n",
        "encoder_input = []\n",
        "\n",
        "#문장 1개\n",
        "for line in lines.src:\n",
        "    encoded_line = []\n",
        "    # 각 줄에서 1개의 char\n",
        "    for char in line:\n",
        "        #각 char을 정수로 변환\n",
        "        encoded_line.append(src_to_index[char])\n",
        "    encoder_input.append(encoded_line)\n",
        "\n",
        "print(encoder_input[:5])"
      ],
      "metadata": {
        "colab": {
          "base_uri": "https://localhost:8080/"
        },
        "id": "qrP_6JP8IIyO",
        "outputId": "3aa40f67-1f62-4059-a55c-2b8bdc024893"
      },
      "execution_count": 43,
      "outputs": [
        {
          "output_type": "stream",
          "name": "stdout",
          "text": [
            "[[30, 64, 10], [30, 64, 10], [30, 64, 10], [31, 58, 10], [31, 58, 10]]\n"
          ]
        }
      ]
    },
    {
      "cell_type": "code",
      "source": [
        "#테스트 데이터 정수 인코딩\n",
        "\n",
        "decoder_input = []\n",
        "for line in lines.tar:\n",
        "    encoded_line = []\n",
        "    for char in line:\n",
        "        encoded_line.append(tar_to_index[char])\n",
        "    decoder_input.append(encoded_line)\n",
        "\n",
        "print(decoder_input[:5])"
      ],
      "metadata": {
        "colab": {
          "base_uri": "https://localhost:8080/"
        },
        "id": "1rbU2LG5Jedq",
        "outputId": "a774eaeb-21c6-4052-9990-84cfba13b761"
      },
      "execution_count": 44,
      "outputs": [
        {
          "output_type": "stream",
          "name": "stdout",
          "text": [
            "[[1, 3, 48, 53, 3, 4, 3, 2], [1, 3, 39, 53, 70, 55, 60, 57, 14, 3, 2], [1, 3, 28, 67, 73, 59, 57, 3, 4, 3, 2], [1, 3, 45, 53, 64, 73, 72, 3, 4, 3, 2], [1, 3, 45, 53, 64, 73, 72, 14, 3, 2]]\n"
          ]
        }
      ]
    },
    {
      "cell_type": "code",
      "source": [
        "#디코더 출력값과 비교할 실제값 \n",
        "decoder_target = []\n",
        "for line in lines.tar:\n",
        "    timestep = 0\n",
        "    encoded_line = []\n",
        "    for char in line:\n",
        "        if timestep > 0:\n",
        "            encoded_line.append(tar_to_index[char])\n",
        "        timestep = timestep + 1\n",
        "    decoder_target.append(encoded_line)\n",
        "print(decoder_target[:5])"
      ],
      "metadata": {
        "colab": {
          "base_uri": "https://localhost:8080/"
        },
        "id": "8AQ4WqTvKGQE",
        "outputId": "e95ea41c-9ad1-409a-eec9-e33d6c8df96f"
      },
      "execution_count": 45,
      "outputs": [
        {
          "output_type": "stream",
          "name": "stdout",
          "text": [
            "[[3, 48, 53, 3, 4, 3, 2], [3, 39, 53, 70, 55, 60, 57, 14, 3, 2], [3, 28, 67, 73, 59, 57, 3, 4, 3, 2], [3, 45, 53, 64, 73, 72, 3, 4, 3, 2], [3, 45, 53, 64, 73, 72, 14, 3, 2]]\n"
          ]
        }
      ]
    },
    {
      "cell_type": "code",
      "source": [
        "#패딩 처리를 위한 데이터 샘플 길이 확인\n",
        "\n",
        "max_src_len = max([len(line) for line in lines.src])\n",
        "max_tar_len = max([len(line) for line in lines.tar])\n",
        "\n",
        "print(max_src_len)\n",
        "print(max_tar_len)"
      ],
      "metadata": {
        "colab": {
          "base_uri": "https://localhost:8080/"
        },
        "id": "kM_tw-UrLfP1",
        "outputId": "a4ff5960-a973-4ae7-aa87-718eaea3bcdb"
      },
      "execution_count": 46,
      "outputs": [
        {
          "output_type": "stream",
          "name": "stdout",
          "text": [
            "23\n",
            "76\n"
          ]
        }
      ]
    },
    {
      "cell_type": "code",
      "source": [
        "#패딩\n",
        "\n",
        "encoder_input = pad_sequences(encoder_input, maxlen=max_src_len, padding='post')\n",
        "decoder_input = pad_sequences(decoder_input, maxlen=max_tar_len, padding='post')\n",
        "decoder_target = pad_sequences(decoder_target, maxlen=max_tar_len, padding='post')"
      ],
      "metadata": {
        "id": "Li3pnq9WL74O"
      },
      "execution_count": 47,
      "outputs": []
    },
    {
      "cell_type": "code",
      "source": [
        "#학습을 위해 정수 인코딩을 원핫인코딩으로 전환\n",
        "\n",
        "encoder_input = to_categorical(encoder_input)\n",
        "decoder_input = to_categorical(decoder_input) \n",
        "decoder_target = to_categorical(decoder_target)"
      ],
      "metadata": {
        "id": "IBMtuB6GNfaa"
      },
      "execution_count": 48,
      "outputs": []
    },
    {
      "cell_type": "code",
      "source": [
        "from tensorflow.keras.layers import Input, LSTM, Embedding, Dense\n",
        "from tensorflow.keras.models import Model\n",
        "import numpy as np"
      ],
      "metadata": {
        "id": "fRUyn7TKN02J"
      },
      "execution_count": 49,
      "outputs": []
    },
    {
      "cell_type": "code",
      "source": [
        "#교사 강요\n",
        "\n",
        "encoder_inputs = Input(shape = (None, src_vocab_size))\n",
        "encoder_lstm = LSTM(units=256, return_state=True) #return_seqeunces가 True인 경우 모든 시점의 은닉 상태가 첫번째 값으로 출력됨(encoder_outputs)\n",
        "\n",
        "encoder_outputs, state_h, state_c = encoder_lstm(encoder_inputs) #각각 최종 은닉 상태, 마지막 시점의 은닉 상태(앞의 값과 같음), 마지막 시점의 셀 상태\n",
        "encoder_states = [state_h, state_c] #디코더에 넘겨주기 위한 컨텍스트 벡터"
      ],
      "metadata": {
        "id": "BughqHAT0nVa"
      },
      "execution_count": 50,
      "outputs": []
    },
    {
      "cell_type": "code",
      "source": [
        "#디코더 설계\n",
        "\n",
        "decoder_inputs = Input(shape=(None, tar_vocab_size))\n",
        "decoder_lstm = LSTM(units=256, return_sequences=True, return_state=True)\n",
        "\n",
        "#디코더에 인코더의 컨텍스트 벡터를 넘겨줌\n",
        "decoder_outputs, _, _ = decoder_lstm(decoder_inputs, initial_state=encoder_states)\n",
        "\n",
        "decoder_softmax_layer = Dense(tar_vocab_size, activation='softmax')\n",
        "decoder_outputs = decoder_softmax_layer(decoder_outputs)\n",
        "\n",
        "model = Model([encoder_inputs, decoder_inputs], decoder_outputs)\n",
        "model.compile(optimizer='rmsprop', loss='categorical_crossentropy')"
      ],
      "metadata": {
        "id": "t1_OF7Jn3bfE"
      },
      "execution_count": 51,
      "outputs": []
    },
    {
      "cell_type": "code",
      "source": [
        "model.fit(x=[encoder_input, decoder_input], y=decoder_target, batch_size=64, epochs=40, validation_split=0.2)"
      ],
      "metadata": {
        "id": "smxvlMvT5yj4",
        "outputId": "51d8e4e3-0f5f-449e-fc3d-c84ee31a5ad7",
        "colab": {
          "base_uri": "https://localhost:8080/"
        }
      },
      "execution_count": 52,
      "outputs": [
        {
          "output_type": "stream",
          "name": "stdout",
          "text": [
            "Epoch 1/40\n",
            "750/750 [==============================] - 346s 457ms/step - loss: 0.7480 - val_loss: 0.6706\n",
            "Epoch 2/40\n",
            "750/750 [==============================] - 340s 453ms/step - loss: 0.4591 - val_loss: 0.5420\n",
            "Epoch 3/40\n",
            "750/750 [==============================] - 343s 458ms/step - loss: 0.3828 - val_loss: 0.4718\n",
            "Epoch 4/40\n",
            "750/750 [==============================] - 343s 457ms/step - loss: 0.3395 - val_loss: 0.4328\n",
            "Epoch 5/40\n",
            "750/750 [==============================] - 339s 452ms/step - loss: 0.3104 - val_loss: 0.4074\n",
            "Epoch 6/40\n",
            "750/750 [==============================] - 340s 453ms/step - loss: 0.2890 - val_loss: 0.3910\n",
            "Epoch 7/40\n",
            "750/750 [==============================] - 343s 457ms/step - loss: 0.2729 - val_loss: 0.3812\n",
            "Epoch 8/40\n",
            "750/750 [==============================] - 336s 448ms/step - loss: 0.2600 - val_loss: 0.3706\n",
            "Epoch 9/40\n",
            "750/750 [==============================] - 343s 458ms/step - loss: 0.2493 - val_loss: 0.3651\n",
            "Epoch 10/40\n",
            "750/750 [==============================] - 343s 457ms/step - loss: 0.2400 - val_loss: 0.3604\n",
            "Epoch 11/40\n",
            "750/750 [==============================] - 341s 455ms/step - loss: 0.2317 - val_loss: 0.3563\n",
            "Epoch 12/40\n",
            "750/750 [==============================] - 342s 456ms/step - loss: 0.2243 - val_loss: 0.3543\n",
            "Epoch 13/40\n",
            "750/750 [==============================] - 342s 456ms/step - loss: 0.2178 - val_loss: 0.3508\n",
            "Epoch 14/40\n",
            "750/750 [==============================] - 343s 458ms/step - loss: 0.2117 - val_loss: 0.3502\n",
            "Epoch 15/40\n",
            "750/750 [==============================] - 342s 456ms/step - loss: 0.2062 - val_loss: 0.3494\n",
            "Epoch 16/40\n",
            "750/750 [==============================] - 341s 455ms/step - loss: 0.2011 - val_loss: 0.3494\n",
            "Epoch 17/40\n",
            "750/750 [==============================] - 338s 451ms/step - loss: 0.1964 - val_loss: 0.3483\n",
            "Epoch 18/40\n",
            "750/750 [==============================] - 345s 460ms/step - loss: 0.1920 - val_loss: 0.3497\n",
            "Epoch 19/40\n",
            "750/750 [==============================] - 348s 464ms/step - loss: 0.1879 - val_loss: 0.3517\n",
            "Epoch 20/40\n",
            "750/750 [==============================] - 338s 450ms/step - loss: 0.1840 - val_loss: 0.3514\n",
            "Epoch 21/40\n",
            "750/750 [==============================] - 340s 454ms/step - loss: 0.1804 - val_loss: 0.3529\n",
            "Epoch 22/40\n",
            "750/750 [==============================] - 340s 453ms/step - loss: 0.1770 - val_loss: 0.3542\n",
            "Epoch 23/40\n",
            "750/750 [==============================] - 347s 462ms/step - loss: 0.1737 - val_loss: 0.3575\n",
            "Epoch 24/40\n",
            "750/750 [==============================] - 338s 451ms/step - loss: 0.1706 - val_loss: 0.3573\n",
            "Epoch 25/40\n",
            "750/750 [==============================] - 337s 449ms/step - loss: 0.1675 - val_loss: 0.3604\n",
            "Epoch 26/40\n",
            "750/750 [==============================] - 344s 458ms/step - loss: 0.1646 - val_loss: 0.3617\n",
            "Epoch 27/40\n",
            "750/750 [==============================] - 344s 458ms/step - loss: 0.1620 - val_loss: 0.3648\n",
            "Epoch 28/40\n",
            "750/750 [==============================] - 342s 456ms/step - loss: 0.1595 - val_loss: 0.3675\n",
            "Epoch 29/40\n",
            "750/750 [==============================] - 342s 456ms/step - loss: 0.1570 - val_loss: 0.3690\n",
            "Epoch 30/40\n",
            "750/750 [==============================] - 344s 459ms/step - loss: 0.1547 - val_loss: 0.3721\n",
            "Epoch 31/40\n",
            "750/750 [==============================] - 344s 458ms/step - loss: 0.1523 - val_loss: 0.3744\n",
            "Epoch 32/40\n",
            "750/750 [==============================] - 339s 453ms/step - loss: 0.1503 - val_loss: 0.3767\n",
            "Epoch 33/40\n",
            "750/750 [==============================] - 340s 453ms/step - loss: 0.1480 - val_loss: 0.3802\n",
            "Epoch 34/40\n",
            "750/750 [==============================] - 340s 453ms/step - loss: 0.1461 - val_loss: 0.3810\n",
            "Epoch 35/40\n",
            "750/750 [==============================] - 339s 452ms/step - loss: 0.1441 - val_loss: 0.3832\n",
            "Epoch 36/40\n",
            "750/750 [==============================] - 341s 454ms/step - loss: 0.1423 - val_loss: 0.3860\n",
            "Epoch 37/40\n",
            "750/750 [==============================] - 343s 457ms/step - loss: 0.1405 - val_loss: 0.3897\n",
            "Epoch 38/40\n",
            "750/750 [==============================] - 342s 456ms/step - loss: 0.1388 - val_loss: 0.3931\n",
            "Epoch 39/40\n",
            "750/750 [==============================] - 339s 452ms/step - loss: 0.1372 - val_loss: 0.3949\n",
            "Epoch 40/40\n",
            "750/750 [==============================] - 343s 457ms/step - loss: 0.1356 - val_loss: 0.3989\n"
          ]
        },
        {
          "output_type": "execute_result",
          "data": {
            "text/plain": [
              "<keras.callbacks.History at 0x7fb1abdad050>"
            ]
          },
          "metadata": {},
          "execution_count": 52
        }
      ]
    },
    {
      "cell_type": "code",
      "source": [
        "encoder_model = Model(inputs=encoder_inputs, outputs=encoder_states)"
      ],
      "metadata": {
        "id": "1xX5_UYj27o3"
      },
      "execution_count": 53,
      "outputs": []
    },
    {
      "cell_type": "code",
      "source": [
        "# 이전 시점의 상태들을 저장하는 텐서\n",
        "decoder_state_input_h = Input(shape=(256,))\n",
        "decoder_state_input_c = Input(shape=(256,))\n",
        "decoder_states_inputs = [decoder_state_input_h, decoder_state_input_c]\n",
        "\n",
        "# 문장의 다음 단어를 예측하기 위해서 초기 상태(initial_state)를 이전 시점의 상태로 사용.\n",
        "# 뒤의 함수 decode_sequence()에 동작을 구현 예정\n",
        "decoder_outputs, state_h, state_c = decoder_lstm(decoder_inputs, initial_state=decoder_states_inputs)\n",
        "\n",
        "# 훈련 과정에서와 달리 LSTM의 리턴하는 은닉 상태와 셀 상태를 버리지 않음.\n",
        "decoder_states = [state_h, state_c]\n",
        "decoder_outputs = decoder_softmax_layer(decoder_outputs)\n",
        "decoder_model = Model(inputs=[decoder_inputs] + decoder_states_inputs, outputs=[decoder_outputs] + decoder_states)"
      ],
      "metadata": {
        "id": "98W-s89f3Cn0"
      },
      "execution_count": 54,
      "outputs": []
    },
    {
      "cell_type": "code",
      "source": [
        "index_to_src = dict((i, char) for char, i in src_to_index.items())\n",
        "index_to_tar = dict((i, char) for char, i in tar_to_index.items())"
      ],
      "metadata": {
        "id": "EO1NTN-k3QML"
      },
      "execution_count": 55,
      "outputs": []
    },
    {
      "cell_type": "code",
      "source": [
        "def decode_sequence(input_seq):\n",
        "  # 입력으로부터 인코더의 상태를 얻음\n",
        "  states_value = encoder_model.predict(input_seq)\n",
        "\n",
        "  # <SOS>에 해당하는 원-핫 벡터 생성\n",
        "  target_seq = np.zeros((1, 1, tar_vocab_size))\n",
        "  target_seq[0, 0, tar_to_index['\\t']] = 1.\n",
        "\n",
        "  stop_condition = False\n",
        "  decoded_sentence = \"\"\n",
        "\n",
        "  # stop_condition이 True가 될 때까지 루프 반복\n",
        "  while not stop_condition:\n",
        "    # 이점 시점의 상태 states_value를 현 시점의 초기 상태로 사용\n",
        "    output_tokens, h, c = decoder_model.predict([target_seq] + states_value)\n",
        "\n",
        "    # 예측 결과를 문자로 변환\n",
        "    sampled_token_index = np.argmax(output_tokens[0, -1, :])\n",
        "    sampled_char = index_to_tar[sampled_token_index]\n",
        "\n",
        "    # 현재 시점의 예측 문자를 예측 문장에 추가\n",
        "    decoded_sentence += sampled_char\n",
        "\n",
        "    # <eos>에 도달하거나 최대 길이를 넘으면 중단.\n",
        "    if (sampled_char == '\\n' or\n",
        "        len(decoded_sentence) > max_tar_len):\n",
        "        stop_condition = True\n",
        "\n",
        "    # 현재 시점의 예측 결과를 다음 시점의 입력으로 사용하기 위해 저장\n",
        "    target_seq = np.zeros((1, 1, tar_vocab_size))\n",
        "    target_seq[0, 0, sampled_token_index] = 1.\n",
        "\n",
        "    # 현재 시점의 상태를 다음 시점의 상태로 사용하기 위해 저장\n",
        "    states_value = [h, c]\n",
        "\n",
        "  return decoded_sentence"
      ],
      "metadata": {
        "id": "IjIOzS-T3dkz"
      },
      "execution_count": 56,
      "outputs": []
    },
    {
      "cell_type": "code",
      "source": [
        "for seq_index in [3,50,100,300,1001]: # 입력 문장의 인덱스\n",
        "  input_seq = encoder_input[seq_index:seq_index+1]\n",
        "  decoded_sentence = decode_sequence(input_seq)\n",
        "  print(35 * \"-\")\n",
        "  print('입력 문장:', lines.src[seq_index])\n",
        "  print('정답 문장:', lines.tar[seq_index][2:len(lines.tar[seq_index])-1]) # '\\t'와 '\\n'을 빼고 출력\n",
        "  print('번역 문장:', decoded_sentence[1:len(decoded_sentence)-1]) # '\\n'을 빼고 출력"
      ],
      "metadata": {
        "id": "KVsh9RXH3fQR",
        "outputId": "725f9153-f5b9-4eb4-9ca3-b3d12015b08b",
        "colab": {
          "base_uri": "https://localhost:8080/"
        }
      },
      "execution_count": 57,
      "outputs": [
        {
          "output_type": "stream",
          "name": "stdout",
          "text": [
            "-----------------------------------\n",
            "입력 문장: Hi.\n",
            "정답 문장: Salut ! \n",
            "번역 문장: Salut. \n",
            "-----------------------------------\n",
            "입력 문장: I see.\n",
            "정답 문장: Aha. \n",
            "번역 문장: Je suis devant. \n",
            "-----------------------------------\n",
            "입력 문장: Hug me.\n",
            "정답 문장: Serrez-moi dans vos bras ! \n",
            "번역 문장: Serrez-moi dans vos concances. \n",
            "-----------------------------------\n",
            "입력 문장: Help me.\n",
            "정답 문장: Aidez-moi. \n",
            "번역 문장: Aide-moi. \n",
            "-----------------------------------\n",
            "입력 문장: I am sure.\n",
            "정답 문장: Je suis sûr. \n",
            "번역 문장: Je suis tellement occupé. \n"
          ]
        }
      ]
    }
  ]
}