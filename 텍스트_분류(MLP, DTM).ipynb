{
  "nbformat": 4,
  "nbformat_minor": 0,
  "metadata": {
    "colab": {
      "name": "텍스트 분류(MLP, DTM).ipynb",
      "provenance": [],
      "authorship_tag": "ABX9TyMFlaWex78w5NNc0paBFp/M",
      "include_colab_link": true
    },
    "kernelspec": {
      "name": "python3",
      "display_name": "Python 3"
    },
    "language_info": {
      "name": "python"
    }
  },
  "cells": [
    {
      "cell_type": "markdown",
      "metadata": {
        "id": "view-in-github",
        "colab_type": "text"
      },
      "source": [
        "<a href=\"https://colab.research.google.com/github/GGpark1/Deep_Learning_Study/blob/master/%ED%85%8D%EC%8A%A4%ED%8A%B8_%EB%B6%84%EB%A5%98(MLP%2C%20DTM).ipynb\" target=\"_parent\"><img src=\"https://colab.research.google.com/assets/colab-badge.svg\" alt=\"Open In Colab\"/></a>"
      ]
    },
    {
      "cell_type": "markdown",
      "source": [
        "다층 퍼셉트론과 DTM으로 텍스트 분류하기"
      ],
      "metadata": {
        "id": "znSzYvwtOZ6K"
      }
    },
    {
      "cell_type": "code",
      "source": [
        "#모듈 import\n",
        "\n",
        "import numpy as np\n",
        "import pandas as pd\n",
        "from sklearn.datasets import fetch_20newsgroups\n",
        "import matplotlib.pyplot as plt\n",
        "from tensorflow.keras.preprocessing.text import Tokenizer\n",
        "from tensorflow.keras.utils import to_categorical\n",
        "from tensorflow.keras.models import Sequential\n",
        "from tensorflow.keras.layers import Dense, Dropout"
      ],
      "metadata": {
        "id": "1B0P7Au5OomR"
      },
      "execution_count": 35,
      "outputs": []
    },
    {
      "cell_type": "code",
      "source": [
        "newsdata_train = fetch_20newsgroups(subset = 'train')\n",
        "newsdata_test = fetch_20newsgroups(subset = 'test')"
      ],
      "metadata": {
        "id": "FOOiJmbJO9Lm"
      },
      "execution_count": 4,
      "outputs": []
    },
    {
      "cell_type": "code",
      "source": [
        "#feature 확인\n",
        "\n",
        "print(newsdata_train.data[0])"
      ],
      "metadata": {
        "colab": {
          "base_uri": "https://localhost:8080/"
        },
        "id": "3lO3hTSYPe0u",
        "outputId": "90343610-0ce5-4e0c-aca9-4c9967d7b68f"
      },
      "execution_count": 9,
      "outputs": [
        {
          "output_type": "stream",
          "name": "stdout",
          "text": [
            "From: lerxst@wam.umd.edu (where's my thing)\n",
            "Subject: WHAT car is this!?\n",
            "Nntp-Posting-Host: rac3.wam.umd.edu\n",
            "Organization: University of Maryland, College Park\n",
            "Lines: 15\n",
            "\n",
            " I was wondering if anyone out there could enlighten me on this car I saw\n",
            "the other day. It was a 2-door sports car, looked to be from the late 60s/\n",
            "early 70s. It was called a Bricklin. The doors were really small. In addition,\n",
            "the front bumper was separate from the rest of the body. This is \n",
            "all I know. If anyone can tellme a model name, engine specs, years\n",
            "of production, where this car is made, history, or whatever info you\n",
            "have on this funky looking car, please e-mail.\n",
            "\n",
            "Thanks,\n",
            "- IL\n",
            "   ---- brought to you by your neighborhood Lerxst ----\n",
            "\n",
            "\n",
            "\n",
            "\n",
            "\n"
          ]
        }
      ]
    },
    {
      "cell_type": "code",
      "source": [
        "#타겟 데이터 클래스 수 확인\n",
        "\n",
        "print(f\"타겟 클래수 수 : {len(set(newsdata_train.target))}\")\n",
        "print(f\"타겟 이름 : {newsdata_train.target_names}\")"
      ],
      "metadata": {
        "colab": {
          "base_uri": "https://localhost:8080/"
        },
        "id": "Q5kks2QoPxwr",
        "outputId": "cc7df349-8ce4-46f9-ab68-a5ab63d4e522"
      },
      "execution_count": 16,
      "outputs": [
        {
          "output_type": "stream",
          "name": "stdout",
          "text": [
            "타겟 클래수 수 : 20\n",
            "타겟 이름 : ['alt.atheism', 'comp.graphics', 'comp.os.ms-windows.misc', 'comp.sys.ibm.pc.hardware', 'comp.sys.mac.hardware', 'comp.windows.x', 'misc.forsale', 'rec.autos', 'rec.motorcycles', 'rec.sport.baseball', 'rec.sport.hockey', 'sci.crypt', 'sci.electronics', 'sci.med', 'sci.space', 'soc.religion.christian', 'talk.politics.guns', 'talk.politics.mideast', 'talk.politics.misc', 'talk.religion.misc']\n"
          ]
        }
      ]
    },
    {
      "cell_type": "code",
      "source": [
        "#dataFrame 구성\n",
        "\n",
        "df = pd.DataFrame(newsdata_train.data, columns = ['text'])\n",
        "df['target'] = pd.Series(newsdata_train.target)\n",
        "df.head()"
      ],
      "metadata": {
        "colab": {
          "base_uri": "https://localhost:8080/",
          "height": 206
        },
        "id": "kU6qX7uRQJ0w",
        "outputId": "b76b66a7-bb43-4f25-eb57-8356971053b4"
      },
      "execution_count": 22,
      "outputs": [
        {
          "output_type": "execute_result",
          "data": {
            "text/html": [
              "\n",
              "  <div id=\"df-5285f4a1-56af-4ff4-9529-d5ca2cdc99c0\">\n",
              "    <div class=\"colab-df-container\">\n",
              "      <div>\n",
              "<style scoped>\n",
              "    .dataframe tbody tr th:only-of-type {\n",
              "        vertical-align: middle;\n",
              "    }\n",
              "\n",
              "    .dataframe tbody tr th {\n",
              "        vertical-align: top;\n",
              "    }\n",
              "\n",
              "    .dataframe thead th {\n",
              "        text-align: right;\n",
              "    }\n",
              "</style>\n",
              "<table border=\"1\" class=\"dataframe\">\n",
              "  <thead>\n",
              "    <tr style=\"text-align: right;\">\n",
              "      <th></th>\n",
              "      <th>text</th>\n",
              "      <th>target</th>\n",
              "    </tr>\n",
              "  </thead>\n",
              "  <tbody>\n",
              "    <tr>\n",
              "      <th>0</th>\n",
              "      <td>From: lerxst@wam.umd.edu (where's my thing)\\nS...</td>\n",
              "      <td>7</td>\n",
              "    </tr>\n",
              "    <tr>\n",
              "      <th>1</th>\n",
              "      <td>From: guykuo@carson.u.washington.edu (Guy Kuo)...</td>\n",
              "      <td>4</td>\n",
              "    </tr>\n",
              "    <tr>\n",
              "      <th>2</th>\n",
              "      <td>From: twillis@ec.ecn.purdue.edu (Thomas E Will...</td>\n",
              "      <td>4</td>\n",
              "    </tr>\n",
              "    <tr>\n",
              "      <th>3</th>\n",
              "      <td>From: jgreen@amber (Joe Green)\\nSubject: Re: W...</td>\n",
              "      <td>1</td>\n",
              "    </tr>\n",
              "    <tr>\n",
              "      <th>4</th>\n",
              "      <td>From: jcm@head-cfa.harvard.edu (Jonathan McDow...</td>\n",
              "      <td>14</td>\n",
              "    </tr>\n",
              "  </tbody>\n",
              "</table>\n",
              "</div>\n",
              "      <button class=\"colab-df-convert\" onclick=\"convertToInteractive('df-5285f4a1-56af-4ff4-9529-d5ca2cdc99c0')\"\n",
              "              title=\"Convert this dataframe to an interactive table.\"\n",
              "              style=\"display:none;\">\n",
              "        \n",
              "  <svg xmlns=\"http://www.w3.org/2000/svg\" height=\"24px\"viewBox=\"0 0 24 24\"\n",
              "       width=\"24px\">\n",
              "    <path d=\"M0 0h24v24H0V0z\" fill=\"none\"/>\n",
              "    <path d=\"M18.56 5.44l.94 2.06.94-2.06 2.06-.94-2.06-.94-.94-2.06-.94 2.06-2.06.94zm-11 1L8.5 8.5l.94-2.06 2.06-.94-2.06-.94L8.5 2.5l-.94 2.06-2.06.94zm10 10l.94 2.06.94-2.06 2.06-.94-2.06-.94-.94-2.06-.94 2.06-2.06.94z\"/><path d=\"M17.41 7.96l-1.37-1.37c-.4-.4-.92-.59-1.43-.59-.52 0-1.04.2-1.43.59L10.3 9.45l-7.72 7.72c-.78.78-.78 2.05 0 2.83L4 21.41c.39.39.9.59 1.41.59.51 0 1.02-.2 1.41-.59l7.78-7.78 2.81-2.81c.8-.78.8-2.07 0-2.86zM5.41 20L4 18.59l7.72-7.72 1.47 1.35L5.41 20z\"/>\n",
              "  </svg>\n",
              "      </button>\n",
              "      \n",
              "  <style>\n",
              "    .colab-df-container {\n",
              "      display:flex;\n",
              "      flex-wrap:wrap;\n",
              "      gap: 12px;\n",
              "    }\n",
              "\n",
              "    .colab-df-convert {\n",
              "      background-color: #E8F0FE;\n",
              "      border: none;\n",
              "      border-radius: 50%;\n",
              "      cursor: pointer;\n",
              "      display: none;\n",
              "      fill: #1967D2;\n",
              "      height: 32px;\n",
              "      padding: 0 0 0 0;\n",
              "      width: 32px;\n",
              "    }\n",
              "\n",
              "    .colab-df-convert:hover {\n",
              "      background-color: #E2EBFA;\n",
              "      box-shadow: 0px 1px 2px rgba(60, 64, 67, 0.3), 0px 1px 3px 1px rgba(60, 64, 67, 0.15);\n",
              "      fill: #174EA6;\n",
              "    }\n",
              "\n",
              "    [theme=dark] .colab-df-convert {\n",
              "      background-color: #3B4455;\n",
              "      fill: #D2E3FC;\n",
              "    }\n",
              "\n",
              "    [theme=dark] .colab-df-convert:hover {\n",
              "      background-color: #434B5C;\n",
              "      box-shadow: 0px 1px 3px 1px rgba(0, 0, 0, 0.15);\n",
              "      filter: drop-shadow(0px 1px 2px rgba(0, 0, 0, 0.3));\n",
              "      fill: #FFFFFF;\n",
              "    }\n",
              "  </style>\n",
              "\n",
              "      <script>\n",
              "        const buttonEl =\n",
              "          document.querySelector('#df-5285f4a1-56af-4ff4-9529-d5ca2cdc99c0 button.colab-df-convert');\n",
              "        buttonEl.style.display =\n",
              "          google.colab.kernel.accessAllowed ? 'block' : 'none';\n",
              "\n",
              "        async function convertToInteractive(key) {\n",
              "          const element = document.querySelector('#df-5285f4a1-56af-4ff4-9529-d5ca2cdc99c0');\n",
              "          const dataTable =\n",
              "            await google.colab.kernel.invokeFunction('convertToInteractive',\n",
              "                                                     [key], {});\n",
              "          if (!dataTable) return;\n",
              "\n",
              "          const docLinkHtml = 'Like what you see? Visit the ' +\n",
              "            '<a target=\"_blank\" href=https://colab.research.google.com/notebooks/data_table.ipynb>data table notebook</a>'\n",
              "            + ' to learn more about interactive tables.';\n",
              "          element.innerHTML = '';\n",
              "          dataTable['output_type'] = 'display_data';\n",
              "          await google.colab.output.renderOutput(dataTable, element);\n",
              "          const docLink = document.createElement('div');\n",
              "          docLink.innerHTML = docLinkHtml;\n",
              "          element.appendChild(docLink);\n",
              "        }\n",
              "      </script>\n",
              "    </div>\n",
              "  </div>\n",
              "  "
            ],
            "text/plain": [
              "                                                text  target\n",
              "0  From: lerxst@wam.umd.edu (where's my thing)\\nS...       7\n",
              "1  From: guykuo@carson.u.washington.edu (Guy Kuo)...       4\n",
              "2  From: twillis@ec.ecn.purdue.edu (Thomas E Will...       4\n",
              "3  From: jgreen@amber (Joe Green)\\nSubject: Re: W...       1\n",
              "4  From: jcm@head-cfa.harvard.edu (Jonathan McDow...      14"
            ]
          },
          "metadata": {},
          "execution_count": 22
        }
      ]
    },
    {
      "cell_type": "code",
      "source": [
        "df.info()"
      ],
      "metadata": {
        "colab": {
          "base_uri": "https://localhost:8080/"
        },
        "id": "7LNM4h4zRawU",
        "outputId": "6e682d56-5d62-4998-e803-b39e7ea0d7aa"
      },
      "execution_count": 23,
      "outputs": [
        {
          "output_type": "stream",
          "name": "stdout",
          "text": [
            "<class 'pandas.core.frame.DataFrame'>\n",
            "RangeIndex: 11314 entries, 0 to 11313\n",
            "Data columns (total 2 columns):\n",
            " #   Column  Non-Null Count  Dtype \n",
            "---  ------  --------------  ----- \n",
            " 0   text    11314 non-null  object\n",
            " 1   target  11314 non-null  int64 \n",
            "dtypes: int64(1), object(1)\n",
            "memory usage: 176.9+ KB\n"
          ]
        }
      ]
    },
    {
      "cell_type": "code",
      "source": [
        "#타겟 분포 확인\n",
        "\n",
        "df['target'].value_counts().plot(kind='bar');"
      ],
      "metadata": {
        "colab": {
          "base_uri": "https://localhost:8080/",
          "height": 268
        },
        "id": "r-83aEpWRnOh",
        "outputId": "c620e964-14f8-4962-edee-92a6949a5e1f"
      },
      "execution_count": 24,
      "outputs": [
        {
          "output_type": "display_data",
          "data": {
            "image/png": "[encoded data removed]",
            "text/plain": [
              "<Figure size 432x288 with 1 Axes>"
            ]
          },
          "metadata": {
            "needs_background": "light"
          }
        }
      ]
    },
    {
      "cell_type": "code",
      "source": [
        "#데이터 스플릿\n",
        "\n",
        "X_train = df['text']\n",
        "y_train = df['target']\n",
        "X_test = newsdata_test.data\n",
        "y_test = newsdata_test.target"
      ],
      "metadata": {
        "id": "wSWlREAXSECO"
      },
      "execution_count": 25,
      "outputs": []
    },
    {
      "cell_type": "code",
      "source": [
        "#데이터 전처리 함수\n",
        "\n",
        "vocab_size = 10000 #빈도 순으로 10,000개의 단어만 토큰화하여 사용\n",
        "num_classes = 20\n",
        "\n",
        "def prepare_data(X_train, X_test, mode):\n",
        "    tokenizer = Tokenizer(num_words = vocab_size) #10,000개의 단어만 사용하는 tokenizer 클래스 정의\n",
        "    tokenizer.fit_on_texts(X_train) #X_train 데이터셋 토큰화\n",
        "    X_train_enco = tokenizer.texts_to_matrix(X_train, mode = mode) #DTM 생성\n",
        "    X_test_enco = tokenizer.texts_to_matrix(X_test, mode = mode)\n",
        "\n",
        "    return X_train_enco, X_test_enco, tokenizer.index_word\n"
      ],
      "metadata": {
        "id": "zsuqJ7D_SUvD"
      },
      "execution_count": 28,
      "outputs": []
    },
    {
      "cell_type": "code",
      "source": [
        "X_train_enco, X_test_enco, index_to_word = prepare_data(X_train, X_test, 'binary')"
      ],
      "metadata": {
        "id": "h9vIv-lGT58e"
      },
      "execution_count": 29,
      "outputs": []
    },
    {
      "cell_type": "code",
      "source": [
        "#다층 퍼셉트론 설계\n",
        "\n",
        "def fit_and_evaluate(X_train_enco, y_train, X_test_enco, y_test):\n",
        "    model = Sequential()\n",
        "    model.add(Dense(256, input_shape=(vocab_size,), activation='relu'))\n",
        "    #하나의 sample씩 병렬로 신경망에 입력됨. 이때 입력되는 데이터의 크기는 행 하나의 벡터 사이즈임\n",
        "    #전체 데이터셋에서 봤을 땐(1, 10000)이지만, 샘플 하나를 떼어넣고 보면 (10000,)임 \n",
        "    model.add(Dropout(0.5))\n",
        "    model.add(Dense(128, activation='relu'))\n",
        "    model.add(Dropout(0.5))\n",
        "    model.add(Dense(num_classes, activation='softmax'))\n",
        "\n",
        "    model.compile(loss = 'sparse_categorical_crossentropy', optimizer='adam', metrics=['accuracy'])\n",
        "    model.fit(X_train_enco, y_train, batch_size = 128, epochs = 5, verbose = 1, validation_split = 0.1)\n",
        "    socre = model.evaluate(X_test_enco, y_test, batch_size = 128, verbose = 0)\n",
        "\n",
        "    return socre[1]"
      ],
      "metadata": {
        "id": "5O5hN5g9UcCQ"
      },
      "execution_count": 37,
      "outputs": []
    },
    {
      "cell_type": "code",
      "source": [
        "#DTM 별 성능 비교\n",
        "\n",
        "modes = ['binary', 'count', 'tfidf', 'freq']\n",
        "\n",
        "for mode in modes:\n",
        "    X_train_enco, X_test_enco, _ = prepare_data(X_train, X_test, mode)\n",
        "    score = fit_and_evaluate(X_train_enco, y_train, X_test_enco, y_test)\n",
        "    print(f\"{mode}의 테스트 결과 {score}\")"
      ],
      "metadata": {
        "colab": {
          "base_uri": "https://localhost:8080/"
        },
        "id": "9BEFGUJnXEVg",
        "outputId": "34fd4e2e-84eb-4a18-ccf0-20b41b91cb6e"
      },
      "execution_count": 38,
      "outputs": [
        {
          "output_type": "stream",
          "name": "stdout",
          "text": [
            "Epoch 1/5\n",
            "80/80 [==============================] - 4s 43ms/step - loss: 2.2647 - accuracy: 0.3395 - val_loss: 0.9308 - val_accuracy: 0.8136\n",
            "Epoch 2/5\n",
            "80/80 [==============================] - 3s 40ms/step - loss: 0.8714 - accuracy: 0.7583 - val_loss: 0.4561 - val_accuracy: 0.8887\n",
            "Epoch 3/5\n",
            "80/80 [==============================] - 3s 40ms/step - loss: 0.4307 - accuracy: 0.8863 - val_loss: 0.3486 - val_accuracy: 0.9002\n",
            "Epoch 4/5\n",
            "80/80 [==============================] - 3s 40ms/step - loss: 0.2586 - accuracy: 0.9344 - val_loss: 0.3273 - val_accuracy: 0.9064\n",
            "Epoch 5/5\n",
            "80/80 [==============================] - 3s 40ms/step - loss: 0.1655 - accuracy: 0.9598 - val_loss: 0.3008 - val_accuracy: 0.9090\n",
            "binary의 테스트 결과 0.8252788186073303\n",
            "Epoch 1/5\n",
            "80/80 [==============================] - 4s 41ms/step - loss: 2.7554 - accuracy: 0.2436 - val_loss: 1.6098 - val_accuracy: 0.7102\n",
            "Epoch 2/5\n",
            "80/80 [==============================] - 4s 47ms/step - loss: 1.4504 - accuracy: 0.6271 - val_loss: 0.7011 - val_accuracy: 0.8534\n",
            "Epoch 3/5\n",
            "80/80 [==============================] - 4s 56ms/step - loss: 0.7839 - accuracy: 0.8038 - val_loss: 0.5055 - val_accuracy: 0.8843\n",
            "Epoch 4/5\n",
            "80/80 [==============================] - 3s 40ms/step - loss: 0.5546 - accuracy: 0.8743 - val_loss: 0.4239 - val_accuracy: 0.9046\n",
            "Epoch 5/5\n",
            "80/80 [==============================] - 3s 40ms/step - loss: 0.3792 - accuracy: 0.9161 - val_loss: 0.3950 - val_accuracy: 0.9072\n",
            "count의 테스트 결과 0.8208975195884705\n",
            "Epoch 1/5\n",
            "80/80 [==============================] - 4s 41ms/step - loss: 2.2408 - accuracy: 0.3510 - val_loss: 0.7885 - val_accuracy: 0.8436\n",
            "Epoch 2/5\n",
            "80/80 [==============================] - 4s 45ms/step - loss: 0.8516 - accuracy: 0.7651 - val_loss: 0.4246 - val_accuracy: 0.8940\n",
            "Epoch 3/5\n",
            "80/80 [==============================] - 4s 45ms/step - loss: 0.4498 - accuracy: 0.8835 - val_loss: 0.3538 - val_accuracy: 0.9072\n",
            "Epoch 4/5\n",
            "80/80 [==============================] - 3s 40ms/step - loss: 0.2704 - accuracy: 0.9321 - val_loss: 0.3222 - val_accuracy: 0.9196\n",
            "Epoch 5/5\n",
            "80/80 [==============================] - 3s 39ms/step - loss: 0.2103 - accuracy: 0.9518 - val_loss: 0.3225 - val_accuracy: 0.9152\n",
            "tfidf의 테스트 결과 0.8288635015487671\n",
            "Epoch 1/5\n",
            "80/80 [==============================] - 4s 42ms/step - loss: 2.9800 - accuracy: 0.0936 - val_loss: 2.9362 - val_accuracy: 0.4161\n",
            "Epoch 2/5\n",
            "80/80 [==============================] - 3s 40ms/step - loss: 2.7491 - accuracy: 0.2476 - val_loss: 2.4032 - val_accuracy: 0.4364\n",
            "Epoch 3/5\n",
            "80/80 [==============================] - 3s 40ms/step - loss: 2.1605 - accuracy: 0.3539 - val_loss: 1.8285 - val_accuracy: 0.5336\n",
            "Epoch 4/5\n",
            "80/80 [==============================] - 3s 40ms/step - loss: 1.6943 - accuracy: 0.4879 - val_loss: 1.4234 - val_accuracy: 0.6466\n",
            "Epoch 5/5\n",
            "80/80 [==============================] - 3s 40ms/step - loss: 1.3427 - accuracy: 0.5966 - val_loss: 1.1383 - val_accuracy: 0.7094\n",
            "freq의 테스트 결과 0.6764471530914307\n"
          ]
        }
      ]
    }
  ]
}