{
  "nbformat": 4,
  "nbformat_minor": 0,
  "metadata": {
    "colab": {
      "name": "Prevent_Overfitting.ipynb",
      "provenance": []
    },
    "kernelspec": {
      "name": "python3",
      "display_name": "Python 3"
    },
    "language_info": {
      "name": "python"
    }
  },
  "cells": [
    {
      "cell_type": "code",
      "source": [
        "#모듈 import\n",
        "\n",
        "from tensorflow.keras.datasets import fashion_mnist\n",
        "from tensorflow.keras.models import Sequential\n",
        "from tensorflow.keras.layers import Dense, Flatten, Dropout\n",
        "from tensorflow.keras import regularizers\n",
        "\n",
        "import os\n",
        "import numpy as np\n",
        "import tensorflow as tf\n",
        "import keras"
      ],
      "metadata": {
        "id": "axBLiO7h4Vbh"
      },
      "execution_count": 2,
      "outputs": []
    },
    {
      "cell_type": "code",
      "source": [
        "#랜덤 시드 고정\n",
        "\n",
        "np.random.seed(42)\n",
        "tf.random.set_seed(42)\n",
        "\n",
        "#데이터셋 불러오기\n",
        "\n",
        "(X_train, y_train), (X_test, y_test) = fashion_mnist.load_data()\n",
        "print(X_train.shape, X_test.shape)\n",
        "\n",
        "#데이터 정규화\n",
        "\n",
        "X_train = X_train / 255.\n",
        "X_test = X_test / 255."
      ],
      "metadata": {
        "colab": {
          "base_uri": "https://localhost:8080/"
        },
        "id": "i0ob11fl4XvK",
        "outputId": "8bd9c68d-8920-4d4b-c0b9-6f39af8ef0a7"
      },
      "execution_count": 3,
      "outputs": [
        {
          "output_type": "stream",
          "name": "stdout",
          "text": [
            "(60000, 28, 28) (10000, 28, 28)\n"
          ]
        }
      ]
    },
    {
      "cell_type": "code",
      "source": [
        "#레이블의 개수와 형태 확인\n",
        "\n",
        "np.unique(y_train)"
      ],
      "metadata": {
        "colab": {
          "base_uri": "https://localhost:8080/"
        },
        "id": "-7qgF8714bXL",
        "outputId": "57b4604e-fe3f-4275-82d1-678065743e24"
      },
      "execution_count": 4,
      "outputs": [
        {
          "output_type": "execute_result",
          "data": {
            "text/plain": [
              "array([0, 1, 2, 3, 4, 5, 6, 7, 8, 9], dtype=uint8)"
            ]
          },
          "metadata": {},
          "execution_count": 4
        }
      ]
    },
    {
      "cell_type": "code",
      "source": [
        "#신경망 구축\n",
        "#신경망 구축에서 dropdout 적용\n",
        "#가중치 감소 적용(L2, L1)\n",
        "#가중치 초기화 적용(He_normal)\n",
        "#Batch Noramlization 적용\n",
        "\n",
        "He_normal = keras.initializers.he_normal(seed=None)\n",
        "batch_normal = keras.layers.BatchNormalization()\n",
        "\n",
        "model = Sequential([\n",
        "    Flatten(input_shape=(28, 28)),\n",
        "    Dense(64, activation='relu',\n",
        "          kernel_regularizer=regularizers.l2(0.01),\n",
        "          activity_regularizer=regularizers.l1(0.01),\n",
        "          kernel_initializer = He_normal),\n",
        "          batch_normal,\n",
        "    Dropout(0.5),\n",
        "    Dense(10, activation='softmax')\n",
        "])"
      ],
      "metadata": {
        "id": "Ok7IPCly4b4a"
      },
      "execution_count": 13,
      "outputs": []
    },
    {
      "cell_type": "code",
      "source": [
        "#compile\n",
        "#compile 과정에서 학습률 감소 적용\n",
        "\n",
        "model.compile(optimizer=tf.keras.optimizers.Adam(learning_rate=0.001, beta_1 = 0.89)\n",
        "             , loss='sparse_categorical_crossentropy'\n",
        "             , metrics=['accuracy'])"
      ],
      "metadata": {
        "id": "rMCMRTpV4jH-"
      },
      "execution_count": 14,
      "outputs": []
    },
    {
      "cell_type": "code",
      "source": [
        "#파라미터 저장 경로 설정\n",
        "\n",
        "checkpoint_filepath = \"FMbest.hdf5\""
      ],
      "metadata": {
        "id": "liNYU8xq4ji_"
      },
      "execution_count": 15,
      "outputs": []
    },
    {
      "cell_type": "code",
      "source": [
        "#조기 종료 옵션 설정\n",
        "#loss 값이 10회동안 변화가 없으면 조기종료\n",
        "\n",
        "early_stop = keras.callbacks.EarlyStopping(monitor='val_loss', min_delta=0, patience=10, verbose=1)"
      ],
      "metadata": {
        "id": "Opf4ARWG4n3g"
      },
      "execution_count": 16,
      "outputs": []
    },
    {
      "cell_type": "code",
      "source": [
        "#종료 기준은 val_loss\n",
        "#가장 좋은 결과만 저장\n",
        "#가중치만 저장\n",
        "#저장 단위는 에포크\n",
        "\n",
        "save_best = tf.keras.callbacks.ModelCheckpoint(\n",
        "    filepath=checkpoint_filepath, monitor='val_loss', verbose=1, save_best_only=True,\n",
        "    save_weights_only=True, mode='auto', save_freq='epoch', options=None)\n"
      ],
      "metadata": {
        "id": "nOCkOwN64raF"
      },
      "execution_count": 17,
      "outputs": []
    },
    {
      "cell_type": "code",
      "source": [
        "#모델 학습\n",
        "\n",
        "model.fit(X_train, y_train, batch_size=32, epochs=30, verbose=1, \n",
        "          validation_data=(X_test,y_test), \n",
        "          callbacks=[early_stop, save_best])"
      ],
      "metadata": {
        "colab": {
          "base_uri": "https://localhost:8080/"
        },
        "id": "OFUmcuwD4soQ",
        "outputId": "50f21961-dd3f-4100-b9dd-4c08ee2da0c9"
      },
      "execution_count": 18,
      "outputs": [
        {
          "output_type": "stream",
          "name": "stdout",
          "text": [
            "Epoch 1/30\n",
            "1872/1875 [============================>.] - ETA: 0s - loss: 1.1778 - accuracy: 0.7365\n",
            "Epoch 1: val_loss improved from inf to 0.88955, saving model to FMbest.hdf5\n",
            "1875/1875 [==============================] - 6s 3ms/step - loss: 1.1774 - accuracy: 0.7365 - val_loss: 0.8896 - val_accuracy: 0.7643\n",
            "Epoch 2/30\n",
            "1856/1875 [============================>.] - ETA: 0s - loss: 0.8946 - accuracy: 0.7443\n",
            "Epoch 2: val_loss improved from 0.88955 to 0.71985, saving model to FMbest.hdf5\n",
            "1875/1875 [==============================] - 5s 3ms/step - loss: 0.8946 - accuracy: 0.7443 - val_loss: 0.7198 - val_accuracy: 0.7916\n",
            "Epoch 3/30\n",
            "1861/1875 [============================>.] - ETA: 0s - loss: 0.8909 - accuracy: 0.7348\n",
            "Epoch 3: val_loss did not improve from 0.71985\n",
            "1875/1875 [==============================] - 5s 3ms/step - loss: 0.8914 - accuracy: 0.7347 - val_loss: 0.7979 - val_accuracy: 0.7484\n",
            "Epoch 4/30\n",
            "1862/1875 [============================>.] - ETA: 0s - loss: 0.9038 - accuracy: 0.7269\n",
            "Epoch 4: val_loss did not improve from 0.71985\n",
            "1875/1875 [==============================] - 5s 3ms/step - loss: 0.9033 - accuracy: 0.7272 - val_loss: 0.7408 - val_accuracy: 0.8023\n",
            "Epoch 5/30\n",
            "1874/1875 [============================>.] - ETA: 0s - loss: 0.9071 - accuracy: 0.7191\n",
            "Epoch 5: val_loss improved from 0.71985 to 0.71564, saving model to FMbest.hdf5\n",
            "1875/1875 [==============================] - 5s 3ms/step - loss: 0.9072 - accuracy: 0.7190 - val_loss: 0.7156 - val_accuracy: 0.8051\n",
            "Epoch 6/30\n",
            "1859/1875 [============================>.] - ETA: 0s - loss: 0.8968 - accuracy: 0.7271\n",
            "Epoch 6: val_loss did not improve from 0.71564\n",
            "1875/1875 [==============================] - 5s 3ms/step - loss: 0.8970 - accuracy: 0.7269 - val_loss: 0.7559 - val_accuracy: 0.7842\n",
            "Epoch 7/30\n",
            "1862/1875 [============================>.] - ETA: 0s - loss: 0.8825 - accuracy: 0.7304\n",
            "Epoch 7: val_loss did not improve from 0.71564\n",
            "1875/1875 [==============================] - 6s 3ms/step - loss: 0.8828 - accuracy: 0.7302 - val_loss: 0.7223 - val_accuracy: 0.7960\n",
            "Epoch 8/30\n",
            "1860/1875 [============================>.] - ETA: 0s - loss: 0.8862 - accuracy: 0.7282\n",
            "Epoch 8: val_loss did not improve from 0.71564\n",
            "1875/1875 [==============================] - 5s 3ms/step - loss: 0.8864 - accuracy: 0.7279 - val_loss: 0.7807 - val_accuracy: 0.7601\n",
            "Epoch 9/30\n",
            "1866/1875 [============================>.] - ETA: 0s - loss: 0.8916 - accuracy: 0.7237\n",
            "Epoch 9: val_loss did not improve from 0.71564\n",
            "1875/1875 [==============================] - 6s 3ms/step - loss: 0.8920 - accuracy: 0.7236 - val_loss: 0.7335 - val_accuracy: 0.7875\n",
            "Epoch 10/30\n",
            "1872/1875 [============================>.] - ETA: 0s - loss: 0.8762 - accuracy: 0.7268\n",
            "Epoch 10: val_loss did not improve from 0.71564\n",
            "1875/1875 [==============================] - 5s 3ms/step - loss: 0.8763 - accuracy: 0.7268 - val_loss: 0.7190 - val_accuracy: 0.7919\n",
            "Epoch 11/30\n",
            "1863/1875 [============================>.] - ETA: 0s - loss: 0.8673 - accuracy: 0.7347\n",
            "Epoch 11: val_loss did not improve from 0.71564\n",
            "1875/1875 [==============================] - 5s 3ms/step - loss: 0.8671 - accuracy: 0.7346 - val_loss: 0.7420 - val_accuracy: 0.7435\n",
            "Epoch 12/30\n",
            "1871/1875 [============================>.] - ETA: 0s - loss: 0.8673 - accuracy: 0.7327\n",
            "Epoch 12: val_loss did not improve from 0.71564\n",
            "1875/1875 [==============================] - 5s 3ms/step - loss: 0.8673 - accuracy: 0.7327 - val_loss: 0.7313 - val_accuracy: 0.7929\n",
            "Epoch 13/30\n",
            "1860/1875 [============================>.] - ETA: 0s - loss: 0.8667 - accuracy: 0.7359\n",
            "Epoch 13: val_loss improved from 0.71564 to 0.67004, saving model to FMbest.hdf5\n",
            "1875/1875 [==============================] - 5s 3ms/step - loss: 0.8665 - accuracy: 0.7359 - val_loss: 0.6700 - val_accuracy: 0.7973\n",
            "Epoch 14/30\n",
            "1855/1875 [============================>.] - ETA: 0s - loss: 0.8522 - accuracy: 0.7413\n",
            "Epoch 14: val_loss did not improve from 0.67004\n",
            "1875/1875 [==============================] - 5s 3ms/step - loss: 0.8521 - accuracy: 0.7412 - val_loss: 0.7822 - val_accuracy: 0.7642\n",
            "Epoch 15/30\n",
            "1875/1875 [==============================] - ETA: 0s - loss: 0.8567 - accuracy: 0.7397\n",
            "Epoch 15: val_loss improved from 0.67004 to 0.66196, saving model to FMbest.hdf5\n",
            "1875/1875 [==============================] - 5s 3ms/step - loss: 0.8567 - accuracy: 0.7397 - val_loss: 0.6620 - val_accuracy: 0.8148\n",
            "Epoch 16/30\n",
            "1875/1875 [==============================] - ETA: 0s - loss: 0.8692 - accuracy: 0.7352\n",
            "Epoch 16: val_loss did not improve from 0.66196\n",
            "1875/1875 [==============================] - 5s 3ms/step - loss: 0.8692 - accuracy: 0.7352 - val_loss: 0.6887 - val_accuracy: 0.8028\n",
            "Epoch 17/30\n",
            "1858/1875 [============================>.] - ETA: 0s - loss: 0.8682 - accuracy: 0.7334\n",
            "Epoch 17: val_loss did not improve from 0.66196\n",
            "1875/1875 [==============================] - 5s 3ms/step - loss: 0.8683 - accuracy: 0.7333 - val_loss: 0.6927 - val_accuracy: 0.8018\n",
            "Epoch 18/30\n",
            "1856/1875 [============================>.] - ETA: 0s - loss: 0.8712 - accuracy: 0.7312\n",
            "Epoch 18: val_loss did not improve from 0.66196\n",
            "1875/1875 [==============================] - 5s 3ms/step - loss: 0.8711 - accuracy: 0.7313 - val_loss: 0.6712 - val_accuracy: 0.8025\n",
            "Epoch 19/30\n",
            "1863/1875 [============================>.] - ETA: 0s - loss: 0.8770 - accuracy: 0.7253\n",
            "Epoch 19: val_loss did not improve from 0.66196\n",
            "1875/1875 [==============================] - 5s 3ms/step - loss: 0.8775 - accuracy: 0.7252 - val_loss: 0.6757 - val_accuracy: 0.8050\n",
            "Epoch 20/30\n",
            "1857/1875 [============================>.] - ETA: 0s - loss: 0.8888 - accuracy: 0.7141\n",
            "Epoch 20: val_loss did not improve from 0.66196\n",
            "1875/1875 [==============================] - 5s 3ms/step - loss: 0.8884 - accuracy: 0.7143 - val_loss: 0.6975 - val_accuracy: 0.7886\n",
            "Epoch 21/30\n",
            "1873/1875 [============================>.] - ETA: 0s - loss: 0.9301 - accuracy: 0.6996\n",
            "Epoch 21: val_loss did not improve from 0.66196\n",
            "1875/1875 [==============================] - 5s 3ms/step - loss: 0.9302 - accuracy: 0.6995 - val_loss: 0.6874 - val_accuracy: 0.8050\n",
            "Epoch 22/30\n",
            "1869/1875 [============================>.] - ETA: 0s - loss: 0.9161 - accuracy: 0.7040\n",
            "Epoch 22: val_loss did not improve from 0.66196\n",
            "1875/1875 [==============================] - 6s 3ms/step - loss: 0.9163 - accuracy: 0.7039 - val_loss: 0.6903 - val_accuracy: 0.7838\n",
            "Epoch 23/30\n",
            "1874/1875 [============================>.] - ETA: 0s - loss: 0.8847 - accuracy: 0.7224\n",
            "Epoch 23: val_loss did not improve from 0.66196\n",
            "1875/1875 [==============================] - 5s 3ms/step - loss: 0.8845 - accuracy: 0.7225 - val_loss: 0.7356 - val_accuracy: 0.7708\n",
            "Epoch 24/30\n",
            "1866/1875 [============================>.] - ETA: 0s - loss: 0.8831 - accuracy: 0.7191\n",
            "Epoch 24: val_loss did not improve from 0.66196\n",
            "1875/1875 [==============================] - 5s 3ms/step - loss: 0.8832 - accuracy: 0.7190 - val_loss: 0.6933 - val_accuracy: 0.7977\n",
            "Epoch 25/30\n",
            "1861/1875 [============================>.] - ETA: 0s - loss: 0.8892 - accuracy: 0.7196\n",
            "Epoch 25: val_loss did not improve from 0.66196\n",
            "1875/1875 [==============================] - 5s 3ms/step - loss: 0.8886 - accuracy: 0.7196 - val_loss: 0.7111 - val_accuracy: 0.7917\n",
            "Epoch 25: early stopping\n"
          ]
        },
        {
          "output_type": "execute_result",
          "data": {
            "text/plain": [
              "<keras.callbacks.History at 0x7f9764807290>"
            ]
          },
          "metadata": {},
          "execution_count": 18
        }
      ]
    },
    {
      "cell_type": "code",
      "source": [
        "#조기 종료 직전의 모델 평가\n",
        "\n",
        "model.predict(X_test[0:1])\n",
        "test_loss, test_acc = model.evaluate(X_test,  y_test, verbose=2)"
      ],
      "metadata": {
        "colab": {
          "base_uri": "https://localhost:8080/"
        },
        "id": "8kxcrwdW4stQ",
        "outputId": "f08fb3a4-9538-4126-e920-e1ec8773eb7f"
      },
      "execution_count": 19,
      "outputs": [
        {
          "output_type": "stream",
          "name": "stdout",
          "text": [
            "313/313 - 0s - loss: 0.7111 - accuracy: 0.7917 - 399ms/epoch - 1ms/step\n"
          ]
        }
      ]
    },
    {
      "cell_type": "code",
      "source": [
        "#콜백으로 Best 모델 파라미터를 불러서 모델 예측\n",
        "\n",
        "model.load_weights(checkpoint_filepath)\n",
        "model.predict(X_test[0:1])"
      ],
      "metadata": {
        "colab": {
          "base_uri": "https://localhost:8080/"
        },
        "id": "PycTwvVU4vtC",
        "outputId": "a96c419f-c2eb-4a5c-a332-d2a0e5ea3a5f"
      },
      "execution_count": 22,
      "outputs": [
        {
          "output_type": "execute_result",
          "data": {
            "text/plain": [
              "array([[8.2574870e-06, 2.4688487e-05, 9.0093181e-06, 1.0264771e-04,\n",
              "        6.9738694e-06, 2.1217543e-01, 8.4622443e-06, 1.6989833e-01,\n",
              "        2.9159128e-04, 6.1747456e-01]], dtype=float32)"
            ]
          },
          "metadata": {},
          "execution_count": 22
        }
      ]
    },
    {
      "cell_type": "code",
      "source": [
        "#Best 모델 파라미터 평가\n",
        "\n",
        "test_loss, test_acc = model.evaluate(X_test,  y_test, verbose=2)"
      ],
      "metadata": {
        "colab": {
          "base_uri": "https://localhost:8080/"
        },
        "id": "0mGj54dP7Wvy",
        "outputId": "5d245f00-6881-47ed-8bca-3c233e1d1469"
      },
      "execution_count": 21,
      "outputs": [
        {
          "output_type": "stream",
          "name": "stdout",
          "text": [
            "313/313 - 0s - loss: 0.6620 - accuracy: 0.8148 - 393ms/epoch - 1ms/step\n"
          ]
        }
      ]
    }
  ]
}