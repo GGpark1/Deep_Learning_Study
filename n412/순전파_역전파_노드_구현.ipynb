{
  "nbformat": 4,
  "nbformat_minor": 0,
  "metadata": {
    "colab": {
      "name": "순전파-역전파 노드 구현.ipynb",
      "provenance": []
    },
    "kernelspec": {
      "name": "python3",
      "display_name": "Python 3"
    },
    "language_info": {
      "name": "python"
    }
  },
  "cells": [
    {
      "cell_type": "markdown",
      "source": [
        "## 순전파 - 역전파\n",
        "\n",
        "- 미분으로 각 가중치가 loss에 미치는 영향(기울기)를 알 수 있음\n",
        "- loss를 0으로 만드는 방향으로 각 변수를 조정함(Gradient Dscent)\n",
        "- 미분값(기울기)가 양수이면 음의 방향으로, 음수이면 양의 방향으로 조정이 진행됨\n",
        "- <현재 가중치 = 이전 가중치 - 학습률*기울기(미분)>이므로, 현재 가중치가 변화하게 됨\n",
        "- 현재 가중치가 변화함에 따라 순전파의 출력값이 변하고, 역전파로 돌아올 때의 기울기도 변화하게 됨\n",
        "- 기울기가 변화한 값을 반영하게 현재 가중치가 다시 조정되고, 기울기(미분)이 0이 되어 가중치 조정이 일어나지 않을 때까지 오차역전파를 통한 가중치 조정이 진행됨"
      ],
      "metadata": {
        "id": "UUiV_cjiiBil"
      }
    },
    {
      "cell_type": "code",
      "source": [
        "#데이터 만들기\n",
        "\n",
        "import numpy as np\n",
        "np.random.seed(0)\n",
        "\n",
        "#난수 생성\n",
        "\n",
        "x1 = np.random.uniform(low = 5, high = 10, size = (50,))\n",
        "x2 = np.random.uniform(low = 0, high = 5, size = (50,))\n",
        "\n",
        "#타겟 생성\n",
        "\n",
        "y1 = np.ones_like(x1)\n",
        "y2 = np.zeros_like(x2)\n",
        "\n",
        "#outlier 생성\n",
        "\n",
        "outlier = np.random.uniform(low = 20, high = 23, size = 20)\n",
        "y_outlier = np.ones_like(outlier)\n",
        "\n",
        "#outlier 붙이기\n",
        "\n",
        "x1 = np.append(x1, outlier)\n",
        "y1 = np.append(y1, y_outlier)\n",
        "\n",
        "#데이터 하나로 만들기\n",
        "x_data = np.hstack([x1, x2])\n",
        "y_data = np.hstack([y1, y2])\n",
        "\n",
        "#시각화\n",
        "import matplotlib.pyplot as plt\n",
        "fig, ax = plt.subplots(figsize = (12, 5))\n",
        "ax.plot(x_data[:70], y_data[:70], 'bo')\n",
        "ax.plot(x_data[70:], y_data[70:], 'ro')\n",
        "ax.grid() "
      ],
      "metadata": {
        "colab": {
          "base_uri": "https://localhost:8080/",
          "height": 320
        },
        "id": "n8WCpUsR0wZ7",
        "outputId": "d016ba55-bfdb-4695-a5a1-303fd5f08b64"
      },
      "execution_count": 18,
      "outputs": [
        {
          "output_type": "display_data",
          "data": {
            "image/png": "[encoded data removed]",
            "text/plain": [
              "<Figure size 864x360 with 1 Axes>"
            ]
          },
          "metadata": {
            "needs_background": "light"
          }
        }
      ]
    },
    {
      "cell_type": "code",
      "execution_count": 24,
      "metadata": {
        "id": "71cJwtjVeO8N"
      },
      "outputs": [],
      "source": [
        "class plus_node:\n",
        "    def __init__(self):\n",
        "        self._x, self._y = None, None\n",
        "        self._z = None\n",
        "\n",
        "    def forward(self, x, y):\n",
        "        self._x, self._y = x, y\n",
        "        self._z = self._x + self._y\n",
        "        return self._z\n",
        "\n",
        "    def backward(self, dz):\n",
        "        return dz, dz #도함수의 가중치와 이전 노드의 가중치\n",
        "\n",
        "class minus_node:\n",
        "    def __init__(self):\n",
        "        self._x, self._y = None, None\n",
        "        self._z = None \n",
        "\n",
        "    def forward(self, x, y):\n",
        "        self._x, self._y = x, y\n",
        "        self._z = self._x - self._y\n",
        "        return self._z\n",
        "\n",
        "    def backward(self, dz):\n",
        "        return dz, -1*dz\n",
        "\n",
        "class mul_node:\n",
        "    def __init__(self):\n",
        "        self._x, self._y = None, None\n",
        "        self._z = None\n",
        "    \n",
        "    def forward(self, x, y):\n",
        "        self._x, self._y = x, y\n",
        "        self._z = self._x * self._y\n",
        "        return self._z\n",
        "    \n",
        "    def backward(self, dz):\n",
        "        return dz * self._y, dz * self._x\n",
        "\n",
        "class square_node:\n",
        "    def __init__(self):\n",
        "        self._x = None\n",
        "        self._z = None\n",
        "    \n",
        "    def forward(self, x):\n",
        "        self._x = x\n",
        "        self._z = self._x * self._x\n",
        "        return self._z\n",
        "\n",
        "    def backward(self, dz):\n",
        "        return dz * 2 * self._x\n",
        "\n",
        "class mean_node:\n",
        "    def __init__(self):\n",
        "        self._x = None\n",
        "        self._z = None\n",
        "\n",
        "    def forward(self, x):\n",
        "        self._x = x\n",
        "        self._z = np.mean(self._x)\n",
        "        return self._z\n",
        "    \n",
        "    def backward(self, dz):\n",
        "        dx = dz*1/len(self._x)*np.ones_like(self._x)\n",
        "        return dx\n",
        "\n",
        "class sigmoid_node():\n",
        "    def __init__(self):\n",
        "        self.x, self.y = None, None\n",
        "        \n",
        "    def forward(self, x):\n",
        "        self.x, self.y = x, 1/(1+np.exp(-1*x))\n",
        "        return self.y\n",
        "    def backward(self, dL):\n",
        "        return dL * self.y * (1 - self.y)"
      ]
    },
    {
      "cell_type": "code",
      "source": [
        "mul = mul_node()\n",
        "plus = plus_node()\n",
        "sigmoid = sigmoid_node()\n",
        "minus = minus_node()\n",
        "square = square_node()\n",
        "mean = mean_node()\n",
        "\n",
        "dJ = 1 #역전파의 첫 값\n",
        "th_list = [0.1, 0.1] #가중치, 편향\n",
        "lr = 0.5 #학습률\n",
        "epochs = 200000\n",
        "cost_list = [] #비용 함수(Loss)를 담을 list\n",
        "th1_list, th0_list = [], [] #가중치, 편향의 변화를 담을 list\n",
        "\n",
        "for i in range(epochs):\n",
        "    Z1 = mul.forward(th_list[1],x_data) #가중치 곱\n",
        "    Z2 = plus.forward(Z1,th_list[0]) #편향 합\n",
        "    Z3 = sigmoid.forward(Z2) #활성 함수\n",
        "    Z4 = minus.forward(y_data,Z3) #오차\n",
        "    L = square.forward(Z4) #오차 제곱\n",
        "    J = mean.forward(L) #오차 제곱의 평균\n",
        "    \n",
        "    dL = mean.backward(dJ) #오차 제곱 평균의 도함수\n",
        "    dZ4 = square.backward(dL) #오차 제곱 평균 도함수의 도함수(chain rule)\n",
        "    dY, dZ3 = minus.backward(dZ4) #dz4의 도함수\n",
        "    dZ2 = sigmoid.backward(dZ3) #dz3의 도함수\n",
        "    dZ1, dTheta0 = plus.backward(dZ2) #dz2의 도함수, 편향의 도함수\n",
        "    dTheta1, dX = mul.backward(dZ1) #dz1의 도함수, 가중치의 도함수\n",
        "\n",
        "    th_list[1] = th_list[1] - lr*np.sum(dTheta1) #새롭게 경신된 가중치 = 기존 가중치 - 해당 지점에서 기울기(가중치의 손실함수)\n",
        "    th_list[0] = th_list[0] - lr*np.sum(dTheta0) #새롭게 경신된 가중치 = 기존 가중치 - 해당 지점에서 기울기(편향의 순실함수)\n",
        "    \n",
        "    cost_list.append(J)\n",
        "    th1_list.append(th_list[1])\n",
        "    th0_list.append(th_list[0])"
      ],
      "metadata": {
        "id": "oFNA5BVX6kY2"
      },
      "execution_count": 28,
      "outputs": []
    },
    {
      "cell_type": "code",
      "source": [
        "#가중치, 편향의 최종값\n",
        "\n",
        "th_list"
      ],
      "metadata": {
        "colab": {
          "base_uri": "https://localhost:8080/"
        },
        "id": "uJyQs2qQ8ydW",
        "outputId": "14da1349-0af2-42d7-9fce-582fac9c07bb"
      },
      "execution_count": 29,
      "outputs": [
        {
          "output_type": "execute_result",
          "data": {
            "text/plain": [
              "[-35.24417681400883, 7.021766761474626]"
            ]
          },
          "metadata": {},
          "execution_count": 29
        }
      ]
    },
    {
      "cell_type": "code",
      "source": [
        "#학습 결과 시각화\n",
        "\n",
        "x_min, x_max = x_data.min(), x_data.max()\n",
        "y_min, y_max = sigmoid.forward(x_min*th_list[1] + th_list[0]), sigmoid.forward(x_max*th_list[1] + th_list[0]) #신경망 학습 구현 : 가중치 * 특성값 + 편향\n",
        "x_range = np.linspace(x_min, x_max, 1000) #최대값과 최소값 사이의 데이터 생성\n",
        "y_range = sigmoid.forward(x_range*th_list[1] + th_list[0]) #생성한 데이터로 신경망 학습 진행\n",
        "\n",
        "fig, ax = plt.subplots(figsize = (12,5))\n",
        "ax.plot(x_data[:70], y_data[:70], 'bo')\n",
        "ax.plot(x_data[70:], y_data[70:], 'ro')\n",
        "ax.plot(x_range, y_range, 'r', linewidth = 2)\n",
        "ax.grid()"
      ],
      "metadata": {
        "colab": {
          "base_uri": "https://localhost:8080/",
          "height": 320
        },
        "id": "XkgaP-eG86DE",
        "outputId": "96ba8ced-5ac2-4261-97be-f64d0d845d99"
      },
      "execution_count": 30,
      "outputs": [
        {
          "output_type": "display_data",
          "data": {
            "image/png": "[encoded data removed]",
            "text/plain": [
              "<Figure size 864x360 with 1 Axes>"
            ]
          },
          "metadata": {
            "needs_background": "light"
          }
        }
      ]
    },
    {
      "cell_type": "code",
      "source": [
        "#ReLU 함수\n",
        "\n",
        "class Relu:\n",
        "    def __init__(self):\n",
        "        self.mask = None\n",
        "    \n",
        "    def forward(self, x):\n",
        "        self.mask = (x <= 0) #0보다 작은 원소는 True, 0보다 큰 원소는 False\n",
        "        out = x.copy()\n",
        "        out[self.mask] = 0\n",
        "\n",
        "    def backward(self, dout):\n",
        "        dout[self.mask] = 0 #순전파에서 0보다 작았던 원소(True)를 0으로 반환함\n",
        "        dx = dout\n",
        "        return dx"
      ],
      "metadata": {
        "id": "yGbd1JbfsOgH"
      },
      "execution_count": 31,
      "outputs": []
    }
  ]
}