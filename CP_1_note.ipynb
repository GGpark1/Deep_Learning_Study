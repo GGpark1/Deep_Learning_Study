{
  "cells": [
    {
      "cell_type": "markdown",
      "metadata": {
        "id": "view-in-github",
        "colab_type": "text"
      },
      "source": [
        "<a href=\"https://colab.research.google.com/github/GGpark1/Deep_Learning_Study/blob/master/CP_1_note.ipynb\" target=\"_parent\"><img src=\"https://colab.research.google.com/assets/colab-badge.svg\" alt=\"Open In Colab\"/></a>"
      ]
    },
    {
      "cell_type": "markdown",
      "source": [
        "> ## A/B 테스트 프로젝트 진행 순서\n",
        "\n",
        "###1. 프로젝트 목표 설정\n",
        "\n",
        "###2. 프로젝트 평가 지표 설정\n",
        "- 불변 지표\n",
        "- 평가 지표\n",
        "- baseline\n",
        "\n",
        "###3. 프로젝트 진행\n",
        "- A/B 테스트에 필요한 샘플 사이즈 추정\n",
        "- 불변 지표 확인\n",
        "- 평가 지표 확인\n",
        "\n",
        "###4. 결론"
      ],
      "metadata": {
        "id": "NvNzdfpDYTJo"
      }
    },
    {
      "cell_type": "markdown",
      "source": [
        "## 1. 프로젝트 목표 설정\n",
        "\n",
        "### 1) 테스트 진행 전 상황\n",
        "\n",
        "- 온라인 교육을 제공하는 Udacity를 대상으로 A/B 테스트를 진행\n",
        "- 교육 정보를 알려주는 코스 개요 페이지에 1) Start Free Trial과 2) Access Course Material 선택지가 있음\n",
        "    -  Start Free Trial을 선택하면 카드 정보 입력 페이지로 연결되고, 입력을 마치면 14일 뒤에 자동 청구됨\n",
        "    - Access Course Material을 선택하면 무료로 영상을 보고 퀴즈를 풀 수 있지만 코칭이나 인증서 발급을 받을 수 없음 \n",
        "\n",
        "### 2) A/B 테스트 진행 목적\n",
        "\n",
        "- 학생이 'Start Free Trial' 버튼을 누르고 무료 평가판 교육을 진행할 시 교육에 할애할 수 있는 시간을 입력하도록 함\n",
        "- 통상적으로 소요되는 시간보다 적은 시간을 입력 시 해당 교육에 더 많은 시간이 필요하다는 경고 메시지를 출력\n",
        "- 이와 같은 기능을 추가했을 때 시간이 충분하지 않아서 무료 평가판을 떠나는(즉, 유료결제를 하지 않는) 학생이 유의미하게 줄어들 것으로 기대함\n",
        "\n",
        "### 3) 프로젝트 효과\n",
        "- Udacity 콘텐츠를 이용하는 학생들의 기대치를 적절하게 조정하여 수료율을 높임\n",
        "- 코치는 수료가능성이 높은 학생에게 집중할 수 있음\n",
        "\n",
        "### 4) 가설 설정\n",
        "- 귀무가설 : 새로운 기능을 추가하더라도 무료 평가판을 떠나지 않고 등록하는 사람의 수는 변하지 않는다.\n",
        "- 대립가설 : 새로운 기능을 추가하면 무료 평가판을 등록하지 않고 떠나는 사람의 수가 유의미하게 증가한다."
      ],
      "metadata": {
        "id": "GiJkvCXSm8bl"
      }
    },
    {
      "cell_type": "markdown",
      "source": [
        "## 2. 프로젝트 평가 지표 설정\n",
        "### 1) 불변 지표\n",
        "- 두 집단을 편향없이 비교하기 위해 테스트 진행 과정에서 변하지 않고 유지되어야 하는 지표 설정\n",
        " - 코스 개요 페이지의 쿠키 수\n",
        " - 'Start Free Trial' 버튼 클릭 수\n",
        "\n",
        "### 2) 평가 지표\n",
        "- 새로운 기능의 효과를 확인하기 위해 필요한 지표\n",
        " - Gross Conversion : Start Free Trial 버튼 클릭 수 대비 무료 과정 등록 확률\n",
        " - Retention : 무료 평가 과정 등록 대비 유료 결제 확률\n",
        " - Net Conversion : Start Free Trial 버튼 클릭 수 대비 유료 결제 등록 확률\n",
        "\n",
        "### 3) 평가 지표에 대해 baseline 설정\n",
        "- 평가 지표 상의 유의미한 변화가 있더라도 그 변화가 비즈니스 차원에서 유의미한 수익률을 보장해야 함\n",
        "- 기능을 변경하는 비용 대비 평가 지표의 향상 정도가 높지 않다면 기능을 변경할 이유가 없음\n",
        " - Gross Conversion : 0.01\n",
        " - Retention : 0.01\n",
        " - Net Conversion : 0.0075 \n"
      ],
      "metadata": {
        "id": "YJaK_7kPt1E6"
      }
    },
    {
      "cell_type": "markdown",
      "source": [
        "## 3. 프로젝트 진행"
      ],
      "metadata": {
        "id": "3O_UeEYpzjP5"
      }
    },
    {
      "cell_type": "code",
      "execution_count": 2,
      "metadata": {
        "id": "r9Cwg1yOo0Zk"
      },
      "outputs": [],
      "source": [
        "# 모듈 import\n",
        "\n",
        "import math as mt\n",
        "import numpy as np\n",
        "import pandas as pd\n",
        "from scipy.stats import norm\n",
        "import sklearn.utils"
      ]
    },
    {
      "cell_type": "markdown",
      "source": [
        ""
      ],
      "metadata": {
        "id": "TzpedybS214x"
      }
    },
    {
      "cell_type": "markdown",
      "metadata": {
        "id": "Gu9kIkZYo5Ce"
      },
      "source": [
        "### 평가지표를 수립하기 위한 기본 데이터 수집(daily)"
      ]
    },
    {
      "cell_type": "code",
      "execution_count": 3,
      "metadata": {
        "id": "p0y0ghZdo2il"
      },
      "outputs": [],
      "source": [
        "baseline = {\"Cookies\":40000,\"Clicks\":3200,\"Enrollments\":660, \"Payments\":350, \"CTP\":0.08}"
      ]
    },
    {
      "cell_type": "markdown",
      "metadata": {
        "id": "emjiR0VypWOt"
      },
      "source": [
        "### 전체 모수에서 5,000개의 쿠키만 표본으로 사용함\n",
        "- 데이터의 수가 많을 수록 신뢰구간이 좁아지게 됨(데이터가 많을 수록 평균으로 수렴하는 정규분포의 특성)\n",
        "- 신뢰구간이 좁아질 수록 두 집단의 작은 차이도 유의미하게 측정됨\n",
        "- 무의미한 차이를 유의미한 차이로 판정하는 2종 오류를 억제하기 위해 데이터 숫자를 조정함"
      ]
    },
    {
      "cell_type": "code",
      "execution_count": 4,
      "metadata": {
        "colab": {
          "base_uri": "https://localhost:8080/"
        },
        "id": "dSRo6KstpVmE",
        "outputId": "0f0f9f36-5d1a-4660-c906-389e524640a0"
      },
      "outputs": [
        {
          "output_type": "execute_result",
          "data": {
            "text/plain": [
              "{'CTP': 0.08,\n",
              " 'Clicks': 400.0,\n",
              " 'Cookies': 5000,\n",
              " 'Enrollments': 82.5,\n",
              " 'Payments': 43.75}"
            ]
          },
          "metadata": {},
          "execution_count": 4
        }
      ],
      "source": [
        "baseline[\"Cookies\"] = 5000\n",
        "baseline[\"Clicks\"]=baseline[\"Clicks\"]*(5000/40000)\n",
        "baseline[\"Enrollments\"]=baseline[\"Enrollments\"]*(5000/40000)\n",
        "baseline[\"Payments\"]=baseline[\"Payments\"]*(5000/40000)\n",
        "baseline"
      ]
    },
    {
      "cell_type": "markdown",
      "source": [
        "### 기본 데이터를 이용하여 평가 지표 계산"
      ],
      "metadata": {
        "id": "IS9dH06a4gek"
      }
    },
    {
      "cell_type": "code",
      "source": [
        "# 새로운 기능을 적용하기 전 평가 지표\n",
        "# Gross Conversion\n",
        "# Retention\n",
        "# Net Conversion\n",
        "\n",
        "baseline[\"GConversion\"] = baseline[\"Enrollments\"] / baseline[\"Clicks\"]\n",
        "baseline[\"Retention\"] = baseline[\"Payments\"] / baseline[\"Enrollments\"]\n",
        "baseline[\"NConversion\"] = baseline[\"Payments\"] / baseline[\"Clicks\"]\n",
        "\n",
        "baseline"
      ],
      "metadata": {
        "colab": {
          "base_uri": "https://localhost:8080/"
        },
        "id": "hbqZtoPo43rr",
        "outputId": "2867420b-0725-424f-8e1a-68536ba01453"
      },
      "execution_count": 5,
      "outputs": [
        {
          "output_type": "execute_result",
          "data": {
            "text/plain": [
              "{'CTP': 0.08,\n",
              " 'Clicks': 400.0,\n",
              " 'Cookies': 5000,\n",
              " 'Enrollments': 82.5,\n",
              " 'GConversion': 0.20625,\n",
              " 'NConversion': 0.109375,\n",
              " 'Payments': 43.75,\n",
              " 'Retention': 0.5303030303030303}"
            ]
          },
          "metadata": {},
          "execution_count": 5
        }
      ]
    },
    {
      "cell_type": "markdown",
      "metadata": {
        "id": "vmUO8QwNqASI"
      },
      "source": [
        "### 지표 별 필요한 샘플 수 추산을 위해 필요한 데이터 준비\n",
        "\n",
        "- Probability : 해당 상황이 발생할 가능성\n",
        "- Numbers : 전체 표본 수\n",
        "- d_min : baseline"
      ]
    },
    {
      "cell_type": "code",
      "execution_count": 6,
      "metadata": {
        "id": "oIviUSCJp_U6"
      },
      "outputs": [],
      "source": [
        "GC={}\n",
        "GC[\"d\"]=0.01\n",
        "GC[\"p\"]=baseline[\"GConversion\"]\n",
        "GC[\"n\"]=baseline[\"Clicks\"]"
      ]
    },
    {
      "cell_type": "code",
      "execution_count": 7,
      "metadata": {
        "id": "wbcQeQhcrSYX"
      },
      "outputs": [],
      "source": [
        "R={}\n",
        "R[\"d\"]=0.01\n",
        "R[\"p\"]=baseline[\"Retention\"]\n",
        "R[\"n\"]=baseline[\"Enrollments\"]"
      ]
    },
    {
      "cell_type": "code",
      "execution_count": 8,
      "metadata": {
        "id": "Gku7IKeQrWUw"
      },
      "outputs": [],
      "source": [
        "NC={}\n",
        "NC[\"d\"]=0.0075\n",
        "NC[\"p\"]=baseline[\"NConversion\"]\n",
        "NC[\"n\"]=baseline[\"Clicks\"]"
      ]
    },
    {
      "cell_type": "markdown",
      "source": [
        "## 샘플 사이즈 계산 함수\n",
        "\n",
        "$$(Z{_1-_{α\\over 2}}*sd_1+Z_{1−β}*sd_2)^2 \\over d^2$$\n",
        "\n",
        "- 1종 오류 확률과 2종 오류 확률을 더한 뒤 detective value로 스케일링함"
      ],
      "metadata": {
        "id": "fmb28pNdToTV"
      }
    },
    {
      "cell_type": "code",
      "source": [
        "# Z-score 함수\n",
        "# 95% 신뢰 수준에 대한 Z-score를 반환할 수 있도록 할 예정\n",
        "\n",
        "def get_z_score(alpha):\n",
        "    return norm.ppf(alpha)\n",
        "\n",
        "# sd1 -> 2종 오류 : P(reject null | null true)에 대한 표준 편차\n",
        "# sd2 -> 1종 오류 : P(fail to reject | null false)에 대한 표준 편차\n",
        "\n",
        "def get_sds(p,d):\n",
        "    sd1=mt.sqrt(p*(1-p) + p*(1-p))\n",
        "    sd2=mt.sqrt(p*(1-p)+(p+d)*(1-(p+d)))\n",
        "    sds=[sd1,sd2]\n",
        "    return sds\n",
        "\n",
        "def get_sampSize(sds,alpha,beta,d):\n",
        "    n=pow((get_z_score(1-alpha/2)*sds[0]+get_z_score(1-beta)*sds[1]),2)/pow(d,2)\n",
        "    return n"
      ],
      "metadata": {
        "id": "z1yJPNN2Tt7S"
      },
      "execution_count": 9,
      "outputs": []
    },
    {
      "cell_type": "markdown",
      "source": [
        "## 샘플 사이즈 계산"
      ],
      "metadata": {
        "id": "3drIUidUWCCZ"
      }
    },
    {
      "cell_type": "markdown",
      "source": [
        "- Gross Conversion의 유의수준을 측정하기 위해서 25,835개의 Click 수(Cookies)가 필요함\n"
      ],
      "metadata": {
        "id": "0e66ARUTYX53"
      }
    },
    {
      "cell_type": "code",
      "source": [
        "GC[\"SampSize\"]=round(get_sampSize(get_sds(GC[\"p\"],GC[\"d\"]),0.05,0.2,GC[\"d\"]))\n",
        "GC[\"SampSize\"]"
      ],
      "metadata": {
        "colab": {
          "base_uri": "https://localhost:8080/"
        },
        "id": "6W4sWKxSWGR7",
        "outputId": "55d9f8fe-6815-4288-a197-c64d2ac90eca"
      },
      "execution_count": 10,
      "outputs": [
        {
          "output_type": "execute_result",
          "data": {
            "text/plain": [
              "25835"
            ]
          },
          "metadata": {},
          "execution_count": 10
        }
      ]
    },
    {
      "cell_type": "markdown",
      "source": [
        "- 현재 5,000 페이지 조회수(Cookies) 당 400개의 클릭이 발생하고 있음. 즉, 클릭 수 하나당 12.5개의 페이지 조회수가 필요함\n",
        "- 위와 같은 비율에서 25,835개의 Click 수를 얻기 위해서 25,835 * 12.5(5000/400)개의 페이지 조회수가 필요함\n",
        "- A/B 양 집단에 사용할 샘플이 필요하기 때문에 2를 곱함\n"
      ],
      "metadata": {
        "id": "YTzn94XqZIYu"
      }
    },
    {
      "cell_type": "code",
      "source": [
        "GC[\"SampSize\"]=round(GC[\"SampSize\"]*12.5*2)\n",
        "GC[\"SampSize\"]"
      ],
      "metadata": {
        "colab": {
          "base_uri": "https://localhost:8080/"
        },
        "id": "K70eikjOWJOp",
        "outputId": "f034d8ab-f990-4253-86cd-bef196cd485a"
      },
      "execution_count": 11,
      "outputs": [
        {
          "output_type": "execute_result",
          "data": {
            "text/plain": [
              "645875"
            ]
          },
          "metadata": {},
          "execution_count": 11
        }
      ]
    },
    {
      "cell_type": "markdown",
      "source": [
        "- Retention의 유의수준을 측정하기 위해서 39,084명의 등록자가 필요함"
      ],
      "metadata": {
        "id": "kBKwVaWyaS6d"
      }
    },
    {
      "cell_type": "code",
      "source": [
        "R[\"SampSize\"]=round(get_sampSize(get_sds(R[\"p\"],R[\"d\"]),0.05,0.2,R[\"d\"]))\n",
        "R[\"SampSize\"]"
      ],
      "metadata": {
        "colab": {
          "base_uri": "https://localhost:8080/"
        },
        "id": "GXgiUBlzWKzS",
        "outputId": "d2533eaa-8fe9-4279-b1c4-7bf2d2230622"
      },
      "execution_count": 12,
      "outputs": [
        {
          "output_type": "execute_result",
          "data": {
            "text/plain": [
              "39084"
            ]
          },
          "metadata": {},
          "execution_count": 12
        }
      ]
    },
    {
      "cell_type": "markdown",
      "source": [
        "- 39,087명의 등록자를 얻기 위해서는 한명 당 등록 페이지에 진입하기 위해 필요한 페이지 갯수가 필요함(12.5개)\n",
        "- 한 명을 등록하기 위해 필요한 클릭 수가 필요함(=Gross Conversion(0.20625))\n",
        "- A/B 양 집단에 사용할 샘플이 필요하기 때문에 2를 곱함"
      ],
      "metadata": {
        "id": "l5kdKPXOa1n3"
      }
    },
    {
      "cell_type": "code",
      "source": [
        "R[\"SampSize\"]=R[\"SampSize\"]/0.08/0.20625*2\n",
        "R[\"SampSize\"]"
      ],
      "metadata": {
        "colab": {
          "base_uri": "https://localhost:8080/"
        },
        "id": "1p9JShi4WMQw",
        "outputId": "ea50be8d-d682-4358-ffa6-2a602cc5b203"
      },
      "execution_count": 13,
      "outputs": [
        {
          "output_type": "execute_result",
          "data": {
            "text/plain": [
              "4737454.545454546"
            ]
          },
          "metadata": {},
          "execution_count": 13
        }
      ]
    },
    {
      "cell_type": "markdown",
      "source": [
        "- Net Conversion을 측정하기 위해 27,427개의 클릭수가 필요함"
      ],
      "metadata": {
        "id": "2q8JEA7abbXG"
      }
    },
    {
      "cell_type": "code",
      "source": [
        "NC[\"SampSize\"]=round(get_sampSize(get_sds(NC[\"p\"],NC[\"d\"]),0.05,0.2,NC[\"d\"]))\n",
        "NC[\"SampSize\"]"
      ],
      "metadata": {
        "colab": {
          "base_uri": "https://localhost:8080/"
        },
        "id": "0pjT5wNXWObO",
        "outputId": "7afa06e8-5a17-49f8-af5e-a441585ed19d"
      },
      "execution_count": 14,
      "outputs": [
        {
          "output_type": "execute_result",
          "data": {
            "text/plain": [
              "27427"
            ]
          },
          "metadata": {},
          "execution_count": 14
        }
      ]
    },
    {
      "cell_type": "markdown",
      "source": [
        "- 5,000 페이지 조회수(Cookies) 당 400개의 클릭이 발생하고 있음. 즉, 클릭 수 하나당 12.5개의 페이지 조회수가 필요함\n",
        "- 위와 같은 비율에서 25,835개의 Click 수를 얻기 위해서 27,427 * 12.5(5000/400)개의 페이지 조회수가 필요함\n",
        "- A/B 양 집단에 사용할 샘플이 필요하기 때문에 2를 곱함"
      ],
      "metadata": {
        "id": "SV9oTlEtbnSM"
      }
    },
    {
      "cell_type": "code",
      "source": [
        "NC[\"SampSize\"]=NC[\"SampSize\"]/0.08*2\n",
        "NC[\"SampSize\"]"
      ],
      "metadata": {
        "colab": {
          "base_uri": "https://localhost:8080/"
        },
        "id": "pORj6VCibn14",
        "outputId": "7f42ce1d-708b-4a6d-dd2f-4900bb74a5ca"
      },
      "execution_count": 15,
      "outputs": [
        {
          "output_type": "execute_result",
          "data": {
            "text/plain": [
              "685675.0"
            ]
          },
          "metadata": {},
          "execution_count": 15
        }
      ]
    },
    {
      "cell_type": "markdown",
      "source": [
        "## 샘플 사이즈 선택\n",
        "\n",
        "- 지표 당 필요한 샘플 사이즈(페이지 조회 수)\n",
        " - GC : 645,875\n",
        " - R : 4,737,454\n",
        " - NC : 685,675\n",
        "\n",
        "- 하루에 약 40,000 건의 페이지 조회가 발생하고 있음. 각 지표에 필요한 샘플 사이즈를 얻기 위해 필요한 데이터 수집 기간은 다음과 같음\n",
        " - GC : 17일(645875 / 40000)\n",
        " - R : 119일(4737454 / 40000)\n",
        " - NC : 18일(685675 / 40000)\n",
        "\n",
        "- 현실적으로 119일동안 A/B 테스트를 진행하기 어려움\n",
        "- NC의 샘플 사이즈를 선택하면 GC의 샘플 사이즈 수도 포괄할 수 있음(Retention에 대한 테스트는 진행할 수 없음)\n",
        "- **A/B 테스트를 위해 수집할 샘플의 사이즈는 685,675개로 선택**"
      ],
      "metadata": {
        "id": "noa50ozVb3vB"
      }
    },
    {
      "cell_type": "markdown",
      "source": [
        "## 수집한 데이터 분석"
      ],
      "metadata": {
        "id": "EKUp3Phoet_6"
      }
    },
    {
      "cell_type": "markdown",
      "source": [
        "### EDA"
      ],
      "metadata": {
        "id": "e-IZxXwIgRgA"
      }
    },
    {
      "cell_type": "code",
      "source": [
        "control = pd.read_csv(\"/content/drive/MyDrive/A-B-test_data/control_data.csv\")\n",
        "experiment = pd.read_csv(\"/content/drive/MyDrive/A-B-test_data/experiment_data.csv\")"
      ],
      "metadata": {
        "id": "l7xMIHKvfiEm"
      },
      "execution_count": 16,
      "outputs": []
    },
    {
      "cell_type": "code",
      "source": [
        "control.head()"
      ],
      "metadata": {
        "colab": {
          "base_uri": "https://localhost:8080/",
          "height": 206
        },
        "id": "ECGahL5QfskP",
        "outputId": "ca1e772d-c6b6-4e84-df97-fd50bf1bc87a"
      },
      "execution_count": 17,
      "outputs": [
        {
          "output_type": "execute_result",
          "data": {
            "text/plain": [
              "          Date  Pageviews  Clicks  Enrollments  Payments\n",
              "0  Sat, Oct 11       7723     687        134.0      70.0\n",
              "1  Sun, Oct 12       9102     779        147.0      70.0\n",
              "2  Mon, Oct 13      10511     909        167.0      95.0\n",
              "3  Tue, Oct 14       9871     836        156.0     105.0\n",
              "4  Wed, Oct 15      10014     837        163.0      64.0"
            ],
            "text/html": [
              "\n",
              "  <div id=\"df-f60ff681-3922-4864-9e93-0c43a938be59\">\n",
              "    <div class=\"colab-df-container\">\n",
              "      <div>\n",
              "<style scoped>\n",
              "    .dataframe tbody tr th:only-of-type {\n",
              "        vertical-align: middle;\n",
              "    }\n",
              "\n",
              "    .dataframe tbody tr th {\n",
              "        vertical-align: top;\n",
              "    }\n",
              "\n",
              "    .dataframe thead th {\n",
              "        text-align: right;\n",
              "    }\n",
              "</style>\n",
              "<table border=\"1\" class=\"dataframe\">\n",
              "  <thead>\n",
              "    <tr style=\"text-align: right;\">\n",
              "      <th></th>\n",
              "      <th>Date</th>\n",
              "      <th>Pageviews</th>\n",
              "      <th>Clicks</th>\n",
              "      <th>Enrollments</th>\n",
              "      <th>Payments</th>\n",
              "    </tr>\n",
              "  </thead>\n",
              "  <tbody>\n",
              "    <tr>\n",
              "      <th>0</th>\n",
              "      <td>Sat, Oct 11</td>\n",
              "      <td>7723</td>\n",
              "      <td>687</td>\n",
              "      <td>134.0</td>\n",
              "      <td>70.0</td>\n",
              "    </tr>\n",
              "    <tr>\n",
              "      <th>1</th>\n",
              "      <td>Sun, Oct 12</td>\n",
              "      <td>9102</td>\n",
              "      <td>779</td>\n",
              "      <td>147.0</td>\n",
              "      <td>70.0</td>\n",
              "    </tr>\n",
              "    <tr>\n",
              "      <th>2</th>\n",
              "      <td>Mon, Oct 13</td>\n",
              "      <td>10511</td>\n",
              "      <td>909</td>\n",
              "      <td>167.0</td>\n",
              "      <td>95.0</td>\n",
              "    </tr>\n",
              "    <tr>\n",
              "      <th>3</th>\n",
              "      <td>Tue, Oct 14</td>\n",
              "      <td>9871</td>\n",
              "      <td>836</td>\n",
              "      <td>156.0</td>\n",
              "      <td>105.0</td>\n",
              "    </tr>\n",
              "    <tr>\n",
              "      <th>4</th>\n",
              "      <td>Wed, Oct 15</td>\n",
              "      <td>10014</td>\n",
              "      <td>837</td>\n",
              "      <td>163.0</td>\n",
              "      <td>64.0</td>\n",
              "    </tr>\n",
              "  </tbody>\n",
              "</table>\n",
              "</div>\n",
              "      <button class=\"colab-df-convert\" onclick=\"convertToInteractive('df-f60ff681-3922-4864-9e93-0c43a938be59')\"\n",
              "              title=\"Convert this dataframe to an interactive table.\"\n",
              "              style=\"display:none;\">\n",
              "        \n",
              "  <svg xmlns=\"http://www.w3.org/2000/svg\" height=\"24px\"viewBox=\"0 0 24 24\"\n",
              "       width=\"24px\">\n",
              "    <path d=\"M0 0h24v24H0V0z\" fill=\"none\"/>\n",
              "    <path d=\"M18.56 5.44l.94 2.06.94-2.06 2.06-.94-2.06-.94-.94-2.06-.94 2.06-2.06.94zm-11 1L8.5 8.5l.94-2.06 2.06-.94-2.06-.94L8.5 2.5l-.94 2.06-2.06.94zm10 10l.94 2.06.94-2.06 2.06-.94-2.06-.94-.94-2.06-.94 2.06-2.06.94z\"/><path d=\"M17.41 7.96l-1.37-1.37c-.4-.4-.92-.59-1.43-.59-.52 0-1.04.2-1.43.59L10.3 9.45l-7.72 7.72c-.78.78-.78 2.05 0 2.83L4 21.41c.39.39.9.59 1.41.59.51 0 1.02-.2 1.41-.59l7.78-7.78 2.81-2.81c.8-.78.8-2.07 0-2.86zM5.41 20L4 18.59l7.72-7.72 1.47 1.35L5.41 20z\"/>\n",
              "  </svg>\n",
              "      </button>\n",
              "      \n",
              "  <style>\n",
              "    .colab-df-container {\n",
              "      display:flex;\n",
              "      flex-wrap:wrap;\n",
              "      gap: 12px;\n",
              "    }\n",
              "\n",
              "    .colab-df-convert {\n",
              "      background-color: #E8F0FE;\n",
              "      border: none;\n",
              "      border-radius: 50%;\n",
              "      cursor: pointer;\n",
              "      display: none;\n",
              "      fill: #1967D2;\n",
              "      height: 32px;\n",
              "      padding: 0 0 0 0;\n",
              "      width: 32px;\n",
              "    }\n",
              "\n",
              "    .colab-df-convert:hover {\n",
              "      background-color: #E2EBFA;\n",
              "      box-shadow: 0px 1px 2px rgba(60, 64, 67, 0.3), 0px 1px 3px 1px rgba(60, 64, 67, 0.15);\n",
              "      fill: #174EA6;\n",
              "    }\n",
              "\n",
              "    [theme=dark] .colab-df-convert {\n",
              "      background-color: #3B4455;\n",
              "      fill: #D2E3FC;\n",
              "    }\n",
              "\n",
              "    [theme=dark] .colab-df-convert:hover {\n",
              "      background-color: #434B5C;\n",
              "      box-shadow: 0px 1px 3px 1px rgba(0, 0, 0, 0.15);\n",
              "      filter: drop-shadow(0px 1px 2px rgba(0, 0, 0, 0.3));\n",
              "      fill: #FFFFFF;\n",
              "    }\n",
              "  </style>\n",
              "\n",
              "      <script>\n",
              "        const buttonEl =\n",
              "          document.querySelector('#df-f60ff681-3922-4864-9e93-0c43a938be59 button.colab-df-convert');\n",
              "        buttonEl.style.display =\n",
              "          google.colab.kernel.accessAllowed ? 'block' : 'none';\n",
              "\n",
              "        async function convertToInteractive(key) {\n",
              "          const element = document.querySelector('#df-f60ff681-3922-4864-9e93-0c43a938be59');\n",
              "          const dataTable =\n",
              "            await google.colab.kernel.invokeFunction('convertToInteractive',\n",
              "                                                     [key], {});\n",
              "          if (!dataTable) return;\n",
              "\n",
              "          const docLinkHtml = 'Like what you see? Visit the ' +\n",
              "            '<a target=\"_blank\" href=https://colab.research.google.com/notebooks/data_table.ipynb>data table notebook</a>'\n",
              "            + ' to learn more about interactive tables.';\n",
              "          element.innerHTML = '';\n",
              "          dataTable['output_type'] = 'display_data';\n",
              "          await google.colab.output.renderOutput(dataTable, element);\n",
              "          const docLink = document.createElement('div');\n",
              "          docLink.innerHTML = docLinkHtml;\n",
              "          element.appendChild(docLink);\n",
              "        }\n",
              "      </script>\n",
              "    </div>\n",
              "  </div>\n",
              "  "
            ]
          },
          "metadata": {},
          "execution_count": 17
        }
      ]
    },
    {
      "cell_type": "markdown",
      "source": [
        "## 수집한 데이터 간의 불변 지표 평가"
      ],
      "metadata": {
        "id": "FWNQtol6jjdJ"
      }
    },
    {
      "cell_type": "markdown",
      "source": [
        "### 1. 페이지 뷰 불변 지표 평가\n",
        "\n",
        "- A/B 두 집단의 샘플 사이즈에 유의미한 차이가 없다는 것을 확인해야 함\n",
        "\n",
        "1) pageview\n",
        "- control과 experiment의 페이지 뷰에 유의미한 차이가 있어선 안됨"
      ],
      "metadata": {
        "id": "XyTyVeP2jsIk"
      }
    },
    {
      "cell_type": "code",
      "source": [
        "# 통제 그룹의 Pageviews \n",
        "pageviews_cont = control['Pageviews'].sum()\n",
        "\n",
        "# 실험 그룹의 Pageviews\n",
        "pageviews_exp = experiment['Pageviews'].sum()\n",
        "\n",
        "# 샘플링된 전체 Pageviews\n",
        "pageviews_total = pageviews_cont+pageviews_exp\n",
        "\n",
        "print(\"control 그룹(통제군)의 페이지 조회 수 :\", pageviews_cont)\n",
        "print(\"experiment 그룹(실험군)의 페이지 조회 수 :\" ,pageviews_exp)\n",
        "print(\"샘플링된 총 페이지 조회 수 :\", pageviews_total)"
      ],
      "metadata": {
        "colab": {
          "base_uri": "https://localhost:8080/"
        },
        "id": "i8CfdqhFji5Z",
        "outputId": "22cdf4de-6268-476d-a658-740b97497f70"
      },
      "execution_count": 18,
      "outputs": [
        {
          "output_type": "stream",
          "name": "stdout",
          "text": [
            "control 그룹(통제군)의 페이지 조회 수 : 345543\n",
            "experiment 그룹(실험군)의 페이지 조회 수 : 344660\n",
            "샘플링된 총 페이지 조회 수 : 690203\n"
          ]
        }
      ]
    },
    {
      "cell_type": "markdown",
      "source": [
        "- 전체 데이터에 대해 control과 experiment 데이터의 비율은 0.5이여야 샘플 사이즈에 편향이 없다고 볼 수 있음\n",
        "- 0.5에 대한 허용 오차를 구하고, 전체 데이터에 대한 A/B 샘플 사이즈가 허용 오차 안에 위치하는 지 확인함"
      ],
      "metadata": {
        "id": "SgaNxt0zrCS5"
      }
    },
    {
      "cell_type": "code",
      "source": [
        "p_hat_cont = round(pageviews_cont/(pageviews_total),4)\n",
        "p_hat_exp = round(pageviews_exp/(pageviews_total),4)\n",
        "\n",
        "print(\"통제군의 데이터 비율 :\", p_hat_cont)\n",
        "print(\"실험군의 데이터 비율 :\", p_hat_exp)"
      ],
      "metadata": {
        "colab": {
          "base_uri": "https://localhost:8080/"
        },
        "id": "I-sEuviQjq6w",
        "outputId": "799edda7-ba0a-4683-984d-4d6491464899"
      },
      "execution_count": 19,
      "outputs": [
        {
          "output_type": "stream",
          "name": "stdout",
          "text": [
            "통제군의 데이터 비율 : 0.5006\n",
            "실험군의 데이터 비율 : 0.4994\n"
          ]
        }
      ]
    },
    {
      "cell_type": "markdown",
      "source": [
        "- 가설 설정\n",
        " - 귀무가설 : 통제군(실험군)의 데이터 비율과 0.5는 통계적으로 유의미한 차이가 없다\n",
        " - 대립가설 : 통제군(실험군)의 데이터 비율과 0.5는 통계적으로 유의미한 차이가 있다.\n",
        "\n",
        "- Margin of error을 통한 신뢰수준 계산\n",
        " - 허용오차 z-score * se로 계산됨\n",
        " - z-score는 평균이 0이고 표준편차가 1인 정규분포 곡선에서 도출할 수 있음. 통상적으로 95% 신뢰구간을 설정하면, z-score는 +-1.96이 도출됨\n",
        " - 표준오차는 p값, 즉 성공가능성의 크기에 의해 좌우됨. 0.5보다 작아지거나 커지면 표본 오차가 작아지고, 신뢰구간이 좁아짐. 0.5일 때 불확실성이 가장 크다는 의미\n",
        " - 오차허용 범위는 정규분포상에서 설정한 신뢰구간 범위(+-1.96)를 SE로 scaling한 것이라고 이해할 수 있음.\n",
        " - 해당 오차허용 범위로 신뢰구간을 설정함"
      ],
      "metadata": {
        "id": "E6EgA9alsCut"
      }
    },
    {
      "cell_type": "code",
      "source": [
        "p = 0.5\n",
        "alpha = 0.05\n",
        "sd = mt.sqrt(p*(1-p)/(pageviews_total))\n",
        "ME = round(get_z_score(1-(alpha/2))*sd,4)\n",
        "\n",
        "print(f\"신뢰구간 : {p-ME}~{p+ME}\")\n",
        "print(f\"신뢰구간 안에 {p_hat_cont}과 {p_hat_exp}이 포함되어야 A/A 테스트 통과\")"
      ],
      "metadata": {
        "colab": {
          "base_uri": "https://localhost:8080/"
        },
        "id": "oChbD7bigPU_",
        "outputId": "e3e4e6f2-198d-4f2e-a596-f86571c5720b"
      },
      "execution_count": 20,
      "outputs": [
        {
          "output_type": "stream",
          "name": "stdout",
          "text": [
            "신뢰구간 : 0.4988~0.5012\n",
            "신뢰구간 안에 0.5006과 0.4994이 포함되어야 A/A 테스트 통과\n"
          ]
        }
      ]
    },
    {
      "cell_type": "markdown",
      "source": [
        "- 통제군과 실험군의 비율이 95% 신뢰도에서 0.5 +-0.012 구간 안에 위치하는 것을 확인 -> 귀무가설 채택"
      ],
      "metadata": {
        "id": "2LkEj50Sv5ck"
      }
    },
    {
      "cell_type": "markdown",
      "source": [
        "2) 'Start Free Trial' 버튼 클릭 수\n",
        "\n",
        "- 가설 설정\n",
        "\n",
        " - 귀무가설 : 통제군(실험군)의 데이터 비율과 0.5는 통계적으로 유의미한 차이가 없다\n",
        " - 대립가설 : 통제군(실험군)의 데이터 비율과 0.5는 통계적으로 유의미한 차이가 있다."
      ],
      "metadata": {
        "id": "4oxljpKnwgOd"
      }
    },
    {
      "cell_type": "code",
      "source": [
        "clicks_cont = control['Clicks'].sum()\n",
        "clicks_exp = experiment['Clicks'].sum()\n",
        "clicks_total = clicks_cont + clicks_exp"
      ],
      "metadata": {
        "id": "JQWbYLllz43z"
      },
      "execution_count": 21,
      "outputs": []
    },
    {
      "cell_type": "code",
      "source": [
        "p_hat_cont = round(clicks_cont / clicks_total, 4)\n",
        "p_hat_exp = round(clicks_exp / clicks_total, 4)\n",
        "\n",
        "print(\"통제군의 데이터 비율 :\", p_hat_cont)\n",
        "print(\"실험군의 데이터 비율 :\", p_hat_exp)"
      ],
      "metadata": {
        "colab": {
          "base_uri": "https://localhost:8080/"
        },
        "id": "-kzbEM3l1ROc",
        "outputId": "29c3ddd9-f4d6-4a69-c6bd-0cd32e4f9e50"
      },
      "execution_count": 22,
      "outputs": [
        {
          "output_type": "stream",
          "name": "stdout",
          "text": [
            "통제군의 데이터 비율 : 0.5005\n",
            "실험군의 데이터 비율 : 0.4995\n"
          ]
        }
      ]
    },
    {
      "cell_type": "code",
      "source": [
        "p = 0.5\n",
        "alpha = 0.05\n",
        "sd = mt.sqrt(p*(1-p)/(clicks_total))\n",
        "ME = round(get_z_score(1-(alpha/2))*sd,4)\n",
        "\n",
        "print(f\"신뢰구간 : {p-ME}~{p+ME}\")\n",
        "print(f\"신뢰구간 안에 {p_hat_cont}과 {p_hat_exp}이 포함되어야 A/A 테스트 통과\")"
      ],
      "metadata": {
        "colab": {
          "base_uri": "https://localhost:8080/"
        },
        "id": "rAlQsDTI1RrD",
        "outputId": "173a9efd-1444-45e7-8ae0-26509f323788"
      },
      "execution_count": 23,
      "outputs": [
        {
          "output_type": "stream",
          "name": "stdout",
          "text": [
            "신뢰구간 : 0.4959~0.5041\n",
            "신뢰구간 안에 0.5005과 0.4995이 포함되어야 A/A 테스트 통과\n"
          ]
        }
      ]
    },
    {
      "cell_type": "markdown",
      "source": [
        "- 통제군과 실험군의 비율이 95% 신뢰도에서 0.5 +-0.041 구간 안에 위치하는 것을 확인 -> 귀무가설 채택"
      ],
      "metadata": {
        "id": "xF17FT1w2T4M"
      }
    },
    {
      "cell_type": "markdown",
      "source": [
        "## A/B 테스트 평가 지표 분석"
      ],
      "metadata": {
        "id": "sPzSX34YjBXW"
      }
    },
    {
      "cell_type": "markdown",
      "source": [
        "### 1. A/B test 평가 지표 확인(효과 크기)\n",
        "\n",
        "#### 목표 : A/B 집단의 평가 지표 간의 유의미한 변화가 있는 것을 확인해야 함\n",
        "\n",
        "#### 효과 크기(Effect size)\n",
        "- 두 변수 사이의 연관성 정도를 의미함\n",
        "- 효과 크기가 0이라는 것은 비교 집단들 사이의 차이(연관성)이 없다는 것을 의미함\n",
        "- 비교하려는 집단 사이의 차이가 클 수록 효과 크기가 커지게 됨"
      ],
      "metadata": {
        "id": "22u15lli23yx"
      }
    },
    {
      "cell_type": "markdown",
      "source": [
        "1) Gross Conversion"
      ],
      "metadata": {
        "id": "FrxSjKWiZ1pN"
      }
    },
    {
      "cell_type": "code",
      "source": [
        "# 결측치 제외\n",
        "\n",
        "clicks_cont=control[\"Clicks\"].loc[control[\"Enrollments\"].notnull()].sum()\n",
        "clicks_exp=experiment[\"Clicks\"].loc[experiment[\"Enrollments\"].notnull()].sum()"
      ],
      "metadata": {
        "id": "jN5GOsNCV8-2"
      },
      "execution_count": 24,
      "outputs": []
    },
    {
      "cell_type": "code",
      "source": [
        "# Gross Conversion = Enrollments / Clicks\n",
        "# 통제군&실험군 GC 계산\n",
        "\n",
        "enrollments_cont = control[\"Enrollments\"].sum()\n",
        "enrollments_exp = experiment[\"Enrollments\"].sum()\n",
        "\n",
        "GC_cont = enrollments_cont / clicks_cont\n",
        "GC_exp = enrollments_exp / clicks_exp\n",
        "\n",
        "# 합동 표준편차 계산 -> 합동 표준편차를 통해 신뢰구간 계산\n",
        "    # GC_pooled : 두 샘플의 총 Gross Conversion Probability\n",
        "    # GC_sd_pooled : 합동 표준편차\n",
        "    # GC_ME : Margin of Error\n",
        "\n",
        "GC_pooled = (enrollments_cont + enrollments_exp) / (clicks_cont + clicks_exp)\n",
        "GC_sd_pooled = mt.sqrt(GC_pooled*(1-GC_pooled) * (1/clicks_cont + 1/clicks_exp))\n",
        "GC_ME=round(get_z_score(1-alpha/2) * GC_sd_pooled, 4)\n",
        "\n",
        "GC_d_hat = round(GC_exp - GC_cont, 4)"
      ],
      "metadata": {
        "id": "2K8gXzy0SSjl"
      },
      "execution_count": 25,
      "outputs": []
    },
    {
      "cell_type": "code",
      "source": [
        "print(f\"- 통제군과 실험군의 차이 : {GC_d_hat}\")\n",
        "print(f\"- 두 집단의 차이는 95% 확률로 [{GC_d_hat - GC_ME} ~ {GC_d_hat + GC_ME}] 안에서 형성될 가능성이 높음\")\n",
        "print(\"- 신뢰 구간 안에 0이 포함되어 있지 않으므로 통게적으로 두 집단의 GC 차이는 통계적으로 유의미함\")\n",
        "print(\"- 또한, 신뢰 구간의 범위가 baseline인 -0.01보다 작으므로 실질적으로도 유의미한 차이라고 볼 수 있음\")"
      ],
      "metadata": {
        "colab": {
          "base_uri": "https://localhost:8080/"
        },
        "id": "qIpp9dBiUqmW",
        "outputId": "e9b4733c-3308-45c7-b70c-9ffda74e65b7"
      },
      "execution_count": 26,
      "outputs": [
        {
          "output_type": "stream",
          "name": "stdout",
          "text": [
            "- 통제군과 실험군의 차이 : -0.0206\n",
            "- 두 집단의 차이는 95% 확률로 [-0.0292 ~ -0.012] 안에서 형성될 가능성이 높음\n",
            "- 신뢰 구간 안에 0이 포함되어 있지 않으므로 통게적으로 두 집단의 GC 차이는 통계적으로 유의미함\n",
            "- 또한, 신뢰 구간의 범위가 baseline인 -0.01보다 작으므로 실질적으로도 유의미한 차이라고 볼 수 있음\n"
          ]
        }
      ]
    },
    {
      "cell_type": "markdown",
      "source": [
        "2) Net Conversion"
      ],
      "metadata": {
        "id": "-o2lw-DfZ4vV"
      }
    },
    {
      "cell_type": "code",
      "source": [
        "# Gross Conversion = Enrollments / Clicks\n",
        "# 통제군&실험군 NC 계산\n",
        "\n",
        "payments_cont = control[\"Payments\"].sum()\n",
        "payments_exp = experiment[\"Payments\"].sum()\n",
        "\n",
        "NC_cont = payments_cont / clicks_cont\n",
        "NC_exp = payments_exp / clicks_exp\n",
        "\n",
        "# 합동 표준편차 계산 -> 합동 표준편차를 통해 신뢰구간 계산\n",
        "    # NC_pooled : 두 샘플의 총 Net Conversion Probability\n",
        "    # NC_sd_pooled : 합동 표준편차\n",
        "    # NC_ME : Margin of Error\n",
        "\n",
        "NC_pooled = (payments_cont+payments_exp) / (clicks_cont + clicks_exp)\n",
        "NC_sd_pooled = mt.sqrt(NC_pooled*(1-NC_pooled) * (1/clicks_cont + 1/clicks_exp))\n",
        "NC_ME = round(get_z_score(1-alpha/2) * NC_sd_pooled, 4)\n",
        "\n",
        "NC_d_hat = round(NC_exp - NC_cont, 4)"
      ],
      "metadata": {
        "id": "4LyKtnvvVdSi"
      },
      "execution_count": 27,
      "outputs": []
    },
    {
      "cell_type": "code",
      "source": [
        "print(f\"- 통제군과 실험군의 차이 : {NC_d_hat}\")\n",
        "print(f\"- 두 집단의 차이는 95% 확률로 [{NC_d_hat - NC_ME} ~ {NC_d_hat + NC_ME}] 안에서 형성될 가능성이 높음\")\n",
        "print(\"- 신뢰 구간 안에 0이 포함되어 있으므로 두 집단의 차이는 통계적으로 유의하지 않을 가능성이 있음\")\n",
        "print(\"- 또한, 신뢰 구간의 범위가 baseline인 0.075보다 작기 때문에 실질적으로도 유의미한 차이라고 볼 수 없음\")"
      ],
      "metadata": {
        "colab": {
          "base_uri": "https://localhost:8080/"
        },
        "id": "IMlbJ0FKdd4V",
        "outputId": "3c3f061f-0654-4c58-face-0e0996dc692c"
      },
      "execution_count": 28,
      "outputs": [
        {
          "output_type": "stream",
          "name": "stdout",
          "text": [
            "- 통제군과 실험군의 차이 : -0.0049\n",
            "- 두 집단의 차이는 95% 확률로 [-0.0116 ~ 0.0018000000000000004] 안에서 형성될 가능성이 높음\n",
            "- 신뢰 구간 안에 0이 포함되어 있으므로 두 집단의 차이는 통계적으로 유의하지 않을 가능성이 있음\n",
            "- 또한, 신뢰 구간의 범위가 baseline인 0.075보다 작기 때문에 실질적으로도 유의미한 차이라고 볼 수 없음\n"
          ]
        }
      ]
    },
    {
      "cell_type": "markdown",
      "source": [
        "### 2. A/B test 평가 지표 확인(부호 검정)\n",
        "\n",
        "#### 목표 : 효과 크기 방식의 A/B test 결과를 재검증함\n",
        "\n",
        "#### 부호검정(sign test)\n",
        "- 비교하려는 지표(변수) 간에 비교된 크기 외에 다른 정보는 모두 무시하는 검정 방법\n",
        "- 평균값을 기반으로 한 효과 크기 방식의 검정은 이상치에 취약하기 때문에 이상치의 영향을 덜 받는 sign test로 분석 결과를 cross check 함\n",
        "\n",
        "#### 진행 방법\n",
        "\n",
        "1) 통제군과 실험군의 크기를 daily 단위로 비교하여 이진 분류함(통제군이 크면 0, 실험군이 크면 1)\n",
        "\n",
        "2) 0과 1로 분류된 데이터를 집계함\n",
        "\n",
        "  - 귀무가설 : 통제군(실험군)의 비율이 0.5와 유의미한 차이가 없을 것이다.\n",
        "  - 대립가설 : 통제군(실험군)의 비율이 0.5와 유의미한 차이가 있을 것이다.\n",
        "\n",
        "3) 통제군(실험군)의 비율과 신뢰수준을 통해 p-value를 계산함\n"
      ],
      "metadata": {
        "id": "DvuzA0RwhUNI"
      }
    },
    {
      "cell_type": "code",
      "source": [
        "# 두 지표의 크기를 비교하기 위해 df 병합\n",
        "full = control.join(other=experiment, how=\"inner\", lsuffix=\"_cont\", rsuffix=\"_exp\")\n",
        "\n",
        "full.head()"
      ],
      "metadata": {
        "colab": {
          "base_uri": "https://localhost:8080/",
          "height": 357
        },
        "id": "xQnHtK4_jLcE",
        "outputId": "1c3149ae-0078-4903-e826-498fba8f1453"
      },
      "execution_count": 29,
      "outputs": [
        {
          "output_type": "execute_result",
          "data": {
            "text/plain": [
              "     Date_cont  Pageviews_cont  Clicks_cont  Enrollments_cont  Payments_cont  \\\n",
              "0  Sat, Oct 11            7723          687             134.0           70.0   \n",
              "1  Sun, Oct 12            9102          779             147.0           70.0   \n",
              "2  Mon, Oct 13           10511          909             167.0           95.0   \n",
              "3  Tue, Oct 14            9871          836             156.0          105.0   \n",
              "4  Wed, Oct 15           10014          837             163.0           64.0   \n",
              "\n",
              "      Date_exp  Pageviews_exp  Clicks_exp  Enrollments_exp  Payments_exp  \n",
              "0  Sat, Oct 11           7716         686            105.0          34.0  \n",
              "1  Sun, Oct 12           9288         785            116.0          91.0  \n",
              "2  Mon, Oct 13          10480         884            145.0          79.0  \n",
              "3  Tue, Oct 14           9867         827            138.0          92.0  \n",
              "4  Wed, Oct 15           9793         832            140.0          94.0  "
            ],
            "text/html": [
              "\n",
              "  <div id=\"df-ac797179-6669-4451-8538-a12f41f9e6ae\">\n",
              "    <div class=\"colab-df-container\">\n",
              "      <div>\n",
              "<style scoped>\n",
              "    .dataframe tbody tr th:only-of-type {\n",
              "        vertical-align: middle;\n",
              "    }\n",
              "\n",
              "    .dataframe tbody tr th {\n",
              "        vertical-align: top;\n",
              "    }\n",
              "\n",
              "    .dataframe thead th {\n",
              "        text-align: right;\n",
              "    }\n",
              "</style>\n",
              "<table border=\"1\" class=\"dataframe\">\n",
              "  <thead>\n",
              "    <tr style=\"text-align: right;\">\n",
              "      <th></th>\n",
              "      <th>Date_cont</th>\n",
              "      <th>Pageviews_cont</th>\n",
              "      <th>Clicks_cont</th>\n",
              "      <th>Enrollments_cont</th>\n",
              "      <th>Payments_cont</th>\n",
              "      <th>Date_exp</th>\n",
              "      <th>Pageviews_exp</th>\n",
              "      <th>Clicks_exp</th>\n",
              "      <th>Enrollments_exp</th>\n",
              "      <th>Payments_exp</th>\n",
              "    </tr>\n",
              "  </thead>\n",
              "  <tbody>\n",
              "    <tr>\n",
              "      <th>0</th>\n",
              "      <td>Sat, Oct 11</td>\n",
              "      <td>7723</td>\n",
              "      <td>687</td>\n",
              "      <td>134.0</td>\n",
              "      <td>70.0</td>\n",
              "      <td>Sat, Oct 11</td>\n",
              "      <td>7716</td>\n",
              "      <td>686</td>\n",
              "      <td>105.0</td>\n",
              "      <td>34.0</td>\n",
              "    </tr>\n",
              "    <tr>\n",
              "      <th>1</th>\n",
              "      <td>Sun, Oct 12</td>\n",
              "      <td>9102</td>\n",
              "      <td>779</td>\n",
              "      <td>147.0</td>\n",
              "      <td>70.0</td>\n",
              "      <td>Sun, Oct 12</td>\n",
              "      <td>9288</td>\n",
              "      <td>785</td>\n",
              "      <td>116.0</td>\n",
              "      <td>91.0</td>\n",
              "    </tr>\n",
              "    <tr>\n",
              "      <th>2</th>\n",
              "      <td>Mon, Oct 13</td>\n",
              "      <td>10511</td>\n",
              "      <td>909</td>\n",
              "      <td>167.0</td>\n",
              "      <td>95.0</td>\n",
              "      <td>Mon, Oct 13</td>\n",
              "      <td>10480</td>\n",
              "      <td>884</td>\n",
              "      <td>145.0</td>\n",
              "      <td>79.0</td>\n",
              "    </tr>\n",
              "    <tr>\n",
              "      <th>3</th>\n",
              "      <td>Tue, Oct 14</td>\n",
              "      <td>9871</td>\n",
              "      <td>836</td>\n",
              "      <td>156.0</td>\n",
              "      <td>105.0</td>\n",
              "      <td>Tue, Oct 14</td>\n",
              "      <td>9867</td>\n",
              "      <td>827</td>\n",
              "      <td>138.0</td>\n",
              "      <td>92.0</td>\n",
              "    </tr>\n",
              "    <tr>\n",
              "      <th>4</th>\n",
              "      <td>Wed, Oct 15</td>\n",
              "      <td>10014</td>\n",
              "      <td>837</td>\n",
              "      <td>163.0</td>\n",
              "      <td>64.0</td>\n",
              "      <td>Wed, Oct 15</td>\n",
              "      <td>9793</td>\n",
              "      <td>832</td>\n",
              "      <td>140.0</td>\n",
              "      <td>94.0</td>\n",
              "    </tr>\n",
              "  </tbody>\n",
              "</table>\n",
              "</div>\n",
              "      <button class=\"colab-df-convert\" onclick=\"convertToInteractive('df-ac797179-6669-4451-8538-a12f41f9e6ae')\"\n",
              "              title=\"Convert this dataframe to an interactive table.\"\n",
              "              style=\"display:none;\">\n",
              "        \n",
              "  <svg xmlns=\"http://www.w3.org/2000/svg\" height=\"24px\"viewBox=\"0 0 24 24\"\n",
              "       width=\"24px\">\n",
              "    <path d=\"M0 0h24v24H0V0z\" fill=\"none\"/>\n",
              "    <path d=\"M18.56 5.44l.94 2.06.94-2.06 2.06-.94-2.06-.94-.94-2.06-.94 2.06-2.06.94zm-11 1L8.5 8.5l.94-2.06 2.06-.94-2.06-.94L8.5 2.5l-.94 2.06-2.06.94zm10 10l.94 2.06.94-2.06 2.06-.94-2.06-.94-.94-2.06-.94 2.06-2.06.94z\"/><path d=\"M17.41 7.96l-1.37-1.37c-.4-.4-.92-.59-1.43-.59-.52 0-1.04.2-1.43.59L10.3 9.45l-7.72 7.72c-.78.78-.78 2.05 0 2.83L4 21.41c.39.39.9.59 1.41.59.51 0 1.02-.2 1.41-.59l7.78-7.78 2.81-2.81c.8-.78.8-2.07 0-2.86zM5.41 20L4 18.59l7.72-7.72 1.47 1.35L5.41 20z\"/>\n",
              "  </svg>\n",
              "      </button>\n",
              "      \n",
              "  <style>\n",
              "    .colab-df-container {\n",
              "      display:flex;\n",
              "      flex-wrap:wrap;\n",
              "      gap: 12px;\n",
              "    }\n",
              "\n",
              "    .colab-df-convert {\n",
              "      background-color: #E8F0FE;\n",
              "      border: none;\n",
              "      border-radius: 50%;\n",
              "      cursor: pointer;\n",
              "      display: none;\n",
              "      fill: #1967D2;\n",
              "      height: 32px;\n",
              "      padding: 0 0 0 0;\n",
              "      width: 32px;\n",
              "    }\n",
              "\n",
              "    .colab-df-convert:hover {\n",
              "      background-color: #E2EBFA;\n",
              "      box-shadow: 0px 1px 2px rgba(60, 64, 67, 0.3), 0px 1px 3px 1px rgba(60, 64, 67, 0.15);\n",
              "      fill: #174EA6;\n",
              "    }\n",
              "\n",
              "    [theme=dark] .colab-df-convert {\n",
              "      background-color: #3B4455;\n",
              "      fill: #D2E3FC;\n",
              "    }\n",
              "\n",
              "    [theme=dark] .colab-df-convert:hover {\n",
              "      background-color: #434B5C;\n",
              "      box-shadow: 0px 1px 3px 1px rgba(0, 0, 0, 0.15);\n",
              "      filter: drop-shadow(0px 1px 2px rgba(0, 0, 0, 0.3));\n",
              "      fill: #FFFFFF;\n",
              "    }\n",
              "  </style>\n",
              "\n",
              "      <script>\n",
              "        const buttonEl =\n",
              "          document.querySelector('#df-ac797179-6669-4451-8538-a12f41f9e6ae button.colab-df-convert');\n",
              "        buttonEl.style.display =\n",
              "          google.colab.kernel.accessAllowed ? 'block' : 'none';\n",
              "\n",
              "        async function convertToInteractive(key) {\n",
              "          const element = document.querySelector('#df-ac797179-6669-4451-8538-a12f41f9e6ae');\n",
              "          const dataTable =\n",
              "            await google.colab.kernel.invokeFunction('convertToInteractive',\n",
              "                                                     [key], {});\n",
              "          if (!dataTable) return;\n",
              "\n",
              "          const docLinkHtml = 'Like what you see? Visit the ' +\n",
              "            '<a target=\"_blank\" href=https://colab.research.google.com/notebooks/data_table.ipynb>data table notebook</a>'\n",
              "            + ' to learn more about interactive tables.';\n",
              "          element.innerHTML = '';\n",
              "          dataTable['output_type'] = 'display_data';\n",
              "          await google.colab.output.renderOutput(dataTable, element);\n",
              "          const docLink = document.createElement('div');\n",
              "          docLink.innerHTML = docLinkHtml;\n",
              "          element.appendChild(docLink);\n",
              "        }\n",
              "      </script>\n",
              "    </div>\n",
              "  </div>\n",
              "  "
            ]
          },
          "metadata": {},
          "execution_count": 29
        }
      ]
    },
    {
      "cell_type": "code",
      "source": [
        "#결측치 확인\n",
        "\n",
        "full.isnull().sum()"
      ],
      "metadata": {
        "colab": {
          "base_uri": "https://localhost:8080/"
        },
        "id": "scjMLke2lKeo",
        "outputId": "2de70240-95c7-4b5c-9579-aa71772abb59"
      },
      "execution_count": 30,
      "outputs": [
        {
          "output_type": "execute_result",
          "data": {
            "text/plain": [
              "Date_cont            0\n",
              "Pageviews_cont       0\n",
              "Clicks_cont          0\n",
              "Enrollments_cont    14\n",
              "Payments_cont       14\n",
              "Date_exp             0\n",
              "Pageviews_exp        0\n",
              "Clicks_exp           0\n",
              "Enrollments_exp     14\n",
              "Payments_exp        14\n",
              "dtype: int64"
            ]
          },
          "metadata": {},
          "execution_count": 30
        }
      ]
    },
    {
      "cell_type": "code",
      "source": [
        "# 결측치 제거\n",
        "\n",
        "full = full.loc[full[\"Enrollments_cont\"].notnull()]\n",
        "full.isnull().sum()"
      ],
      "metadata": {
        "colab": {
          "base_uri": "https://localhost:8080/"
        },
        "id": "Cvz115evjiEX",
        "outputId": "7c6f77b6-8264-47ae-d2f5-e76296eb1853"
      },
      "execution_count": 31,
      "outputs": [
        {
          "output_type": "execute_result",
          "data": {
            "text/plain": [
              "Date_cont           0\n",
              "Pageviews_cont      0\n",
              "Clicks_cont         0\n",
              "Enrollments_cont    0\n",
              "Payments_cont       0\n",
              "Date_exp            0\n",
              "Pageviews_exp       0\n",
              "Clicks_exp          0\n",
              "Enrollments_exp     0\n",
              "Payments_exp        0\n",
              "dtype: int64"
            ]
          },
          "metadata": {},
          "execution_count": 31
        }
      ]
    },
    {
      "cell_type": "code",
      "source": [
        "# 평가지표 비교 결과를 저장한 새로운 컬럼 생성\n",
        "\n",
        "x = full['Enrollments_cont'] / full['Clicks_cont']\n",
        "y = full['Enrollments_exp'] / full['Clicks_exp']\n",
        "\n",
        "#실험군이 더 크면 1, 그렇지 않으면 0\n",
        "full['GC'] = np.where(x<y, 1, 0)\n",
        "\n",
        "z = full['Payments_cont'] / full['Clicks_cont']\n",
        "w = full['Payments_exp'] / full['Clicks_exp']\n",
        "\n",
        "#실험군이 더 크면 1, 그렇지 않으면 0\n",
        "full['NC'] = np.where(z<w, 1, 0)\n",
        "full.head()"
      ],
      "metadata": {
        "colab": {
          "base_uri": "https://localhost:8080/",
          "height": 357
        },
        "id": "_NsOxO1hlDnM",
        "outputId": "abef6cf6-f5ee-46b2-b8a5-a02108ad9b6a"
      },
      "execution_count": 32,
      "outputs": [
        {
          "output_type": "execute_result",
          "data": {
            "text/plain": [
              "     Date_cont  Pageviews_cont  Clicks_cont  Enrollments_cont  Payments_cont  \\\n",
              "0  Sat, Oct 11            7723          687             134.0           70.0   \n",
              "1  Sun, Oct 12            9102          779             147.0           70.0   \n",
              "2  Mon, Oct 13           10511          909             167.0           95.0   \n",
              "3  Tue, Oct 14            9871          836             156.0          105.0   \n",
              "4  Wed, Oct 15           10014          837             163.0           64.0   \n",
              "\n",
              "      Date_exp  Pageviews_exp  Clicks_exp  Enrollments_exp  Payments_exp  GC  \\\n",
              "0  Sat, Oct 11           7716         686            105.0          34.0   0   \n",
              "1  Sun, Oct 12           9288         785            116.0          91.0   0   \n",
              "2  Mon, Oct 13          10480         884            145.0          79.0   0   \n",
              "3  Tue, Oct 14           9867         827            138.0          92.0   0   \n",
              "4  Wed, Oct 15           9793         832            140.0          94.0   0   \n",
              "\n",
              "   NC  \n",
              "0   0  \n",
              "1   1  \n",
              "2   0  \n",
              "3   0  \n",
              "4   1  "
            ],
            "text/html": [
              "\n",
              "  <div id=\"df-2fee4dfa-287e-4785-8535-7db4280943e3\">\n",
              "    <div class=\"colab-df-container\">\n",
              "      <div>\n",
              "<style scoped>\n",
              "    .dataframe tbody tr th:only-of-type {\n",
              "        vertical-align: middle;\n",
              "    }\n",
              "\n",
              "    .dataframe tbody tr th {\n",
              "        vertical-align: top;\n",
              "    }\n",
              "\n",
              "    .dataframe thead th {\n",
              "        text-align: right;\n",
              "    }\n",
              "</style>\n",
              "<table border=\"1\" class=\"dataframe\">\n",
              "  <thead>\n",
              "    <tr style=\"text-align: right;\">\n",
              "      <th></th>\n",
              "      <th>Date_cont</th>\n",
              "      <th>Pageviews_cont</th>\n",
              "      <th>Clicks_cont</th>\n",
              "      <th>Enrollments_cont</th>\n",
              "      <th>Payments_cont</th>\n",
              "      <th>Date_exp</th>\n",
              "      <th>Pageviews_exp</th>\n",
              "      <th>Clicks_exp</th>\n",
              "      <th>Enrollments_exp</th>\n",
              "      <th>Payments_exp</th>\n",
              "      <th>GC</th>\n",
              "      <th>NC</th>\n",
              "    </tr>\n",
              "  </thead>\n",
              "  <tbody>\n",
              "    <tr>\n",
              "      <th>0</th>\n",
              "      <td>Sat, Oct 11</td>\n",
              "      <td>7723</td>\n",
              "      <td>687</td>\n",
              "      <td>134.0</td>\n",
              "      <td>70.0</td>\n",
              "      <td>Sat, Oct 11</td>\n",
              "      <td>7716</td>\n",
              "      <td>686</td>\n",
              "      <td>105.0</td>\n",
              "      <td>34.0</td>\n",
              "      <td>0</td>\n",
              "      <td>0</td>\n",
              "    </tr>\n",
              "    <tr>\n",
              "      <th>1</th>\n",
              "      <td>Sun, Oct 12</td>\n",
              "      <td>9102</td>\n",
              "      <td>779</td>\n",
              "      <td>147.0</td>\n",
              "      <td>70.0</td>\n",
              "      <td>Sun, Oct 12</td>\n",
              "      <td>9288</td>\n",
              "      <td>785</td>\n",
              "      <td>116.0</td>\n",
              "      <td>91.0</td>\n",
              "      <td>0</td>\n",
              "      <td>1</td>\n",
              "    </tr>\n",
              "    <tr>\n",
              "      <th>2</th>\n",
              "      <td>Mon, Oct 13</td>\n",
              "      <td>10511</td>\n",
              "      <td>909</td>\n",
              "      <td>167.0</td>\n",
              "      <td>95.0</td>\n",
              "      <td>Mon, Oct 13</td>\n",
              "      <td>10480</td>\n",
              "      <td>884</td>\n",
              "      <td>145.0</td>\n",
              "      <td>79.0</td>\n",
              "      <td>0</td>\n",
              "      <td>0</td>\n",
              "    </tr>\n",
              "    <tr>\n",
              "      <th>3</th>\n",
              "      <td>Tue, Oct 14</td>\n",
              "      <td>9871</td>\n",
              "      <td>836</td>\n",
              "      <td>156.0</td>\n",
              "      <td>105.0</td>\n",
              "      <td>Tue, Oct 14</td>\n",
              "      <td>9867</td>\n",
              "      <td>827</td>\n",
              "      <td>138.0</td>\n",
              "      <td>92.0</td>\n",
              "      <td>0</td>\n",
              "      <td>0</td>\n",
              "    </tr>\n",
              "    <tr>\n",
              "      <th>4</th>\n",
              "      <td>Wed, Oct 15</td>\n",
              "      <td>10014</td>\n",
              "      <td>837</td>\n",
              "      <td>163.0</td>\n",
              "      <td>64.0</td>\n",
              "      <td>Wed, Oct 15</td>\n",
              "      <td>9793</td>\n",
              "      <td>832</td>\n",
              "      <td>140.0</td>\n",
              "      <td>94.0</td>\n",
              "      <td>0</td>\n",
              "      <td>1</td>\n",
              "    </tr>\n",
              "  </tbody>\n",
              "</table>\n",
              "</div>\n",
              "      <button class=\"colab-df-convert\" onclick=\"convertToInteractive('df-2fee4dfa-287e-4785-8535-7db4280943e3')\"\n",
              "              title=\"Convert this dataframe to an interactive table.\"\n",
              "              style=\"display:none;\">\n",
              "        \n",
              "  <svg xmlns=\"http://www.w3.org/2000/svg\" height=\"24px\"viewBox=\"0 0 24 24\"\n",
              "       width=\"24px\">\n",
              "    <path d=\"M0 0h24v24H0V0z\" fill=\"none\"/>\n",
              "    <path d=\"M18.56 5.44l.94 2.06.94-2.06 2.06-.94-2.06-.94-.94-2.06-.94 2.06-2.06.94zm-11 1L8.5 8.5l.94-2.06 2.06-.94-2.06-.94L8.5 2.5l-.94 2.06-2.06.94zm10 10l.94 2.06.94-2.06 2.06-.94-2.06-.94-.94-2.06-.94 2.06-2.06.94z\"/><path d=\"M17.41 7.96l-1.37-1.37c-.4-.4-.92-.59-1.43-.59-.52 0-1.04.2-1.43.59L10.3 9.45l-7.72 7.72c-.78.78-.78 2.05 0 2.83L4 21.41c.39.39.9.59 1.41.59.51 0 1.02-.2 1.41-.59l7.78-7.78 2.81-2.81c.8-.78.8-2.07 0-2.86zM5.41 20L4 18.59l7.72-7.72 1.47 1.35L5.41 20z\"/>\n",
              "  </svg>\n",
              "      </button>\n",
              "      \n",
              "  <style>\n",
              "    .colab-df-container {\n",
              "      display:flex;\n",
              "      flex-wrap:wrap;\n",
              "      gap: 12px;\n",
              "    }\n",
              "\n",
              "    .colab-df-convert {\n",
              "      background-color: #E8F0FE;\n",
              "      border: none;\n",
              "      border-radius: 50%;\n",
              "      cursor: pointer;\n",
              "      display: none;\n",
              "      fill: #1967D2;\n",
              "      height: 32px;\n",
              "      padding: 0 0 0 0;\n",
              "      width: 32px;\n",
              "    }\n",
              "\n",
              "    .colab-df-convert:hover {\n",
              "      background-color: #E2EBFA;\n",
              "      box-shadow: 0px 1px 2px rgba(60, 64, 67, 0.3), 0px 1px 3px 1px rgba(60, 64, 67, 0.15);\n",
              "      fill: #174EA6;\n",
              "    }\n",
              "\n",
              "    [theme=dark] .colab-df-convert {\n",
              "      background-color: #3B4455;\n",
              "      fill: #D2E3FC;\n",
              "    }\n",
              "\n",
              "    [theme=dark] .colab-df-convert:hover {\n",
              "      background-color: #434B5C;\n",
              "      box-shadow: 0px 1px 3px 1px rgba(0, 0, 0, 0.15);\n",
              "      filter: drop-shadow(0px 1px 2px rgba(0, 0, 0, 0.3));\n",
              "      fill: #FFFFFF;\n",
              "    }\n",
              "  </style>\n",
              "\n",
              "      <script>\n",
              "        const buttonEl =\n",
              "          document.querySelector('#df-2fee4dfa-287e-4785-8535-7db4280943e3 button.colab-df-convert');\n",
              "        buttonEl.style.display =\n",
              "          google.colab.kernel.accessAllowed ? 'block' : 'none';\n",
              "\n",
              "        async function convertToInteractive(key) {\n",
              "          const element = document.querySelector('#df-2fee4dfa-287e-4785-8535-7db4280943e3');\n",
              "          const dataTable =\n",
              "            await google.colab.kernel.invokeFunction('convertToInteractive',\n",
              "                                                     [key], {});\n",
              "          if (!dataTable) return;\n",
              "\n",
              "          const docLinkHtml = 'Like what you see? Visit the ' +\n",
              "            '<a target=\"_blank\" href=https://colab.research.google.com/notebooks/data_table.ipynb>data table notebook</a>'\n",
              "            + ' to learn more about interactive tables.';\n",
              "          element.innerHTML = '';\n",
              "          dataTable['output_type'] = 'display_data';\n",
              "          await google.colab.output.renderOutput(dataTable, element);\n",
              "          const docLink = document.createElement('div');\n",
              "          docLink.innerHTML = docLinkHtml;\n",
              "          element.appendChild(docLink);\n",
              "        }\n",
              "      </script>\n",
              "    </div>\n",
              "  </div>\n",
              "  "
            ]
          },
          "metadata": {},
          "execution_count": 32
        }
      ]
    },
    {
      "cell_type": "code",
      "source": [
        "# 부호 집계\n",
        "\n",
        "GC_x = full.GC[full[\"GC\"]==1].count()\n",
        "NC_x = full.NC[full[\"NC\"]==1].count()\n",
        "n = full.Date_cont.count()\n",
        "\n",
        "print(f\"GC 지표에서 실험군이 더 큰 케이스 수 : {GC_x}\")\n",
        "print(f\"NC 지표에서 실험군이 더 큰 케이스 수 : {NC_x}\")\n",
        "print(f\"전체 케이스 수 : {n}\")"
      ],
      "metadata": {
        "colab": {
          "base_uri": "https://localhost:8080/"
        },
        "id": "FXsDWzkbu7aw",
        "outputId": "8938fe63-d3ad-40fe-b8fd-8185df77136a"
      },
      "execution_count": 33,
      "outputs": [
        {
          "output_type": "stream",
          "name": "stdout",
          "text": [
            "GC 지표에서 실험군이 더 큰 케이스 수 : 4\n",
            "NC 지표에서 실험군이 더 큰 케이스 수 : 10\n",
            "전체 케이스 수 : 23\n"
          ]
        }
      ]
    },
    {
      "cell_type": "code",
      "source": [
        "# p-value 계산을 위한 함수\n",
        "# x : 실험군이 더 큰 케이스 수\n",
        "# n : 전체 케이스 수\n",
        "\n",
        "def get_prob(x,n):\n",
        "    p = round(mt.factorial(n)/(mt.factorial(x)*mt.factorial(n-x))*0.5**x*0.5**(n-x), 4)\n",
        "    return p\n",
        "\n",
        "def get_2side_pvalue(x,n):\n",
        "    p = 0\n",
        "    for i in range(0, x+1):\n",
        "        p = p + get_prob(i, n)\n",
        "    return round(2*p, 4)"
      ],
      "metadata": {
        "id": "0cpgqz6IwXL6"
      },
      "execution_count": 34,
      "outputs": []
    },
    {
      "cell_type": "code",
      "source": [
        "print(\"GC Change is significant if\",get_2side_pvalue(GC_x,n),\"is smaller than 0.05\")\n",
        "print(\"NC Change is significant if\",get_2side_pvalue(NC_x,n),\"is smaller than 0.05\")"
      ],
      "metadata": {
        "colab": {
          "base_uri": "https://localhost:8080/"
        },
        "id": "wmc8_Pbq3J5a",
        "outputId": "a73e96b9-2990-44b7-8cda-cf9764100ab6"
      },
      "execution_count": 35,
      "outputs": [
        {
          "output_type": "stream",
          "name": "stdout",
          "text": [
            "GC Change is significant if 0.0026 is smaller than 0.05\n",
            "NC Change is significant if 0.6774 is smaller than 0.05\n"
          ]
        }
      ]
    },
    {
      "cell_type": "markdown",
      "source": [
        "## 머신러닝을 이용한 A/B 테스트"
      ],
      "metadata": {
        "id": "Y8bzFogEiHQV"
      }
    },
    {
      "cell_type": "markdown",
      "source": [
        "- 통계적 A/B 테스트를 진행하면 두 집단 간의 차이를 비교하여 새롭게 추가된 기능이 특정 집단에 어떤 영향을 주었는지 추정할 수 있음\n",
        "- 하지만, 두 집단에 차이를 일으킨 요인이 어떤 요인인지 추정만할 수 있을 뿐, 정확히 어떤 특성이 타겟 지표에 영향을 주었는지는 알 수 없음\n",
        "- 머신러닝은 어떤 특성이 타겟 지표에 영향을 주었는지 살펴볼 수 있다는 장점이 있음(설명력)\n",
        "- 머신러닝을 활용하여 어떤 특성이 타겟 지표에 영향을 주었으며, 특히나 영향력이 강한 특성이 무엇인지 살펴보도록 하겠음"
      ],
      "metadata": {
        "id": "fr6MDEYOkAjJ"
      }
    },
    {
      "cell_type": "code",
      "source": [
        "control = pd.read_csv(\"/content/drive/MyDrive/A-B-test_data/control_data.csv\")\n",
        "experiment = pd.read_csv(\"/content/drive/MyDrive/A-B-test_data/experiment_data.csv\")"
      ],
      "metadata": {
        "id": "CJ9tECcfiK1p"
      },
      "execution_count": 36,
      "outputs": []
    },
    {
      "cell_type": "code",
      "source": [
        "# 통제군, 실험군을 비교하기 위해 실험군 데이터에 1을 부여\n",
        "# 통제군, 실험군을 비교하기 위해 통제군 데이터에 1을 부여\n",
        "\n",
        "experiment['Experiment'] = 1\n",
        "control['Experiment'] = 0"
      ],
      "metadata": {
        "id": "YZUKec_wmsMp"
      },
      "execution_count": 37,
      "outputs": []
    },
    {
      "cell_type": "code",
      "source": [
        "# 타겟 데이터에 대한 피쳐의 영향력을 측정하기 위해 데이터를 merge함\n",
        "# 통제군, 실험군을 비교하기 위해 통제군 데이터에 1을 부여\n",
        "\n",
        "full = pd.concat([control, experiment])\n",
        "full['Experiment'] = full['Experiment'].fillna(0)\n",
        "full.head()"
      ],
      "metadata": {
        "colab": {
          "base_uri": "https://localhost:8080/",
          "height": 206
        },
        "id": "UiNfYqeCiQu9",
        "outputId": "05583d88-a983-4bf3-e9f5-492dc8ffeb14"
      },
      "execution_count": 38,
      "outputs": [
        {
          "output_type": "execute_result",
          "data": {
            "text/plain": [
              "          Date  Pageviews  Clicks  Enrollments  Payments  Experiment\n",
              "0  Sat, Oct 11       7723     687        134.0      70.0           0\n",
              "1  Sun, Oct 12       9102     779        147.0      70.0           0\n",
              "2  Mon, Oct 13      10511     909        167.0      95.0           0\n",
              "3  Tue, Oct 14       9871     836        156.0     105.0           0\n",
              "4  Wed, Oct 15      10014     837        163.0      64.0           0"
            ],
            "text/html": [
              "\n",
              "  <div id=\"df-76c8973d-f6c4-4f16-be0e-6b31c3c47993\">\n",
              "    <div class=\"colab-df-container\">\n",
              "      <div>\n",
              "<style scoped>\n",
              "    .dataframe tbody tr th:only-of-type {\n",
              "        vertical-align: middle;\n",
              "    }\n",
              "\n",
              "    .dataframe tbody tr th {\n",
              "        vertical-align: top;\n",
              "    }\n",
              "\n",
              "    .dataframe thead th {\n",
              "        text-align: right;\n",
              "    }\n",
              "</style>\n",
              "<table border=\"1\" class=\"dataframe\">\n",
              "  <thead>\n",
              "    <tr style=\"text-align: right;\">\n",
              "      <th></th>\n",
              "      <th>Date</th>\n",
              "      <th>Pageviews</th>\n",
              "      <th>Clicks</th>\n",
              "      <th>Enrollments</th>\n",
              "      <th>Payments</th>\n",
              "      <th>Experiment</th>\n",
              "    </tr>\n",
              "  </thead>\n",
              "  <tbody>\n",
              "    <tr>\n",
              "      <th>0</th>\n",
              "      <td>Sat, Oct 11</td>\n",
              "      <td>7723</td>\n",
              "      <td>687</td>\n",
              "      <td>134.0</td>\n",
              "      <td>70.0</td>\n",
              "      <td>0</td>\n",
              "    </tr>\n",
              "    <tr>\n",
              "      <th>1</th>\n",
              "      <td>Sun, Oct 12</td>\n",
              "      <td>9102</td>\n",
              "      <td>779</td>\n",
              "      <td>147.0</td>\n",
              "      <td>70.0</td>\n",
              "      <td>0</td>\n",
              "    </tr>\n",
              "    <tr>\n",
              "      <th>2</th>\n",
              "      <td>Mon, Oct 13</td>\n",
              "      <td>10511</td>\n",
              "      <td>909</td>\n",
              "      <td>167.0</td>\n",
              "      <td>95.0</td>\n",
              "      <td>0</td>\n",
              "    </tr>\n",
              "    <tr>\n",
              "      <th>3</th>\n",
              "      <td>Tue, Oct 14</td>\n",
              "      <td>9871</td>\n",
              "      <td>836</td>\n",
              "      <td>156.0</td>\n",
              "      <td>105.0</td>\n",
              "      <td>0</td>\n",
              "    </tr>\n",
              "    <tr>\n",
              "      <th>4</th>\n",
              "      <td>Wed, Oct 15</td>\n",
              "      <td>10014</td>\n",
              "      <td>837</td>\n",
              "      <td>163.0</td>\n",
              "      <td>64.0</td>\n",
              "      <td>0</td>\n",
              "    </tr>\n",
              "  </tbody>\n",
              "</table>\n",
              "</div>\n",
              "      <button class=\"colab-df-convert\" onclick=\"convertToInteractive('df-76c8973d-f6c4-4f16-be0e-6b31c3c47993')\"\n",
              "              title=\"Convert this dataframe to an interactive table.\"\n",
              "              style=\"display:none;\">\n",
              "        \n",
              "  <svg xmlns=\"http://www.w3.org/2000/svg\" height=\"24px\"viewBox=\"0 0 24 24\"\n",
              "       width=\"24px\">\n",
              "    <path d=\"M0 0h24v24H0V0z\" fill=\"none\"/>\n",
              "    <path d=\"M18.56 5.44l.94 2.06.94-2.06 2.06-.94-2.06-.94-.94-2.06-.94 2.06-2.06.94zm-11 1L8.5 8.5l.94-2.06 2.06-.94-2.06-.94L8.5 2.5l-.94 2.06-2.06.94zm10 10l.94 2.06.94-2.06 2.06-.94-2.06-.94-.94-2.06-.94 2.06-2.06.94z\"/><path d=\"M17.41 7.96l-1.37-1.37c-.4-.4-.92-.59-1.43-.59-.52 0-1.04.2-1.43.59L10.3 9.45l-7.72 7.72c-.78.78-.78 2.05 0 2.83L4 21.41c.39.39.9.59 1.41.59.51 0 1.02-.2 1.41-.59l7.78-7.78 2.81-2.81c.8-.78.8-2.07 0-2.86zM5.41 20L4 18.59l7.72-7.72 1.47 1.35L5.41 20z\"/>\n",
              "  </svg>\n",
              "      </button>\n",
              "      \n",
              "  <style>\n",
              "    .colab-df-container {\n",
              "      display:flex;\n",
              "      flex-wrap:wrap;\n",
              "      gap: 12px;\n",
              "    }\n",
              "\n",
              "    .colab-df-convert {\n",
              "      background-color: #E8F0FE;\n",
              "      border: none;\n",
              "      border-radius: 50%;\n",
              "      cursor: pointer;\n",
              "      display: none;\n",
              "      fill: #1967D2;\n",
              "      height: 32px;\n",
              "      padding: 0 0 0 0;\n",
              "      width: 32px;\n",
              "    }\n",
              "\n",
              "    .colab-df-convert:hover {\n",
              "      background-color: #E2EBFA;\n",
              "      box-shadow: 0px 1px 2px rgba(60, 64, 67, 0.3), 0px 1px 3px 1px rgba(60, 64, 67, 0.15);\n",
              "      fill: #174EA6;\n",
              "    }\n",
              "\n",
              "    [theme=dark] .colab-df-convert {\n",
              "      background-color: #3B4455;\n",
              "      fill: #D2E3FC;\n",
              "    }\n",
              "\n",
              "    [theme=dark] .colab-df-convert:hover {\n",
              "      background-color: #434B5C;\n",
              "      box-shadow: 0px 1px 3px 1px rgba(0, 0, 0, 0.15);\n",
              "      filter: drop-shadow(0px 1px 2px rgba(0, 0, 0, 0.3));\n",
              "      fill: #FFFFFF;\n",
              "    }\n",
              "  </style>\n",
              "\n",
              "      <script>\n",
              "        const buttonEl =\n",
              "          document.querySelector('#df-76c8973d-f6c4-4f16-be0e-6b31c3c47993 button.colab-df-convert');\n",
              "        buttonEl.style.display =\n",
              "          google.colab.kernel.accessAllowed ? 'block' : 'none';\n",
              "\n",
              "        async function convertToInteractive(key) {\n",
              "          const element = document.querySelector('#df-76c8973d-f6c4-4f16-be0e-6b31c3c47993');\n",
              "          const dataTable =\n",
              "            await google.colab.kernel.invokeFunction('convertToInteractive',\n",
              "                                                     [key], {});\n",
              "          if (!dataTable) return;\n",
              "\n",
              "          const docLinkHtml = 'Like what you see? Visit the ' +\n",
              "            '<a target=\"_blank\" href=https://colab.research.google.com/notebooks/data_table.ipynb>data table notebook</a>'\n",
              "            + ' to learn more about interactive tables.';\n",
              "          element.innerHTML = '';\n",
              "          dataTable['output_type'] = 'display_data';\n",
              "          await google.colab.output.renderOutput(dataTable, element);\n",
              "          const docLink = document.createElement('div');\n",
              "          docLink.innerHTML = docLinkHtml;\n",
              "          element.appendChild(docLink);\n",
              "        }\n",
              "      </script>\n",
              "    </div>\n",
              "  </div>\n",
              "  "
            ]
          },
          "metadata": {},
          "execution_count": 38
        }
      ]
    },
    {
      "cell_type": "markdown",
      "source": [
        "### 데이터 전처리"
      ],
      "metadata": {
        "id": "BCWCXttro4i9"
      }
    },
    {
      "cell_type": "code",
      "source": [
        "# 시드 고정\n",
        "np.random.seed(7)\n",
        "\n",
        "\n",
        "# 연속형 데이터가 아니므로 date에서 요일만 남김\n",
        "full['DOW'] = full['Date'].str.slice(start=0, stop=3)\n",
        "\n",
        "# 결측치 처리\n",
        "full.dropna(inplace=True)\n",
        "\n",
        "# feature 순서 정리 및 필요없는 컬럼 삭제\n",
        "full = full[['Experiment', 'Pageviews', 'Clicks', 'DOW', 'Enrollments']]\n",
        "\n",
        "# 편향을 방지하기 위해 데이터 셔플\n",
        "\n",
        "full = sklearn.utils.shuffle(full)"
      ],
      "metadata": {
        "id": "HWM95dELiY9O"
      },
      "execution_count": 39,
      "outputs": []
    },
    {
      "cell_type": "code",
      "source": [
        "full.head()"
      ],
      "metadata": {
        "colab": {
          "base_uri": "https://localhost:8080/",
          "height": 206
        },
        "id": "HGhDGpgeoUxt",
        "outputId": "e010e0e6-dc37-4b2a-e037-495386189bcd"
      },
      "execution_count": 40,
      "outputs": [
        {
          "output_type": "execute_result",
          "data": {
            "text/plain": [
              "    Experiment  Pageviews  Clicks  DOW  Enrollments\n",
              "13           0       9434     673  Fri        220.0\n",
              "20           0       8890     706  Fri        174.0\n",
              "15           0       8896     708  Sun        161.0\n",
              "18           0       9327     739  Wed        196.0\n",
              "22           0       8836     693  Sun        206.0"
            ],
            "text/html": [
              "\n",
              "  <div id=\"df-6fe4a6ec-e147-4290-8c9b-50821c34c2cb\">\n",
              "    <div class=\"colab-df-container\">\n",
              "      <div>\n",
              "<style scoped>\n",
              "    .dataframe tbody tr th:only-of-type {\n",
              "        vertical-align: middle;\n",
              "    }\n",
              "\n",
              "    .dataframe tbody tr th {\n",
              "        vertical-align: top;\n",
              "    }\n",
              "\n",
              "    .dataframe thead th {\n",
              "        text-align: right;\n",
              "    }\n",
              "</style>\n",
              "<table border=\"1\" class=\"dataframe\">\n",
              "  <thead>\n",
              "    <tr style=\"text-align: right;\">\n",
              "      <th></th>\n",
              "      <th>Experiment</th>\n",
              "      <th>Pageviews</th>\n",
              "      <th>Clicks</th>\n",
              "      <th>DOW</th>\n",
              "      <th>Enrollments</th>\n",
              "    </tr>\n",
              "  </thead>\n",
              "  <tbody>\n",
              "    <tr>\n",
              "      <th>13</th>\n",
              "      <td>0</td>\n",
              "      <td>9434</td>\n",
              "      <td>673</td>\n",
              "      <td>Fri</td>\n",
              "      <td>220.0</td>\n",
              "    </tr>\n",
              "    <tr>\n",
              "      <th>20</th>\n",
              "      <td>0</td>\n",
              "      <td>8890</td>\n",
              "      <td>706</td>\n",
              "      <td>Fri</td>\n",
              "      <td>174.0</td>\n",
              "    </tr>\n",
              "    <tr>\n",
              "      <th>15</th>\n",
              "      <td>0</td>\n",
              "      <td>8896</td>\n",
              "      <td>708</td>\n",
              "      <td>Sun</td>\n",
              "      <td>161.0</td>\n",
              "    </tr>\n",
              "    <tr>\n",
              "      <th>18</th>\n",
              "      <td>0</td>\n",
              "      <td>9327</td>\n",
              "      <td>739</td>\n",
              "      <td>Wed</td>\n",
              "      <td>196.0</td>\n",
              "    </tr>\n",
              "    <tr>\n",
              "      <th>22</th>\n",
              "      <td>0</td>\n",
              "      <td>8836</td>\n",
              "      <td>693</td>\n",
              "      <td>Sun</td>\n",
              "      <td>206.0</td>\n",
              "    </tr>\n",
              "  </tbody>\n",
              "</table>\n",
              "</div>\n",
              "      <button class=\"colab-df-convert\" onclick=\"convertToInteractive('df-6fe4a6ec-e147-4290-8c9b-50821c34c2cb')\"\n",
              "              title=\"Convert this dataframe to an interactive table.\"\n",
              "              style=\"display:none;\">\n",
              "        \n",
              "  <svg xmlns=\"http://www.w3.org/2000/svg\" height=\"24px\"viewBox=\"0 0 24 24\"\n",
              "       width=\"24px\">\n",
              "    <path d=\"M0 0h24v24H0V0z\" fill=\"none\"/>\n",
              "    <path d=\"M18.56 5.44l.94 2.06.94-2.06 2.06-.94-2.06-.94-.94-2.06-.94 2.06-2.06.94zm-11 1L8.5 8.5l.94-2.06 2.06-.94-2.06-.94L8.5 2.5l-.94 2.06-2.06.94zm10 10l.94 2.06.94-2.06 2.06-.94-2.06-.94-.94-2.06-.94 2.06-2.06.94z\"/><path d=\"M17.41 7.96l-1.37-1.37c-.4-.4-.92-.59-1.43-.59-.52 0-1.04.2-1.43.59L10.3 9.45l-7.72 7.72c-.78.78-.78 2.05 0 2.83L4 21.41c.39.39.9.59 1.41.59.51 0 1.02-.2 1.41-.59l7.78-7.78 2.81-2.81c.8-.78.8-2.07 0-2.86zM5.41 20L4 18.59l7.72-7.72 1.47 1.35L5.41 20z\"/>\n",
              "  </svg>\n",
              "      </button>\n",
              "      \n",
              "  <style>\n",
              "    .colab-df-container {\n",
              "      display:flex;\n",
              "      flex-wrap:wrap;\n",
              "      gap: 12px;\n",
              "    }\n",
              "\n",
              "    .colab-df-convert {\n",
              "      background-color: #E8F0FE;\n",
              "      border: none;\n",
              "      border-radius: 50%;\n",
              "      cursor: pointer;\n",
              "      display: none;\n",
              "      fill: #1967D2;\n",
              "      height: 32px;\n",
              "      padding: 0 0 0 0;\n",
              "      width: 32px;\n",
              "    }\n",
              "\n",
              "    .colab-df-convert:hover {\n",
              "      background-color: #E2EBFA;\n",
              "      box-shadow: 0px 1px 2px rgba(60, 64, 67, 0.3), 0px 1px 3px 1px rgba(60, 64, 67, 0.15);\n",
              "      fill: #174EA6;\n",
              "    }\n",
              "\n",
              "    [theme=dark] .colab-df-convert {\n",
              "      background-color: #3B4455;\n",
              "      fill: #D2E3FC;\n",
              "    }\n",
              "\n",
              "    [theme=dark] .colab-df-convert:hover {\n",
              "      background-color: #434B5C;\n",
              "      box-shadow: 0px 1px 3px 1px rgba(0, 0, 0, 0.15);\n",
              "      filter: drop-shadow(0px 1px 2px rgba(0, 0, 0, 0.3));\n",
              "      fill: #FFFFFF;\n",
              "    }\n",
              "  </style>\n",
              "\n",
              "      <script>\n",
              "        const buttonEl =\n",
              "          document.querySelector('#df-6fe4a6ec-e147-4290-8c9b-50821c34c2cb button.colab-df-convert');\n",
              "        buttonEl.style.display =\n",
              "          google.colab.kernel.accessAllowed ? 'block' : 'none';\n",
              "\n",
              "        async function convertToInteractive(key) {\n",
              "          const element = document.querySelector('#df-6fe4a6ec-e147-4290-8c9b-50821c34c2cb');\n",
              "          const dataTable =\n",
              "            await google.colab.kernel.invokeFunction('convertToInteractive',\n",
              "                                                     [key], {});\n",
              "          if (!dataTable) return;\n",
              "\n",
              "          const docLinkHtml = 'Like what you see? Visit the ' +\n",
              "            '<a target=\"_blank\" href=https://colab.research.google.com/notebooks/data_table.ipynb>data table notebook</a>'\n",
              "            + ' to learn more about interactive tables.';\n",
              "          element.innerHTML = '';\n",
              "          dataTable['output_type'] = 'display_data';\n",
              "          await google.colab.output.renderOutput(dataTable, element);\n",
              "          const docLink = document.createElement('div');\n",
              "          docLink.innerHTML = docLinkHtml;\n",
              "          element.appendChild(docLink);\n",
              "        }\n",
              "      </script>\n",
              "    </div>\n",
              "  </div>\n",
              "  "
            ]
          },
          "metadata": {},
          "execution_count": 40
        }
      ]
    },
    {
      "cell_type": "code",
      "source": [
        "# 타겟 및 훈련 피쳐 설정\n",
        "\n",
        "target = \"Enrollments\"\n",
        "full_train = full.drop(columns = target)"
      ],
      "metadata": {
        "id": "unN4umZYzkyn"
      },
      "execution_count": 42,
      "outputs": []
    },
    {
      "cell_type": "code",
      "source": [
        "# 범주형 데이터 인코딩\n",
        "\n",
        "from sklearn.preprocessing import LabelEncoder\n",
        "\n",
        "encoder = LabelEncoder()\n",
        "full_train['DOW'] = encoder.fit_transform(full_train['DOW'])"
      ],
      "metadata": {
        "id": "syzYeviW1dLU"
      },
      "execution_count": 51,
      "outputs": []
    },
    {
      "cell_type": "code",
      "source": [
        "# 학습 - 검증 데이터 분리\n",
        "\n",
        "from sklearn.model_selection import train_test_split\n",
        "\n",
        "X_train, X_test, y_train, y_test = train_test_split(full_train, full[target], test_size = 0.2, random_state=2)"
      ],
      "metadata": {
        "id": "u39pogPdoedz"
      },
      "execution_count": 52,
      "outputs": []
    },
    {
      "cell_type": "code",
      "source": [
        "X_train.shape[0] + X_test.shape[0] == full.shape[0]"
      ],
      "metadata": {
        "colab": {
          "base_uri": "https://localhost:8080/"
        },
        "id": "0aEGcLhT0QxF",
        "outputId": "30750749-1ae5-418c-b63c-3d2caa5102a3"
      },
      "execution_count": 53,
      "outputs": [
        {
          "output_type": "execute_result",
          "data": {
            "text/plain": [
              "True"
            ]
          },
          "metadata": {},
          "execution_count": 53
        }
      ]
    },
    {
      "cell_type": "code",
      "source": [
        "X_train.head()"
      ],
      "metadata": {
        "colab": {
          "base_uri": "https://localhost:8080/",
          "height": 206
        },
        "id": "E3zHX-oN0SC3",
        "outputId": "9bb39a9e-d4d8-4ba2-a81c-45cb2f6f7f6e"
      },
      "execution_count": 54,
      "outputs": [
        {
          "output_type": "execute_result",
          "data": {
            "text/plain": [
              "    Experiment  Pageviews  Clicks  DOW\n",
              "15           0       8896     708    3\n",
              "10           1      10551     864    5\n",
              "9            0      10667     861    1\n",
              "7            0       7434     632    2\n",
              "6            0       9008     748    0"
            ],
            "text/html": [
              "\n",
              "  <div id=\"df-fc472ad6-4b0d-4da8-be5e-63559f43618c\">\n",
              "    <div class=\"colab-df-container\">\n",
              "      <div>\n",
              "<style scoped>\n",
              "    .dataframe tbody tr th:only-of-type {\n",
              "        vertical-align: middle;\n",
              "    }\n",
              "\n",
              "    .dataframe tbody tr th {\n",
              "        vertical-align: top;\n",
              "    }\n",
              "\n",
              "    .dataframe thead th {\n",
              "        text-align: right;\n",
              "    }\n",
              "</style>\n",
              "<table border=\"1\" class=\"dataframe\">\n",
              "  <thead>\n",
              "    <tr style=\"text-align: right;\">\n",
              "      <th></th>\n",
              "      <th>Experiment</th>\n",
              "      <th>Pageviews</th>\n",
              "      <th>Clicks</th>\n",
              "      <th>DOW</th>\n",
              "    </tr>\n",
              "  </thead>\n",
              "  <tbody>\n",
              "    <tr>\n",
              "      <th>15</th>\n",
              "      <td>0</td>\n",
              "      <td>8896</td>\n",
              "      <td>708</td>\n",
              "      <td>3</td>\n",
              "    </tr>\n",
              "    <tr>\n",
              "      <th>10</th>\n",
              "      <td>1</td>\n",
              "      <td>10551</td>\n",
              "      <td>864</td>\n",
              "      <td>5</td>\n",
              "    </tr>\n",
              "    <tr>\n",
              "      <th>9</th>\n",
              "      <td>0</td>\n",
              "      <td>10667</td>\n",
              "      <td>861</td>\n",
              "      <td>1</td>\n",
              "    </tr>\n",
              "    <tr>\n",
              "      <th>7</th>\n",
              "      <td>0</td>\n",
              "      <td>7434</td>\n",
              "      <td>632</td>\n",
              "      <td>2</td>\n",
              "    </tr>\n",
              "    <tr>\n",
              "      <th>6</th>\n",
              "      <td>0</td>\n",
              "      <td>9008</td>\n",
              "      <td>748</td>\n",
              "      <td>0</td>\n",
              "    </tr>\n",
              "  </tbody>\n",
              "</table>\n",
              "</div>\n",
              "      <button class=\"colab-df-convert\" onclick=\"convertToInteractive('df-fc472ad6-4b0d-4da8-be5e-63559f43618c')\"\n",
              "              title=\"Convert this dataframe to an interactive table.\"\n",
              "              style=\"display:none;\">\n",
              "        \n",
              "  <svg xmlns=\"http://www.w3.org/2000/svg\" height=\"24px\"viewBox=\"0 0 24 24\"\n",
              "       width=\"24px\">\n",
              "    <path d=\"M0 0h24v24H0V0z\" fill=\"none\"/>\n",
              "    <path d=\"M18.56 5.44l.94 2.06.94-2.06 2.06-.94-2.06-.94-.94-2.06-.94 2.06-2.06.94zm-11 1L8.5 8.5l.94-2.06 2.06-.94-2.06-.94L8.5 2.5l-.94 2.06-2.06.94zm10 10l.94 2.06.94-2.06 2.06-.94-2.06-.94-.94-2.06-.94 2.06-2.06.94z\"/><path d=\"M17.41 7.96l-1.37-1.37c-.4-.4-.92-.59-1.43-.59-.52 0-1.04.2-1.43.59L10.3 9.45l-7.72 7.72c-.78.78-.78 2.05 0 2.83L4 21.41c.39.39.9.59 1.41.59.51 0 1.02-.2 1.41-.59l7.78-7.78 2.81-2.81c.8-.78.8-2.07 0-2.86zM5.41 20L4 18.59l7.72-7.72 1.47 1.35L5.41 20z\"/>\n",
              "  </svg>\n",
              "      </button>\n",
              "      \n",
              "  <style>\n",
              "    .colab-df-container {\n",
              "      display:flex;\n",
              "      flex-wrap:wrap;\n",
              "      gap: 12px;\n",
              "    }\n",
              "\n",
              "    .colab-df-convert {\n",
              "      background-color: #E8F0FE;\n",
              "      border: none;\n",
              "      border-radius: 50%;\n",
              "      cursor: pointer;\n",
              "      display: none;\n",
              "      fill: #1967D2;\n",
              "      height: 32px;\n",
              "      padding: 0 0 0 0;\n",
              "      width: 32px;\n",
              "    }\n",
              "\n",
              "    .colab-df-convert:hover {\n",
              "      background-color: #E2EBFA;\n",
              "      box-shadow: 0px 1px 2px rgba(60, 64, 67, 0.3), 0px 1px 3px 1px rgba(60, 64, 67, 0.15);\n",
              "      fill: #174EA6;\n",
              "    }\n",
              "\n",
              "    [theme=dark] .colab-df-convert {\n",
              "      background-color: #3B4455;\n",
              "      fill: #D2E3FC;\n",
              "    }\n",
              "\n",
              "    [theme=dark] .colab-df-convert:hover {\n",
              "      background-color: #434B5C;\n",
              "      box-shadow: 0px 1px 3px 1px rgba(0, 0, 0, 0.15);\n",
              "      filter: drop-shadow(0px 1px 2px rgba(0, 0, 0, 0.3));\n",
              "      fill: #FFFFFF;\n",
              "    }\n",
              "  </style>\n",
              "\n",
              "      <script>\n",
              "        const buttonEl =\n",
              "          document.querySelector('#df-fc472ad6-4b0d-4da8-be5e-63559f43618c button.colab-df-convert');\n",
              "        buttonEl.style.display =\n",
              "          google.colab.kernel.accessAllowed ? 'block' : 'none';\n",
              "\n",
              "        async function convertToInteractive(key) {\n",
              "          const element = document.querySelector('#df-fc472ad6-4b0d-4da8-be5e-63559f43618c');\n",
              "          const dataTable =\n",
              "            await google.colab.kernel.invokeFunction('convertToInteractive',\n",
              "                                                     [key], {});\n",
              "          if (!dataTable) return;\n",
              "\n",
              "          const docLinkHtml = 'Like what you see? Visit the ' +\n",
              "            '<a target=\"_blank\" href=https://colab.research.google.com/notebooks/data_table.ipynb>data table notebook</a>'\n",
              "            + ' to learn more about interactive tables.';\n",
              "          element.innerHTML = '';\n",
              "          dataTable['output_type'] = 'display_data';\n",
              "          await google.colab.output.renderOutput(dataTable, element);\n",
              "          const docLink = document.createElement('div');\n",
              "          docLink.innerHTML = docLinkHtml;\n",
              "          element.appendChild(docLink);\n",
              "        }\n",
              "      </script>\n",
              "    </div>\n",
              "  </div>\n",
              "  "
            ]
          },
          "metadata": {},
          "execution_count": 54
        }
      ]
    },
    {
      "cell_type": "code",
      "source": [
        "from sklearn.metrics import mean_squared_error, r2_score, mean_absolute_error\n",
        "\n",
        "# 평가 지표 함수\n",
        "\n",
        "def print_metrics(y_test, y_pred):\n",
        "    rmse = np.sqrt(mean_squared_error(y_test, y_pred))\n",
        "    r_score = r2_score(y_test, y_pred)\n",
        "    mae = mean_absolute_error(y_test, y_pred)\n",
        "\n",
        "    print(\"RMSE_score :\", rmse)\n",
        "    print(\"R2_socre :\", r_score)\n",
        "    print(\"MAE_score :\", mae)\n",
        "\n",
        "\n",
        "# 시각화 함수\n",
        "\n",
        "import matplotlib.pyplot as plt\n",
        "plt.style.use('ggplot')\n",
        "%matplotlib inline\n",
        "\n",
        "def plot_pred(y_test, y_pred, model_name):\n",
        "    N = len(y_test)\n",
        "    plt.figure(figsize=(10,5)) # 그래프 사이즈\n",
        "    original = plt.scatter(np.arange(1, N+1), y_test, c='blue') # train 데이터의 위치 표시\n",
        "    prediction = plt.scatter(np.arange(1, N+1), y_pred, c='red')\n",
        "    plt.xticks(np.arange(1, N+1)) # X축 길이\n",
        "    plt.xlabel('Observation')\n",
        "    plt.ylabel('Enrollments(Label)')\n",
        "    title = f\"True Labels vs. Predicted Labels ({model_name})\"\n",
        "    plt.title(title)\n",
        "    plt.legend((original, prediction), ('Original', 'Prediction'))\n",
        "    plt.show()\n"
      ],
      "metadata": {
        "id": "C-2ThTNF2xok"
      },
      "execution_count": 62,
      "outputs": []
    },
    {
      "cell_type": "markdown",
      "source": [
        "## Model 1. Linear Regression"
      ],
      "metadata": {
        "id": "QnOfzwcfROhh"
      }
    },
    {
      "cell_type": "code",
      "source": [
        "import statsmodels.api as sm\n",
        "\n",
        "linear_regression = sm.OLS(y_train, X_train)\n",
        "linear_regression = linear_regression.fit()"
      ],
      "metadata": {
        "colab": {
          "base_uri": "https://localhost:8080/"
        },
        "id": "IKTygSl15Sou",
        "outputId": "5d3c1caf-8a10-44dd-f30b-778b891e01f9"
      },
      "execution_count": 57,
      "outputs": [
        {
          "output_type": "stream",
          "name": "stderr",
          "text": [
            "/usr/local/lib/python3.7/dist-packages/statsmodels/tools/_testing.py:19: FutureWarning: pandas.util.testing is deprecated. Use the functions in the public API at pandas.testing instead.\n",
            "  import pandas.util.testing as tm\n"
          ]
        }
      ]
    },
    {
      "cell_type": "code",
      "source": [
        "y_pred = linear_regression.predict(X_test)\n",
        "\n",
        "print_metrics(y_test, y_pred)"
      ],
      "metadata": {
        "colab": {
          "base_uri": "https://localhost:8080/"
        },
        "id": "JsJQFDAm_w-q",
        "outputId": "9fed53e8-7019-47ef-e4cc-d0fbf6d60fd9"
      },
      "execution_count": 59,
      "outputs": [
        {
          "output_type": "stream",
          "name": "stdout",
          "text": [
            "RMSE_score : 17.571352483434456\n",
            "R2_socre : 0.715225578217028\n",
            "MAE_score : 16.18243561085952\n"
          ]
        }
      ]
    },
    {
      "cell_type": "code",
      "source": [
        "plot_pred(y_test, y_pred, 'Linear Regression')"
      ],
      "metadata": {
        "colab": {
          "base_uri": "https://localhost:8080/",
          "height": 354
        },
        "id": "lRTPfwaEKGLt",
        "outputId": "6176594b-3d80-4816-ad97-95bb74375a58"
      },
      "execution_count": 63,
      "outputs": [
        {
          "output_type": "display_data",
          "data": {
            "text/plain": [
              "<Figure size 720x360 with 1 Axes>"
            ],
            "image/png": "[encoded data removed]"
          },
          "metadata": {
            "needs_background": "light"
          }
        }
      ]
    },
    {
      "cell_type": "code",
      "source": [
        "print(linear_regression.summary())"
      ],
      "metadata": {
        "colab": {
          "base_uri": "https://localhost:8080/"
        },
        "id": "eQfM085VKPAX",
        "outputId": "16b0c2bb-a8f7-4274-9046-58e514f4e051"
      },
      "execution_count": 65,
      "outputs": [
        {
          "output_type": "stream",
          "name": "stdout",
          "text": [
            "                                 OLS Regression Results                                \n",
            "=======================================================================================\n",
            "Dep. Variable:            Enrollments   R-squared (uncentered):                   0.980\n",
            "Model:                            OLS   Adj. R-squared (uncentered):              0.977\n",
            "Method:                 Least Squares   F-statistic:                              382.9\n",
            "Date:                Tue, 26 Apr 2022   Prob (F-statistic):                    1.58e-26\n",
            "Time:                        14:13:27   Log-Likelihood:                         -164.38\n",
            "No. Observations:                  36   AIC:                                      336.8\n",
            "Df Residuals:                      32   BIC:                                      343.1\n",
            "Df Model:                           4                                                  \n",
            "Covariance Type:            nonrobust                                                  \n",
            "==============================================================================\n",
            "                 coef    std err          t      P>|t|      [0.025      0.975]\n",
            "------------------------------------------------------------------------------\n",
            "Experiment   -13.9468      8.738     -1.596      0.120     -31.746       3.852\n",
            "Pageviews      0.0692      0.013      5.349      0.000       0.043       0.096\n",
            "Clicks        -0.6159      0.158     -3.888      0.000      -0.939      -0.293\n",
            "DOW           -2.8712      2.266     -1.267      0.214      -7.487       1.745\n",
            "==============================================================================\n",
            "Omnibus:                        2.439   Durbin-Watson:                   2.138\n",
            "Prob(Omnibus):                  0.295   Jarque-Bera (JB):                1.756\n",
            "Skew:                           0.349   Prob(JB):                        0.416\n",
            "Kurtosis:                       2.173   Cond. No.                     1.98e+04\n",
            "==============================================================================\n",
            "\n",
            "Warnings:\n",
            "[1] Standard Errors assume that the covariance matrix of the errors is correctly specified.\n",
            "[2] The condition number is large, 1.98e+04. This might indicate that there are\n",
            "strong multicollinearity or other numerical problems.\n"
          ]
        }
      ]
    },
    {
      "cell_type": "code",
      "source": [
        "# 'Start free trial' 버튼 클릭 수가 많아질 수록 'Enrollments'는 감소함 \n",
        "# 'Course overview' 페이지 조회 수가 많아질 수록 'Enrollments'는 증가함"
      ],
      "metadata": {
        "id": "V3o0EM48fXD7"
      },
      "execution_count": null,
      "outputs": []
    },
    {
      "cell_type": "code",
      "source": [
        "pd.DataFrame(linear_regression.pvalues).reset_index().rename(columns={'index':'Terms', 0:'p_value'}).sort_values('p_value')"
      ],
      "metadata": {
        "colab": {
          "base_uri": "https://localhost:8080/",
          "height": 175
        },
        "id": "5EcxFVZEOCXX",
        "outputId": "e3164e2a-796f-473c-ae96-2999f9819565"
      },
      "execution_count": 68,
      "outputs": [
        {
          "output_type": "execute_result",
          "data": {
            "text/plain": [
              "        Terms   p_value\n",
              "1   Pageviews  0.000007\n",
              "2      Clicks  0.000479\n",
              "0  Experiment  0.120302\n",
              "3         DOW  0.214316"
            ],
            "text/html": [
              "\n",
              "  <div id=\"df-9fc89012-7c9a-47bb-9d61-247acf286274\">\n",
              "    <div class=\"colab-df-container\">\n",
              "      <div>\n",
              "<style scoped>\n",
              "    .dataframe tbody tr th:only-of-type {\n",
              "        vertical-align: middle;\n",
              "    }\n",
              "\n",
              "    .dataframe tbody tr th {\n",
              "        vertical-align: top;\n",
              "    }\n",
              "\n",
              "    .dataframe thead th {\n",
              "        text-align: right;\n",
              "    }\n",
              "</style>\n",
              "<table border=\"1\" class=\"dataframe\">\n",
              "  <thead>\n",
              "    <tr style=\"text-align: right;\">\n",
              "      <th></th>\n",
              "      <th>Terms</th>\n",
              "      <th>p_value</th>\n",
              "    </tr>\n",
              "  </thead>\n",
              "  <tbody>\n",
              "    <tr>\n",
              "      <th>1</th>\n",
              "      <td>Pageviews</td>\n",
              "      <td>0.000007</td>\n",
              "    </tr>\n",
              "    <tr>\n",
              "      <th>2</th>\n",
              "      <td>Clicks</td>\n",
              "      <td>0.000479</td>\n",
              "    </tr>\n",
              "    <tr>\n",
              "      <th>0</th>\n",
              "      <td>Experiment</td>\n",
              "      <td>0.120302</td>\n",
              "    </tr>\n",
              "    <tr>\n",
              "      <th>3</th>\n",
              "      <td>DOW</td>\n",
              "      <td>0.214316</td>\n",
              "    </tr>\n",
              "  </tbody>\n",
              "</table>\n",
              "</div>\n",
              "      <button class=\"colab-df-convert\" onclick=\"convertToInteractive('df-9fc89012-7c9a-47bb-9d61-247acf286274')\"\n",
              "              title=\"Convert this dataframe to an interactive table.\"\n",
              "              style=\"display:none;\">\n",
              "        \n",
              "  <svg xmlns=\"http://www.w3.org/2000/svg\" height=\"24px\"viewBox=\"0 0 24 24\"\n",
              "       width=\"24px\">\n",
              "    <path d=\"M0 0h24v24H0V0z\" fill=\"none\"/>\n",
              "    <path d=\"M18.56 5.44l.94 2.06.94-2.06 2.06-.94-2.06-.94-.94-2.06-.94 2.06-2.06.94zm-11 1L8.5 8.5l.94-2.06 2.06-.94-2.06-.94L8.5 2.5l-.94 2.06-2.06.94zm10 10l.94 2.06.94-2.06 2.06-.94-2.06-.94-.94-2.06-.94 2.06-2.06.94z\"/><path d=\"M17.41 7.96l-1.37-1.37c-.4-.4-.92-.59-1.43-.59-.52 0-1.04.2-1.43.59L10.3 9.45l-7.72 7.72c-.78.78-.78 2.05 0 2.83L4 21.41c.39.39.9.59 1.41.59.51 0 1.02-.2 1.41-.59l7.78-7.78 2.81-2.81c.8-.78.8-2.07 0-2.86zM5.41 20L4 18.59l7.72-7.72 1.47 1.35L5.41 20z\"/>\n",
              "  </svg>\n",
              "      </button>\n",
              "      \n",
              "  <style>\n",
              "    .colab-df-container {\n",
              "      display:flex;\n",
              "      flex-wrap:wrap;\n",
              "      gap: 12px;\n",
              "    }\n",
              "\n",
              "    .colab-df-convert {\n",
              "      background-color: #E8F0FE;\n",
              "      border: none;\n",
              "      border-radius: 50%;\n",
              "      cursor: pointer;\n",
              "      display: none;\n",
              "      fill: #1967D2;\n",
              "      height: 32px;\n",
              "      padding: 0 0 0 0;\n",
              "      width: 32px;\n",
              "    }\n",
              "\n",
              "    .colab-df-convert:hover {\n",
              "      background-color: #E2EBFA;\n",
              "      box-shadow: 0px 1px 2px rgba(60, 64, 67, 0.3), 0px 1px 3px 1px rgba(60, 64, 67, 0.15);\n",
              "      fill: #174EA6;\n",
              "    }\n",
              "\n",
              "    [theme=dark] .colab-df-convert {\n",
              "      background-color: #3B4455;\n",
              "      fill: #D2E3FC;\n",
              "    }\n",
              "\n",
              "    [theme=dark] .colab-df-convert:hover {\n",
              "      background-color: #434B5C;\n",
              "      box-shadow: 0px 1px 3px 1px rgba(0, 0, 0, 0.15);\n",
              "      filter: drop-shadow(0px 1px 2px rgba(0, 0, 0, 0.3));\n",
              "      fill: #FFFFFF;\n",
              "    }\n",
              "  </style>\n",
              "\n",
              "      <script>\n",
              "        const buttonEl =\n",
              "          document.querySelector('#df-9fc89012-7c9a-47bb-9d61-247acf286274 button.colab-df-convert');\n",
              "        buttonEl.style.display =\n",
              "          google.colab.kernel.accessAllowed ? 'block' : 'none';\n",
              "\n",
              "        async function convertToInteractive(key) {\n",
              "          const element = document.querySelector('#df-9fc89012-7c9a-47bb-9d61-247acf286274');\n",
              "          const dataTable =\n",
              "            await google.colab.kernel.invokeFunction('convertToInteractive',\n",
              "                                                     [key], {});\n",
              "          if (!dataTable) return;\n",
              "\n",
              "          const docLinkHtml = 'Like what you see? Visit the ' +\n",
              "            '<a target=\"_blank\" href=https://colab.research.google.com/notebooks/data_table.ipynb>data table notebook</a>'\n",
              "            + ' to learn more about interactive tables.';\n",
              "          element.innerHTML = '';\n",
              "          dataTable['output_type'] = 'display_data';\n",
              "          await google.colab.output.renderOutput(dataTable, element);\n",
              "          const docLink = document.createElement('div');\n",
              "          docLink.innerHTML = docLinkHtml;\n",
              "          element.appendChild(docLink);\n",
              "        }\n",
              "      </script>\n",
              "    </div>\n",
              "  </div>\n",
              "  "
            ]
          },
          "metadata": {},
          "execution_count": 68
        }
      ]
    },
    {
      "cell_type": "markdown",
      "source": [
        "## Model 2 : Decision Tree"
      ],
      "metadata": {
        "id": "LoaCu-1VRWJR"
      }
    },
    {
      "cell_type": "code",
      "source": [
        "from sklearn.tree import DecisionTreeRegressor\n",
        "\n",
        "tree = DecisionTreeRegressor(max_depth=3, min_samples_leaf=2, random_state=2)\n",
        "tree.fit(X_train, y_train)\n",
        "y_pred = tree.predict(X_test)\n",
        "\n",
        "print_metrics(y_test, y_pred)"
      ],
      "metadata": {
        "colab": {
          "base_uri": "https://localhost:8080/"
        },
        "id": "6K-_1LhxQD47",
        "outputId": "43043d75-3957-4f83-aaf1-d25f5d79a3b2"
      },
      "execution_count": 92,
      "outputs": [
        {
          "output_type": "stream",
          "name": "stdout",
          "text": [
            "RMSE_score : 22.543891430192936\n",
            "R2_socre : 0.5312423530563304\n",
            "MAE_score : 20.735714285714288\n"
          ]
        }
      ]
    },
    {
      "cell_type": "code",
      "source": [
        "plot_pred(y_test, y_pred, 'Decision Tree')"
      ],
      "metadata": {
        "colab": {
          "base_uri": "https://localhost:8080/",
          "height": 354
        },
        "id": "WQUSnXVBXE2S",
        "outputId": "060523eb-1377-4c48-8987-04f0509161f4"
      },
      "execution_count": 93,
      "outputs": [
        {
          "output_type": "display_data",
          "data": {
            "text/plain": [
              "<Figure size 720x360 with 1 Axes>"
            ],
            "image/png": "[encoded data removed]"
          },
          "metadata": {
            "needs_background": "light"
          }
        }
      ]
    },
    {
      "cell_type": "code",
      "source": [
        "import graphviz\n",
        "from sklearn.tree import export_graphviz\n",
        "\n",
        "dot_data = export_graphviz(tree\n",
        "                          , max_depth=6\n",
        "                          , feature_names=X_train.columns\n",
        "                          , class_names=['no', 'yes']\n",
        "                          , filled=True\n",
        "                          , proportion=True)\n",
        "\n",
        "display(graphviz.Source(dot_data))"
      ],
      "metadata": {
        "colab": {
          "base_uri": "https://localhost:8080/",
          "height": 539
        },
        "id": "bOiB_VvWXPrP",
        "outputId": "c43c55f2-c145-4d47-9a4b-a3f6cddeefd1"
      },
      "execution_count": 94,
      "outputs": [
        {
          "output_type": "display_data",
          "data": {
            "text/plain": [
              "<graphviz.files.Source at 0x7fcc2dcca5d0>"
            ],
            "image/svg+xml": "<?xml version=\"1.0\" encoding=\"UTF-8\" standalone=\"no\"?>\n<!DOCTYPE svg PUBLIC \"-//W3C//DTD SVG 1.1//EN\"\n \"http://www.w3.org/Graphics/SVG/1.1/DTD/svg11.dtd\">\n<!-- Generated by graphviz version 2.40.1 (20161225.0304)\n -->\n<!-- Title: Tree Pages: 1 -->\n<svg width=\"1102pt\" height=\"373pt\"\n viewBox=\"0.00 0.00 1101.50 373.00\" xmlns=\"http://www.w3.org/2000/svg\" xmlns:xlink=\"http://www.w3.org/1999/xlink\">\n<g id=\"graph0\" class=\"graph\" transform=\"scale(1 1) rotate(0) translate(4 369)\">\n<title>Tree</title>\n<polygon fill=\"#ffffff\" stroke=\"transparent\" points=\"-4,4 -4,-369 1097.5,-369 1097.5,4 -4,4\"/>\n<!-- 0 -->\n<g id=\"node1\" class=\"node\">\n<title>0</title>\n<polygon fill=\"#f4ccae\" stroke=\"#000000\" points=\"605.5,-365 444.5,-365 444.5,-297 605.5,-297 605.5,-365\"/>\n<text text-anchor=\"middle\" x=\"525\" y=\"-349.8\" font-family=\"Helvetica,sans-Serif\" font-size=\"14.00\" fill=\"#000000\">Pageviews &lt;= 8678.0</text>\n<text text-anchor=\"middle\" x=\"525\" y=\"-334.8\" font-family=\"Helvetica,sans-Serif\" font-size=\"14.00\" fill=\"#000000\">squared_error = 961.5</text>\n<text text-anchor=\"middle\" x=\"525\" y=\"-319.8\" font-family=\"Helvetica,sans-Serif\" font-size=\"14.00\" fill=\"#000000\">samples = 100.0%</text>\n<text text-anchor=\"middle\" x=\"525\" y=\"-304.8\" font-family=\"Helvetica,sans-Serif\" font-size=\"14.00\" fill=\"#000000\">value = 159.667</text>\n</g>\n<!-- 1 -->\n<g id=\"node2\" class=\"node\">\n<title>1</title>\n<polygon fill=\"#fcf0e8\" stroke=\"#000000\" points=\"516.5,-261 339.5,-261 339.5,-193 516.5,-193 516.5,-261\"/>\n<text text-anchor=\"middle\" x=\"428\" y=\"-245.8\" font-family=\"Helvetica,sans-Serif\" font-size=\"14.00\" fill=\"#000000\">Pageviews &lt;= 8459.5</text>\n<text text-anchor=\"middle\" x=\"428\" y=\"-230.8\" font-family=\"Helvetica,sans-Serif\" font-size=\"14.00\" fill=\"#000000\">squared_error = 156.734</text>\n<text text-anchor=\"middle\" x=\"428\" y=\"-215.8\" font-family=\"Helvetica,sans-Serif\" font-size=\"14.00\" fill=\"#000000\">samples = 22.2%</text>\n<text text-anchor=\"middle\" x=\"428\" y=\"-200.8\" font-family=\"Helvetica,sans-Serif\" font-size=\"14.00\" fill=\"#000000\">value = 128.375</text>\n</g>\n<!-- 0&#45;&gt;1 -->\n<g id=\"edge1\" class=\"edge\">\n<title>0&#45;&gt;1</title>\n<path fill=\"none\" stroke=\"#000000\" d=\"M493.2386,-296.9465C484.7806,-287.8782 475.5486,-277.9799 466.7613,-268.5585\"/>\n<polygon fill=\"#000000\" stroke=\"#000000\" points=\"469.213,-266.0557 459.8328,-261.13 464.094,-270.8302 469.213,-266.0557\"/>\n<text text-anchor=\"middle\" x=\"458.9627\" y=\"-282.4148\" font-family=\"Helvetica,sans-Serif\" font-size=\"14.00\" fill=\"#000000\">True</text>\n</g>\n<!-- 6 -->\n<g id=\"node7\" class=\"node\">\n<title>6</title>\n<polygon fill=\"#f2c19e\" stroke=\"#000000\" points=\"711.5,-261 534.5,-261 534.5,-193 711.5,-193 711.5,-261\"/>\n<text text-anchor=\"middle\" x=\"623\" y=\"-245.8\" font-family=\"Helvetica,sans-Serif\" font-size=\"14.00\" fill=\"#000000\">Clicks &lt;= 775.0</text>\n<text text-anchor=\"middle\" x=\"623\" y=\"-230.8\" font-family=\"Helvetica,sans-Serif\" font-size=\"14.00\" fill=\"#000000\">squared_error = 831.739</text>\n<text text-anchor=\"middle\" x=\"623\" y=\"-215.8\" font-family=\"Helvetica,sans-Serif\" font-size=\"14.00\" fill=\"#000000\">samples = 77.8%</text>\n<text text-anchor=\"middle\" x=\"623\" y=\"-200.8\" font-family=\"Helvetica,sans-Serif\" font-size=\"14.00\" fill=\"#000000\">value = 168.607</text>\n</g>\n<!-- 0&#45;&gt;6 -->\n<g id=\"edge6\" class=\"edge\">\n<title>0&#45;&gt;6</title>\n<path fill=\"none\" stroke=\"#000000\" d=\"M557.0889,-296.9465C565.634,-287.8782 574.9613,-277.9799 583.8391,-268.5585\"/>\n<polygon fill=\"#000000\" stroke=\"#000000\" points=\"586.5283,-270.8082 590.839,-261.13 581.4337,-266.0076 586.5283,-270.8082\"/>\n<text text-anchor=\"middle\" x=\"591.5813\" y=\"-282.419\" font-family=\"Helvetica,sans-Serif\" font-size=\"14.00\" fill=\"#000000\">False</text>\n</g>\n<!-- 2 -->\n<g id=\"node3\" class=\"node\">\n<title>2</title>\n<polygon fill=\"#fdf6f0\" stroke=\"#000000\" points=\"326.5,-157 157.5,-157 157.5,-89 326.5,-89 326.5,-157\"/>\n<text text-anchor=\"middle\" x=\"242\" y=\"-141.8\" font-family=\"Helvetica,sans-Serif\" font-size=\"14.00\" fill=\"#000000\">Clicks &lt;= 653.5</text>\n<text text-anchor=\"middle\" x=\"242\" y=\"-126.8\" font-family=\"Helvetica,sans-Serif\" font-size=\"14.00\" fill=\"#000000\">squared_error = 62.333</text>\n<text text-anchor=\"middle\" x=\"242\" y=\"-111.8\" font-family=\"Helvetica,sans-Serif\" font-size=\"14.00\" fill=\"#000000\">samples = 16.7%</text>\n<text text-anchor=\"middle\" x=\"242\" y=\"-96.8\" font-family=\"Helvetica,sans-Serif\" font-size=\"14.00\" fill=\"#000000\">value = 124.0</text>\n</g>\n<!-- 1&#45;&gt;2 -->\n<g id=\"edge2\" class=\"edge\">\n<title>1&#45;&gt;2</title>\n<path fill=\"none\" stroke=\"#000000\" d=\"M367.0966,-192.9465C349.4331,-183.0701 330.0089,-172.2093 311.8434,-162.0522\"/>\n<polygon fill=\"#000000\" stroke=\"#000000\" points=\"313.4766,-158.9555 303.0402,-157.13 310.0603,-165.0653 313.4766,-158.9555\"/>\n</g>\n<!-- 5 -->\n<g id=\"node6\" class=\"node\">\n<title>5</title>\n<polygon fill=\"#f9e1d0\" stroke=\"#000000\" points=\"513.5,-149.5 344.5,-149.5 344.5,-96.5 513.5,-96.5 513.5,-149.5\"/>\n<text text-anchor=\"middle\" x=\"429\" y=\"-134.3\" font-family=\"Helvetica,sans-Serif\" font-size=\"14.00\" fill=\"#000000\">squared_error = 210.25</text>\n<text text-anchor=\"middle\" x=\"429\" y=\"-119.3\" font-family=\"Helvetica,sans-Serif\" font-size=\"14.00\" fill=\"#000000\">samples = 5.6%</text>\n<text text-anchor=\"middle\" x=\"429\" y=\"-104.3\" font-family=\"Helvetica,sans-Serif\" font-size=\"14.00\" fill=\"#000000\">value = 141.5</text>\n</g>\n<!-- 1&#45;&gt;5 -->\n<g id=\"edge5\" class=\"edge\">\n<title>1&#45;&gt;5</title>\n<path fill=\"none\" stroke=\"#000000\" d=\"M428.3274,-192.9465C428.4302,-182.2621 428.544,-170.4254 428.6483,-159.5742\"/>\n<polygon fill=\"#000000\" stroke=\"#000000\" points=\"432.1484,-159.5754 428.7448,-149.5422 425.1487,-159.508 432.1484,-159.5754\"/>\n</g>\n<!-- 3 -->\n<g id=\"node4\" class=\"node\">\n<title>3</title>\n<polygon fill=\"#ffffff\" stroke=\"#000000\" points=\"152,-53 0,-53 0,0 152,0 152,-53\"/>\n<text text-anchor=\"middle\" x=\"76\" y=\"-37.8\" font-family=\"Helvetica,sans-Serif\" font-size=\"14.00\" fill=\"#000000\">squared_error = 36.0</text>\n<text text-anchor=\"middle\" x=\"76\" y=\"-22.8\" font-family=\"Helvetica,sans-Serif\" font-size=\"14.00\" fill=\"#000000\">samples = 5.6%</text>\n<text text-anchor=\"middle\" x=\"76\" y=\"-7.8\" font-family=\"Helvetica,sans-Serif\" font-size=\"14.00\" fill=\"#000000\">value = 116.0</text>\n</g>\n<!-- 2&#45;&gt;3 -->\n<g id=\"edge3\" class=\"edge\">\n<title>2&#45;&gt;3</title>\n<path fill=\"none\" stroke=\"#000000\" d=\"M183.4746,-88.9777C166.2256,-78.9504 147.4277,-68.0228 130.446,-58.1508\"/>\n<polygon fill=\"#000000\" stroke=\"#000000\" points=\"132.1533,-55.095 121.749,-53.095 128.6353,-61.1467 132.1533,-55.095\"/>\n</g>\n<!-- 4 -->\n<g id=\"node5\" class=\"node\">\n<title>4</title>\n<polygon fill=\"#fcf1e9\" stroke=\"#000000\" points=\"322,-53 170,-53 170,0 322,0 322,-53\"/>\n<text text-anchor=\"middle\" x=\"246\" y=\"-37.8\" font-family=\"Helvetica,sans-Serif\" font-size=\"14.00\" fill=\"#000000\">squared_error = 27.5</text>\n<text text-anchor=\"middle\" x=\"246\" y=\"-22.8\" font-family=\"Helvetica,sans-Serif\" font-size=\"14.00\" fill=\"#000000\">samples = 11.1%</text>\n<text text-anchor=\"middle\" x=\"246\" y=\"-7.8\" font-family=\"Helvetica,sans-Serif\" font-size=\"14.00\" fill=\"#000000\">value = 128.0</text>\n</g>\n<!-- 2&#45;&gt;4 -->\n<g id=\"edge4\" class=\"edge\">\n<title>2&#45;&gt;4</title>\n<path fill=\"none\" stroke=\"#000000\" d=\"M243.4103,-88.9777C243.7519,-80.7364 244.1187,-71.887 244.4657,-63.5153\"/>\n<polygon fill=\"#000000\" stroke=\"#000000\" points=\"247.974,-63.3849 244.8913,-53.2485 240.98,-63.0949 247.974,-63.3849\"/>\n</g>\n<!-- 7 -->\n<g id=\"node8\" class=\"node\">\n<title>7</title>\n<polygon fill=\"#edaa7a\" stroke=\"#000000\" points=\"710.5,-157 533.5,-157 533.5,-89 710.5,-89 710.5,-157\"/>\n<text text-anchor=\"middle\" x=\"622\" y=\"-141.8\" font-family=\"Helvetica,sans-Serif\" font-size=\"14.00\" fill=\"#000000\">Pageviews &lt;= 9468.5</text>\n<text text-anchor=\"middle\" x=\"622\" y=\"-126.8\" font-family=\"Helvetica,sans-Serif\" font-size=\"14.00\" fill=\"#000000\">squared_error = 513.209</text>\n<text text-anchor=\"middle\" x=\"622\" y=\"-111.8\" font-family=\"Helvetica,sans-Serif\" font-size=\"14.00\" fill=\"#000000\">samples = 38.9%</text>\n<text text-anchor=\"middle\" x=\"622\" y=\"-96.8\" font-family=\"Helvetica,sans-Serif\" font-size=\"14.00\" fill=\"#000000\">value = 188.071</text>\n</g>\n<!-- 6&#45;&gt;7 -->\n<g id=\"edge7\" class=\"edge\">\n<title>6&#45;&gt;7</title>\n<path fill=\"none\" stroke=\"#000000\" d=\"M622.6726,-192.9465C622.594,-184.776 622.509,-175.9318 622.4266,-167.3697\"/>\n<polygon fill=\"#000000\" stroke=\"#000000\" points=\"625.9243,-167.0958 622.3282,-157.13 618.9246,-167.1632 625.9243,-167.0958\"/>\n</g>\n<!-- 10 -->\n<g id=\"node11\" class=\"node\">\n<title>10</title>\n<polygon fill=\"#f7d8c2\" stroke=\"#000000\" points=\"905.5,-157 728.5,-157 728.5,-89 905.5,-89 905.5,-157\"/>\n<text text-anchor=\"middle\" x=\"817\" y=\"-141.8\" font-family=\"Helvetica,sans-Serif\" font-size=\"14.00\" fill=\"#000000\">Pageviews &lt;= 9869.0</text>\n<text text-anchor=\"middle\" x=\"817\" y=\"-126.8\" font-family=\"Helvetica,sans-Serif\" font-size=\"14.00\" fill=\"#000000\">squared_error = 392.551</text>\n<text text-anchor=\"middle\" x=\"817\" y=\"-111.8\" font-family=\"Helvetica,sans-Serif\" font-size=\"14.00\" fill=\"#000000\">samples = 38.9%</text>\n<text text-anchor=\"middle\" x=\"817\" y=\"-96.8\" font-family=\"Helvetica,sans-Serif\" font-size=\"14.00\" fill=\"#000000\">value = 149.143</text>\n</g>\n<!-- 6&#45;&gt;10 -->\n<g id=\"edge10\" class=\"edge\">\n<title>6&#45;&gt;10</title>\n<path fill=\"none\" stroke=\"#000000\" d=\"M686.5229,-192.9465C705.0299,-183.0252 725.39,-172.1105 744.4109,-161.9138\"/>\n<polygon fill=\"#000000\" stroke=\"#000000\" points=\"746.1746,-164.9395 753.3344,-157.13 742.8673,-158.7701 746.1746,-164.9395\"/>\n</g>\n<!-- 8 -->\n<g id=\"node9\" class=\"node\">\n<title>8</title>\n<polygon fill=\"#efb184\" stroke=\"#000000\" points=\"527.5,-53 350.5,-53 350.5,0 527.5,0 527.5,-53\"/>\n<text text-anchor=\"middle\" x=\"439\" y=\"-37.8\" font-family=\"Helvetica,sans-Serif\" font-size=\"14.00\" fill=\"#000000\">squared_error = 344.854</text>\n<text text-anchor=\"middle\" x=\"439\" y=\"-22.8\" font-family=\"Helvetica,sans-Serif\" font-size=\"14.00\" fill=\"#000000\">samples = 33.3%</text>\n<text text-anchor=\"middle\" x=\"439\" y=\"-7.8\" font-family=\"Helvetica,sans-Serif\" font-size=\"14.00\" fill=\"#000000\">value = 182.25</text>\n</g>\n<!-- 7&#45;&gt;8 -->\n<g id=\"edge8\" class=\"edge\">\n<title>7&#45;&gt;8</title>\n<path fill=\"none\" stroke=\"#000000\" d=\"M557.481,-88.9777C538.2911,-78.8584 517.3623,-67.8222 498.507,-57.8794\"/>\n<polygon fill=\"#000000\" stroke=\"#000000\" points=\"499.9122,-54.6636 489.4341,-53.095 496.647,-60.8554 499.9122,-54.6636\"/>\n</g>\n<!-- 9 -->\n<g id=\"node10\" class=\"node\">\n<title>9</title>\n<polygon fill=\"#e58139\" stroke=\"#000000\" points=\"706.5,-53 545.5,-53 545.5,0 706.5,0 706.5,-53\"/>\n<text text-anchor=\"middle\" x=\"626\" y=\"-37.8\" font-family=\"Helvetica,sans-Serif\" font-size=\"14.00\" fill=\"#000000\">squared_error = 100.0</text>\n<text text-anchor=\"middle\" x=\"626\" y=\"-22.8\" font-family=\"Helvetica,sans-Serif\" font-size=\"14.00\" fill=\"#000000\">samples = 5.6%</text>\n<text text-anchor=\"middle\" x=\"626\" y=\"-7.8\" font-family=\"Helvetica,sans-Serif\" font-size=\"14.00\" fill=\"#000000\">value = 223.0</text>\n</g>\n<!-- 7&#45;&gt;9 -->\n<g id=\"edge9\" class=\"edge\">\n<title>7&#45;&gt;9</title>\n<path fill=\"none\" stroke=\"#000000\" d=\"M623.4103,-88.9777C623.7519,-80.7364 624.1187,-71.887 624.4657,-63.5153\"/>\n<polygon fill=\"#000000\" stroke=\"#000000\" points=\"627.974,-63.3849 624.8913,-53.2485 620.98,-63.0949 627.974,-63.3849\"/>\n</g>\n<!-- 11 -->\n<g id=\"node12\" class=\"node\">\n<title>11</title>\n<polygon fill=\"#fbeade\" stroke=\"#000000\" points=\"898.5,-53 729.5,-53 729.5,0 898.5,0 898.5,-53\"/>\n<text text-anchor=\"middle\" x=\"814\" y=\"-37.8\" font-family=\"Helvetica,sans-Serif\" font-size=\"14.00\" fill=\"#000000\">squared_error = 88.776</text>\n<text text-anchor=\"middle\" x=\"814\" y=\"-22.8\" font-family=\"Helvetica,sans-Serif\" font-size=\"14.00\" fill=\"#000000\">samples = 19.4%</text>\n<text text-anchor=\"middle\" x=\"814\" y=\"-7.8\" font-family=\"Helvetica,sans-Serif\" font-size=\"14.00\" fill=\"#000000\">value = 133.714</text>\n</g>\n<!-- 10&#45;&gt;11 -->\n<g id=\"edge11\" class=\"edge\">\n<title>10&#45;&gt;11</title>\n<path fill=\"none\" stroke=\"#000000\" d=\"M815.9423,-88.9777C815.6861,-80.7364 815.411,-71.887 815.1507,-63.5153\"/>\n<polygon fill=\"#000000\" stroke=\"#000000\" points=\"818.6407,-63.1349 814.8316,-53.2485 811.6441,-63.3524 818.6407,-63.1349\"/>\n</g>\n<!-- 12 -->\n<g id=\"node13\" class=\"node\">\n<title>12</title>\n<polygon fill=\"#f3c6a5\" stroke=\"#000000\" points=\"1093.5,-53 916.5,-53 916.5,0 1093.5,0 1093.5,-53\"/>\n<text text-anchor=\"middle\" x=\"1005\" y=\"-37.8\" font-family=\"Helvetica,sans-Serif\" font-size=\"14.00\" fill=\"#000000\">squared_error = 220.245</text>\n<text text-anchor=\"middle\" x=\"1005\" y=\"-22.8\" font-family=\"Helvetica,sans-Serif\" font-size=\"14.00\" fill=\"#000000\">samples = 19.4%</text>\n<text text-anchor=\"middle\" x=\"1005\" y=\"-7.8\" font-family=\"Helvetica,sans-Serif\" font-size=\"14.00\" fill=\"#000000\">value = 164.571</text>\n</g>\n<!-- 10&#45;&gt;12 -->\n<g id=\"edge12\" class=\"edge\">\n<title>10&#45;&gt;12</title>\n<path fill=\"none\" stroke=\"#000000\" d=\"M883.2818,-88.9777C903.0857,-78.8124 924.6922,-67.7218 944.1311,-57.7439\"/>\n<polygon fill=\"#000000\" stroke=\"#000000\" points=\"945.8898,-60.7754 953.1879,-53.095 942.6932,-54.5478 945.8898,-60.7754\"/>\n</g>\n</g>\n</svg>\n"
          },
          "metadata": {}
        }
      ]
    },
    {
      "cell_type": "code",
      "source": [
        "# 주로 페이지 조회수와 클릭 수에서 클래스가 분류됨"
      ],
      "metadata": {
        "id": "FG8tEuR4dWKH"
      },
      "execution_count": null,
      "outputs": []
    },
    {
      "cell_type": "code",
      "source": [
        "# 내일 해야할 것(수)\n",
        "# XGBoost 모델링\n",
        "# 결과 정리\n",
        "# 시각화(순열 중요도, 특성 중요도)\n",
        "\n",
        "# 목요일에 해야할 것\n",
        "# 시각화\n",
        "# PPT 제작"
      ],
      "metadata": {
        "id": "vIVuQoYDgMvV"
      },
      "execution_count": null,
      "outputs": []
    },
    {
      "cell_type": "markdown",
      "source": [
        "## Model 3 : XGBoost"
      ],
      "metadata": {
        "id": "w03CdDpZhERF"
      }
    },
    {
      "cell_type": "code",
      "source": [
        "from xgboost import XGBRegressor\n",
        "\n",
        "XGB = XGBRegressor(max_depth= 5,\n",
        "                   objective='reg:linear',\n",
        "                   booster= 'gblinear',\n",
        "                   n_estimators= 1000,\n",
        "                   learning_rate = 0.2,\n",
        "                   gamma = 0.01,\n",
        "                   random_state = 2,\n",
        "                   subsample = 1)\n",
        "\n",
        "XGB.fit(X_train, y_train)"
      ],
      "metadata": {
        "colab": {
          "base_uri": "https://localhost:8080/"
        },
        "id": "w7gC8M5phD9N",
        "outputId": "b0a1b43f-6296-41ac-8c54-7acc185346b9"
      },
      "execution_count": 113,
      "outputs": [
        {
          "output_type": "stream",
          "name": "stdout",
          "text": [
            "[15:52:36] WARNING: /workspace/src/objective/regression_obj.cu:152: reg:linear is now deprecated in favor of reg:squarederror.\n"
          ]
        },
        {
          "output_type": "execute_result",
          "data": {
            "text/plain": [
              "XGBRegressor(booster='gblinear', gamma=0.01, learning_rate=0.2, max_depth=5,\n",
              "             n_estimators=1000, random_state=2)"
            ]
          },
          "metadata": {},
          "execution_count": 113
        }
      ]
    },
    {
      "cell_type": "code",
      "source": [
        "y_pred = XGB.predict(X_test)\n",
        "print_metrics(y_test, y_pred)"
      ],
      "metadata": {
        "colab": {
          "base_uri": "https://localhost:8080/"
        },
        "id": "FbNftoAGhf6l",
        "outputId": "f4253f38-8179-4243-c986-9303e76eebd5"
      },
      "execution_count": 114,
      "outputs": [
        {
          "output_type": "stream",
          "name": "stdout",
          "text": [
            "RMSE_score : 31.536692085228957\n",
            "R2_socre : 0.08267575384749792\n",
            "MAE_score : 26.24346160888672\n"
          ]
        }
      ]
    },
    {
      "cell_type": "code",
      "source": [
        "plot_pred(y_test, y_pred, 'XGBoost')"
      ],
      "metadata": {
        "colab": {
          "base_uri": "https://localhost:8080/",
          "height": 354
        },
        "id": "N4vIOSPCiiuG",
        "outputId": "ece826f4-99b9-4af1-c939-d35556d9693f"
      },
      "execution_count": 115,
      "outputs": [
        {
          "output_type": "display_data",
          "data": {
            "text/plain": [
              "<Figure size 720x360 with 1 Axes>"
            ],
            "image/png": "[encoded data removed]"
          },
          "metadata": {
            "needs_background": "light"
          }
        }
      ]
    }
  ],
  "metadata": {
    "colab": {
      "name": "CP-1_note.ipynb",
      "provenance": [],
      "collapsed_sections": [],
      "mount_file_id": "13P5MGdEyaBP6K901nHiafxkAEPliVGvA",
      "authorship_tag": "ABX9TyNd3B14IsWVkYzPEl9y/IyU",
      "include_colab_link": true
    },
    "kernelspec": {
      "display_name": "Python 3",
      "name": "python3"
    },
    "language_info": {
      "name": "python"
    }
  },
  "nbformat": 4,
  "nbformat_minor": 0
}