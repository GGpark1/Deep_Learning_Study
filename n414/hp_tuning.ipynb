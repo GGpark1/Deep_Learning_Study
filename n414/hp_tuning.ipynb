{
  "nbformat": 4,
  "nbformat_minor": 0,
  "metadata": {
    "colab": {
      "name": "hp_tuning.ipynb",
      "provenance": []
    },
    "kernelspec": {
      "name": "python3",
      "display_name": "Python 3"
    },
    "language_info": {
      "name": "python"
    }
  },
  "cells": [
    {
      "cell_type": "markdown",
      "source": [
        "## GridSearchCV"
      ],
      "metadata": {
        "id": "RVi40yatuN_E"
      }
    },
    {
      "cell_type": "code",
      "execution_count": 13,
      "metadata": {
        "colab": {
          "base_uri": "https://localhost:8080/"
        },
        "id": "AT9NPvWdE63y",
        "outputId": "421ddc05-838f-4b1f-fe9f-296ce18f11db"
      },
      "outputs": [
        {
          "output_type": "stream",
          "name": "stdout",
          "text": [
            "Requirement already satisfied: keras-tuner in /usr/local/lib/python3.7/dist-packages (1.1.0)\n",
            "Requirement already satisfied: kt-legacy in /usr/local/lib/python3.7/dist-packages (from keras-tuner) (1.0.4)\n",
            "Requirement already satisfied: requests in /usr/local/lib/python3.7/dist-packages (from keras-tuner) (2.23.0)\n",
            "Requirement already satisfied: scipy in /usr/local/lib/python3.7/dist-packages (from keras-tuner) (1.4.1)\n",
            "Requirement already satisfied: packaging in /usr/local/lib/python3.7/dist-packages (from keras-tuner) (21.3)\n",
            "Requirement already satisfied: tensorboard in /usr/local/lib/python3.7/dist-packages (from keras-tuner) (2.8.0)\n",
            "Requirement already satisfied: numpy in /usr/local/lib/python3.7/dist-packages (from keras-tuner) (1.21.5)\n",
            "Requirement already satisfied: ipython in /usr/local/lib/python3.7/dist-packages (from keras-tuner) (5.5.0)\n",
            "Requirement already satisfied: prompt-toolkit<2.0.0,>=1.0.4 in /usr/local/lib/python3.7/dist-packages (from ipython->keras-tuner) (1.0.18)\n",
            "Requirement already satisfied: pickleshare in /usr/local/lib/python3.7/dist-packages (from ipython->keras-tuner) (0.7.5)\n",
            "Requirement already satisfied: decorator in /usr/local/lib/python3.7/dist-packages (from ipython->keras-tuner) (4.4.2)\n",
            "Requirement already satisfied: pexpect in /usr/local/lib/python3.7/dist-packages (from ipython->keras-tuner) (4.8.0)\n",
            "Requirement already satisfied: pygments in /usr/local/lib/python3.7/dist-packages (from ipython->keras-tuner) (2.6.1)\n",
            "Requirement already satisfied: simplegeneric>0.8 in /usr/local/lib/python3.7/dist-packages (from ipython->keras-tuner) (0.8.1)\n",
            "Requirement already satisfied: setuptools>=18.5 in /usr/local/lib/python3.7/dist-packages (from ipython->keras-tuner) (57.4.0)\n",
            "Requirement already satisfied: traitlets>=4.2 in /usr/local/lib/python3.7/dist-packages (from ipython->keras-tuner) (5.1.1)\n",
            "Requirement already satisfied: wcwidth in /usr/local/lib/python3.7/dist-packages (from prompt-toolkit<2.0.0,>=1.0.4->ipython->keras-tuner) (0.2.5)\n",
            "Requirement already satisfied: six>=1.9.0 in /usr/local/lib/python3.7/dist-packages (from prompt-toolkit<2.0.0,>=1.0.4->ipython->keras-tuner) (1.15.0)\n",
            "Requirement already satisfied: pyparsing!=3.0.5,>=2.0.2 in /usr/local/lib/python3.7/dist-packages (from packaging->keras-tuner) (3.0.7)\n",
            "Requirement already satisfied: ptyprocess>=0.5 in /usr/local/lib/python3.7/dist-packages (from pexpect->ipython->keras-tuner) (0.7.0)\n",
            "Requirement already satisfied: idna<3,>=2.5 in /usr/local/lib/python3.7/dist-packages (from requests->keras-tuner) (2.10)\n",
            "Requirement already satisfied: chardet<4,>=3.0.2 in /usr/local/lib/python3.7/dist-packages (from requests->keras-tuner) (3.0.4)\n",
            "Requirement already satisfied: certifi>=2017.4.17 in /usr/local/lib/python3.7/dist-packages (from requests->keras-tuner) (2021.10.8)\n",
            "Requirement already satisfied: urllib3!=1.25.0,!=1.25.1,<1.26,>=1.21.1 in /usr/local/lib/python3.7/dist-packages (from requests->keras-tuner) (1.24.3)\n",
            "Requirement already satisfied: protobuf>=3.6.0 in /usr/local/lib/python3.7/dist-packages (from tensorboard->keras-tuner) (3.17.3)\n",
            "Requirement already satisfied: google-auth-oauthlib<0.5,>=0.4.1 in /usr/local/lib/python3.7/dist-packages (from tensorboard->keras-tuner) (0.4.6)\n",
            "Requirement already satisfied: grpcio>=1.24.3 in /usr/local/lib/python3.7/dist-packages (from tensorboard->keras-tuner) (1.43.0)\n",
            "Requirement already satisfied: google-auth<3,>=1.6.3 in /usr/local/lib/python3.7/dist-packages (from tensorboard->keras-tuner) (1.35.0)\n",
            "Requirement already satisfied: markdown>=2.6.8 in /usr/local/lib/python3.7/dist-packages (from tensorboard->keras-tuner) (3.3.6)\n",
            "Requirement already satisfied: werkzeug>=0.11.15 in /usr/local/lib/python3.7/dist-packages (from tensorboard->keras-tuner) (1.0.1)\n",
            "Requirement already satisfied: tensorboard-plugin-wit>=1.6.0 in /usr/local/lib/python3.7/dist-packages (from tensorboard->keras-tuner) (1.8.1)\n",
            "Requirement already satisfied: absl-py>=0.4 in /usr/local/lib/python3.7/dist-packages (from tensorboard->keras-tuner) (1.0.0)\n",
            "Requirement already satisfied: tensorboard-data-server<0.7.0,>=0.6.0 in /usr/local/lib/python3.7/dist-packages (from tensorboard->keras-tuner) (0.6.1)\n",
            "Requirement already satisfied: wheel>=0.26 in /usr/local/lib/python3.7/dist-packages (from tensorboard->keras-tuner) (0.37.1)\n",
            "Requirement already satisfied: rsa<5,>=3.1.4 in /usr/local/lib/python3.7/dist-packages (from google-auth<3,>=1.6.3->tensorboard->keras-tuner) (4.8)\n",
            "Requirement already satisfied: pyasn1-modules>=0.2.1 in /usr/local/lib/python3.7/dist-packages (from google-auth<3,>=1.6.3->tensorboard->keras-tuner) (0.2.8)\n",
            "Requirement already satisfied: cachetools<5.0,>=2.0.0 in /usr/local/lib/python3.7/dist-packages (from google-auth<3,>=1.6.3->tensorboard->keras-tuner) (4.2.4)\n",
            "Requirement already satisfied: requests-oauthlib>=0.7.0 in /usr/local/lib/python3.7/dist-packages (from google-auth-oauthlib<0.5,>=0.4.1->tensorboard->keras-tuner) (1.3.1)\n",
            "Requirement already satisfied: importlib-metadata>=4.4 in /usr/local/lib/python3.7/dist-packages (from markdown>=2.6.8->tensorboard->keras-tuner) (4.11.1)\n",
            "Requirement already satisfied: zipp>=0.5 in /usr/local/lib/python3.7/dist-packages (from importlib-metadata>=4.4->markdown>=2.6.8->tensorboard->keras-tuner) (3.7.0)\n",
            "Requirement already satisfied: typing-extensions>=3.6.4 in /usr/local/lib/python3.7/dist-packages (from importlib-metadata>=4.4->markdown>=2.6.8->tensorboard->keras-tuner) (3.10.0.2)\n",
            "Requirement already satisfied: pyasn1<0.5.0,>=0.4.6 in /usr/local/lib/python3.7/dist-packages (from pyasn1-modules>=0.2.1->google-auth<3,>=1.6.3->tensorboard->keras-tuner) (0.4.8)\n",
            "Requirement already satisfied: oauthlib>=3.0.0 in /usr/local/lib/python3.7/dist-packages (from requests-oauthlib>=0.7.0->google-auth-oauthlib<0.5,>=0.4.1->tensorboard->keras-tuner) (3.2.0)\n"
          ]
        }
      ],
      "source": [
        "#필요한 패키지 import\n",
        "\n",
        "from tensorflow import keras\n",
        "from tensorflow.keras.layers import Dense, Flatten, Dropout\n",
        "\n",
        "import tensorflow as tf\n",
        "import IPython\n",
        "\n",
        "#keras Tuner 설치\n",
        "\n",
        "!pip install -U keras-tuner\n",
        "import kerastuner as kt"
      ]
    },
    {
      "cell_type": "code",
      "source": [
        "#데이터셋 불러오기\n",
        "\n",
        "(X_train, y_train), (X_test, y_test) = keras.datasets.fashion_mnist.load_data()\n",
        "\n",
        "#데이터 정규화\n",
        "\n",
        "X_train = X_train.astype('float32') / 255.0\n",
        "X_test = X_test.astype('float32') / 255.0"
      ],
      "metadata": {
        "id": "C-zlxyWCjwGP"
      },
      "execution_count": null,
      "outputs": []
    },
    {
      "cell_type": "code",
      "source": [
        "#모델 제작\n",
        "def model_builder(hp):\n",
        "    model = keras.Sequential()\n",
        "    model.add(Flatten(input_shape=(28,28))) #입력층\n",
        "\n",
        "    hp_units = hp.Int('units', min_value = 32, max_value = 512, step = 32)\n",
        "    model.add(Dense(units= hp_units, activation = 'relu'))\n",
        "    model.add(Dense(10, activation = 'softmax'))\n",
        "\n",
        "    hp_learning_rate = hp.Choice('learning_rate', values = [1e-2, 1e-3, 1e-4])\n",
        "\n",
        "    model.compile(optimizer = keras.optimizers.Adam(learning_rate = hp_learning_rate),\n",
        "                  loss = keras.losses.SparseCategoricalCrossentropy(from_logits=True),\n",
        "                  metrics = ['accuracy'])\n",
        "    \n",
        "    return model\n",
        "\n",
        "#튜너 제작\n",
        "\n",
        "tuner = kt.Hyperband(model_builder,\n",
        "                     objective = 'val_accuracy',\n",
        "                     max_epochs =  10,\n",
        "                     factor = 3,\n",
        "                     directory = 'my_dir',\n",
        "                     project_name = 'intro_to_kt')\n",
        "\n",
        "#callback 함수 지정\n",
        "\n",
        "class ClearTrainingOutput(tf.keras.callbacks.Callback):\n",
        "    def on_train_end(*args, **kwargs):\n",
        "        IPython.display.clear_output(wait=True)"
      ],
      "metadata": {
        "colab": {
          "base_uri": "https://localhost:8080/"
        },
        "id": "O8KsugogkRsj",
        "outputId": "b1d8500e-25f6-458d-907a-b9563547aa34"
      },
      "execution_count": 10,
      "outputs": [
        {
          "output_type": "stream",
          "name": "stdout",
          "text": [
            "INFO:tensorflow:Reloading Oracle from existing project my_dir/intro_to_kt/oracle.json\n"
          ]
        }
      ]
    },
    {
      "cell_type": "code",
      "source": [
        "#하이퍼파라미터 탐색\n",
        "\n",
        "tuner.search(X_train, y_train, epochs = 10, validation_data = (X_test, y_test), callbacks = [ClearTrainingOutput()])\n"
      ],
      "metadata": {
        "colab": {
          "base_uri": "https://localhost:8080/"
        },
        "id": "vKLeeOVNl2ZP",
        "outputId": "dda8c840-0680-4aa6-e87e-10208e2aa3a7"
      },
      "execution_count": 11,
      "outputs": [
        {
          "output_type": "stream",
          "name": "stdout",
          "text": [
            "Trial 31 Complete [00h 00m 43s]\n",
            "val_accuracy: 0.8499000072479248\n",
            "\n",
            "Best val_accuracy So Far: 0.8881999850273132\n",
            "Total elapsed time: 00h 15m 40s\n",
            "INFO:tensorflow:Oracle triggered exit\n"
          ]
        }
      ]
    },
    {
      "cell_type": "code",
      "source": [
        "#모델 평가\n",
        "\n",
        "best_hps = tuner.get_best_hyperparameters(num_trials=1)[0]\n",
        "\n",
        "print(f\"\"\"\n",
        "하이퍼 파라미터 검색이 완료되었습니다. \n",
        "최적화된 첫 번째 Dense 노드 수는 {best_hps.get('units')} 입니다.\n",
        "최적의 학습 속도는 {best_hps.get('learning_rate')} 입니다.\n",
        "\"\"\")"
      ],
      "metadata": {
        "colab": {
          "base_uri": "https://localhost:8080/"
        },
        "id": "N4zHr5rcoVXY",
        "outputId": "ec44de20-1427-40b2-f7e9-c67e144e5755"
      },
      "execution_count": 12,
      "outputs": [
        {
          "output_type": "stream",
          "name": "stdout",
          "text": [
            "\n",
            "하이퍼 파라미터 검색이 완료되었습니다. \n",
            "최적화된 첫 번째 Dense 노드 수는 320 입니다.\n",
            "최적의 학습 속도는 0.001 입니다.\n",
            "\n"
          ]
        }
      ]
    },
    {
      "cell_type": "markdown",
      "source": [
        "## RandomSearchCV"
      ],
      "metadata": {
        "id": "eO5E28QRuThE"
      }
    },
    {
      "cell_type": "code",
      "source": [
        "#모델 제작\n",
        "def model_builder(hp):\n",
        "    model = keras.Sequential()\n",
        "    model.add(Flatten(input_shape=(28,28))) #입력층\n",
        "\n",
        "    hp_units = hp.Int('units', min_value = 32, max_value = 512, step = 32)\n",
        "    model.add(Dense(units= hp_units, activation = 'relu'))\n",
        "    hp_dropout = hp.Float('dropout', 0, 0.5, step=0.1)\n",
        "    Dropout(rate=hp_dropout)\n",
        "    \n",
        "    model.add(Dense(10, activation = 'softmax'))\n",
        "\n",
        "    hp_learning_rate = hp.Choice('learning_rate', values = [1e-2, 1e-3, 1e-4])\n",
        "\n",
        "    model.compile(optimizer = keras.optimizers.Adam(learning_rate = hp_learning_rate),\n",
        "                  loss = keras.losses.SparseCategoricalCrossentropy(from_logits=True),\n",
        "                  metrics = ['accuracy'])\n",
        "    \n",
        "    return model\n",
        "\n",
        "#튜너 제작\n",
        "\n",
        "tuner = kt.RandomSearch(model_builder,\n",
        "                     objective = 'val_accuracy',\n",
        "                     max_trials =  10,\n",
        "                     directory = 'my_dir_2',\n",
        "                     project_name = 'intro_to_kt_2')\n",
        "\n",
        "#callback 함수 지정\n",
        "\n",
        "class ClearTrainingOutput(tf.keras.callbacks.Callback):\n",
        "    def on_train_end(*args, **kwargs):\n",
        "        IPython.display.clear_output(wait=True)"
      ],
      "metadata": {
        "id": "ze-yki04uSl1"
      },
      "execution_count": 16,
      "outputs": []
    },
    {
      "cell_type": "code",
      "source": [
        "#하이퍼파라미터 탐색\n",
        "\n",
        "tuner.search(X_train, y_train, epochs = 10, validation_data = (X_test, y_test), callbacks = [ClearTrainingOutput()])"
      ],
      "metadata": {
        "colab": {
          "base_uri": "https://localhost:8080/"
        },
        "id": "UzUo8if2waoX",
        "outputId": "6fc27df5-1950-4b27-c8b2-bd453969bf26"
      },
      "execution_count": 18,
      "outputs": [
        {
          "output_type": "stream",
          "name": "stdout",
          "text": [
            "Trial 10 Complete [00h 01m 05s]\n",
            "val_accuracy: 0.8824999928474426\n",
            "\n",
            "Best val_accuracy So Far: 0.888700008392334\n",
            "Total elapsed time: 00h 12m 31s\n",
            "INFO:tensorflow:Oracle triggered exit\n"
          ]
        }
      ]
    },
    {
      "cell_type": "code",
      "source": [
        "best_hps = tuner.get_best_hyperparameters(num_trials=1)[0]\n",
        "\n",
        "print(f\"\"\"\n",
        "하이퍼 파라미터 검색이 완료되었습니다. \n",
        "최적화된 첫 번째 Dense 노드 수는 {best_hps.get('units')} 입니다.\n",
        "최적의 학습 속도는 {best_hps.get('learning_rate')} 입니다.\n",
        "최적의 드롭 아웃은 {best_hps.get('dropout')}\n",
        "\"\"\")"
      ],
      "metadata": {
        "colab": {
          "base_uri": "https://localhost:8080/"
        },
        "id": "-x_jysQSwQBK",
        "outputId": "b5e6c503-e3e6-478b-aade-87987cfa823d"
      },
      "execution_count": 20,
      "outputs": [
        {
          "output_type": "stream",
          "name": "stdout",
          "text": [
            "\n",
            "하이퍼 파라미터 검색이 완료되었습니다. \n",
            "최적화된 첫 번째 Dense 노드 수는 320 입니다.\n",
            "최적의 학습 속도는 0.001 입니다.\n",
            "최적의 드롭 아웃은 0.1\n",
            "\n"
          ]
        }
      ]
    },
    {
      "cell_type": "code",
      "source": [
        "#최고 성능으로 모델 다시 만들기\n",
        "\n",
        "model = tuner.hypermodel.build(best_hps)\n",
        "\n",
        "model.summary()"
      ],
      "metadata": {
        "colab": {
          "base_uri": "https://localhost:8080/"
        },
        "id": "OJUus5TxzeD_",
        "outputId": "8a832de9-f40e-4cb7-a9e9-b1e3d1ec5e67"
      },
      "execution_count": 39,
      "outputs": [
        {
          "output_type": "stream",
          "name": "stdout",
          "text": [
            "Model: \"sequential_3\"\n",
            "_________________________________________________________________\n",
            " Layer (type)                Output Shape              Param #   \n",
            "=================================================================\n",
            " flatten_3 (Flatten)         (None, 784)               0         \n",
            "                                                                 \n",
            " dense_6 (Dense)             (None, 320)               251200    \n",
            "                                                                 \n",
            " dense_7 (Dense)             (None, 10)                3210      \n",
            "                                                                 \n",
            "=================================================================\n",
            "Total params: 254,410\n",
            "Trainable params: 254,410\n",
            "Non-trainable params: 0\n",
            "_________________________________________________________________\n"
          ]
        }
      ]
    },
    {
      "cell_type": "code",
      "source": [
        "#early stop 적용하지 않고 최적 하이퍼파라미터로 모델학습하기\n",
        "\n",
        "model.fit(X_train, y_train, epochs = 10, validation_data = (X_test, y_test))"
      ],
      "metadata": {
        "colab": {
          "base_uri": "https://localhost:8080/"
        },
        "id": "hrYJurDpzxge",
        "outputId": "e7ec425e-826f-45e2-f434-768a70906d94"
      },
      "execution_count": 41,
      "outputs": [
        {
          "output_type": "stream",
          "name": "stdout",
          "text": [
            "Epoch 1/10\n"
          ]
        },
        {
          "output_type": "stream",
          "name": "stderr",
          "text": [
            "/usr/local/lib/python3.7/dist-packages/tensorflow/python/util/dispatch.py:1082: UserWarning: \"`sparse_categorical_crossentropy` received `from_logits=True`, but the `output` argument was produced by a sigmoid or softmax activation and thus does not represent logits. Was this intended?\"\n",
            "  return dispatch_target(*args, **kwargs)\n"
          ]
        },
        {
          "output_type": "stream",
          "name": "stdout",
          "text": [
            "1875/1875 [==============================] - 9s 4ms/step - loss: 0.4826 - accuracy: 0.8289 - val_loss: 0.4098 - val_accuracy: 0.8486\n",
            "Epoch 2/10\n",
            "1875/1875 [==============================] - 8s 4ms/step - loss: 0.3615 - accuracy: 0.8684 - val_loss: 0.3821 - val_accuracy: 0.8650\n",
            "Epoch 3/10\n",
            "1875/1875 [==============================] - 8s 4ms/step - loss: 0.3243 - accuracy: 0.8797 - val_loss: 0.3730 - val_accuracy: 0.8646\n",
            "Epoch 4/10\n",
            "1875/1875 [==============================] - 8s 4ms/step - loss: 0.3013 - accuracy: 0.8887 - val_loss: 0.3379 - val_accuracy: 0.8779\n",
            "Epoch 5/10\n",
            "1875/1875 [==============================] - 9s 5ms/step - loss: 0.2807 - accuracy: 0.8953 - val_loss: 0.3558 - val_accuracy: 0.8706\n",
            "Epoch 6/10\n",
            "1875/1875 [==============================] - 9s 5ms/step - loss: 0.2659 - accuracy: 0.8995 - val_loss: 0.3469 - val_accuracy: 0.8772\n",
            "Epoch 7/10\n",
            "1875/1875 [==============================] - 7s 4ms/step - loss: 0.2542 - accuracy: 0.9041 - val_loss: 0.3488 - val_accuracy: 0.8812\n",
            "Epoch 8/10\n",
            "1875/1875 [==============================] - 8s 4ms/step - loss: 0.2425 - accuracy: 0.9086 - val_loss: 0.3283 - val_accuracy: 0.8829\n",
            "Epoch 9/10\n",
            "1875/1875 [==============================] - 7s 4ms/step - loss: 0.2328 - accuracy: 0.9130 - val_loss: 0.3164 - val_accuracy: 0.8895\n",
            "Epoch 10/10\n",
            "1875/1875 [==============================] - 8s 4ms/step - loss: 0.2212 - accuracy: 0.9166 - val_loss: 0.3335 - val_accuracy: 0.8896\n"
          ]
        },
        {
          "output_type": "execute_result",
          "data": {
            "text/plain": [
              "<keras.callbacks.History at 0x7f8d2feddd90>"
            ]
          },
          "metadata": {},
          "execution_count": 41
        }
      ]
    },
    {
      "cell_type": "code",
      "source": [
        "#학습 평가\n",
        "\n",
        "model.evaluate(x=X_test, y=y_test, verbose=1)"
      ],
      "metadata": {
        "colab": {
          "base_uri": "https://localhost:8080/"
        },
        "id": "JmFPx5Di0QUO",
        "outputId": "10ce8de3-631e-4a6e-b4fa-3c6bf8f71564"
      },
      "execution_count": 43,
      "outputs": [
        {
          "output_type": "stream",
          "name": "stdout",
          "text": [
            "313/313 [==============================] - 1s 2ms/step - loss: 0.3335 - accuracy: 0.8896\n"
          ]
        },
        {
          "output_type": "execute_result",
          "data": {
            "text/plain": [
              "[0.3334753215312958, 0.8895999789237976]"
            ]
          },
          "metadata": {},
          "execution_count": 43
        }
      ]
    },
    {
      "cell_type": "code",
      "source": [
        "#early stop 저장 경로\n",
        "\n",
        "checkpoint_filepath = \"FMbest.hdf5\""
      ],
      "metadata": {
        "id": "TEX6JL7v0THW"
      },
      "execution_count": 44,
      "outputs": []
    },
    {
      "cell_type": "code",
      "source": [
        "#early stop 설정1 : 변화 없을 시 최대 갱신 횟수\n",
        "\n",
        "early_stop = keras.callbacks.EarlyStopping(monitor='val_loss', min_delta=0, patience=10, verbose=1)\n",
        "\n",
        "#early stop 설정1 : 저장 단위(에포크), 저장 값(가중치), best만 저장\n",
        "\n",
        "save_best = tf.keras.callbacks.ModelCheckpoint(\n",
        "    filepath=checkpoint_filepath, monitor='val_loss', verbose=1, save_best_only=True,\n",
        "    save_weights_only=True, mode='auto', save_freq='epoch', options=None)"
      ],
      "metadata": {
        "id": "Ur9v6ODj2ZGY"
      },
      "execution_count": 45,
      "outputs": []
    },
    {
      "cell_type": "code",
      "source": [
        "#early stop 적용하여 모델 학습 진행하기\n",
        "\n",
        "model.fit(X_train, y_train, epochs = 10, validation_data = (X_test, y_test), callbacks=[early_stop, save_best])"
      ],
      "metadata": {
        "colab": {
          "base_uri": "https://localhost:8080/"
        },
        "id": "wfc9Q7pI2j4S",
        "outputId": "b5d8f059-31b1-4767-cd9e-c64f35818278"
      },
      "execution_count": 46,
      "outputs": [
        {
          "output_type": "stream",
          "name": "stdout",
          "text": [
            "Epoch 1/10\n",
            "1869/1875 [============================>.] - ETA: 0s - loss: 0.2159 - accuracy: 0.9184\n",
            "Epoch 1: val_loss improved from inf to 0.33566, saving model to FMbest.hdf5\n",
            "1875/1875 [==============================] - 8s 4ms/step - loss: 0.2159 - accuracy: 0.9184 - val_loss: 0.3357 - val_accuracy: 0.8866\n",
            "Epoch 2/10\n",
            "1874/1875 [============================>.] - ETA: 0s - loss: 0.2072 - accuracy: 0.9226\n",
            "Epoch 2: val_loss did not improve from 0.33566\n",
            "1875/1875 [==============================] - 8s 4ms/step - loss: 0.2072 - accuracy: 0.9226 - val_loss: 0.3524 - val_accuracy: 0.8832\n",
            "Epoch 3/10\n",
            "1863/1875 [============================>.] - ETA: 0s - loss: 0.2003 - accuracy: 0.9244\n",
            "Epoch 3: val_loss did not improve from 0.33566\n",
            "1875/1875 [==============================] - 8s 4ms/step - loss: 0.2001 - accuracy: 0.9244 - val_loss: 0.3682 - val_accuracy: 0.8781\n",
            "Epoch 4/10\n",
            "1865/1875 [============================>.] - ETA: 0s - loss: 0.1938 - accuracy: 0.9272\n",
            "Epoch 4: val_loss did not improve from 0.33566\n",
            "1875/1875 [==============================] - 8s 4ms/step - loss: 0.1942 - accuracy: 0.9270 - val_loss: 0.3514 - val_accuracy: 0.8800\n",
            "Epoch 5/10\n",
            "1868/1875 [============================>.] - ETA: 0s - loss: 0.1854 - accuracy: 0.9303\n",
            "Epoch 5: val_loss did not improve from 0.33566\n",
            "1875/1875 [==============================] - 8s 4ms/step - loss: 0.1852 - accuracy: 0.9304 - val_loss: 0.3386 - val_accuracy: 0.8927\n",
            "Epoch 6/10\n",
            "1875/1875 [==============================] - ETA: 0s - loss: 0.1811 - accuracy: 0.9315\n",
            "Epoch 6: val_loss did not improve from 0.33566\n",
            "1875/1875 [==============================] - 8s 4ms/step - loss: 0.1811 - accuracy: 0.9315 - val_loss: 0.3530 - val_accuracy: 0.8903\n",
            "Epoch 7/10\n",
            "1865/1875 [============================>.] - ETA: 0s - loss: 0.1756 - accuracy: 0.9341\n",
            "Epoch 7: val_loss did not improve from 0.33566\n",
            "1875/1875 [==============================] - 8s 4ms/step - loss: 0.1755 - accuracy: 0.9341 - val_loss: 0.3415 - val_accuracy: 0.8939\n",
            "Epoch 8/10\n",
            "1874/1875 [============================>.] - ETA: 0s - loss: 0.1707 - accuracy: 0.9355\n",
            "Epoch 8: val_loss did not improve from 0.33566\n",
            "1875/1875 [==============================] - 8s 4ms/step - loss: 0.1707 - accuracy: 0.9355 - val_loss: 0.3589 - val_accuracy: 0.8880\n",
            "Epoch 9/10\n",
            "1869/1875 [============================>.] - ETA: 0s - loss: 0.1659 - accuracy: 0.9375\n",
            "Epoch 9: val_loss did not improve from 0.33566\n",
            "1875/1875 [==============================] - 8s 4ms/step - loss: 0.1660 - accuracy: 0.9373 - val_loss: 0.3581 - val_accuracy: 0.8942\n",
            "Epoch 10/10\n",
            "1868/1875 [============================>.] - ETA: 0s - loss: 0.1601 - accuracy: 0.9397\n",
            "Epoch 10: val_loss did not improve from 0.33566\n",
            "1875/1875 [==============================] - 8s 4ms/step - loss: 0.1601 - accuracy: 0.9397 - val_loss: 0.3629 - val_accuracy: 0.8901\n"
          ]
        },
        {
          "output_type": "execute_result",
          "data": {
            "text/plain": [
              "<keras.callbacks.History at 0x7f8d30aef310>"
            ]
          },
          "metadata": {},
          "execution_count": 46
        }
      ]
    },
    {
      "cell_type": "code",
      "source": [
        "#callback으로 최고 성능 모델 부르기\n",
        "\n",
        "model.load_weights(checkpoint_filepath)"
      ],
      "metadata": {
        "id": "Ocd5-IyA4Qz_"
      },
      "execution_count": 48,
      "outputs": []
    },
    {
      "cell_type": "code",
      "source": [
        "#모델 예측하기\n",
        "\n",
        "model.predict(X_test[0:1])"
      ],
      "metadata": {
        "colab": {
          "base_uri": "https://localhost:8080/"
        },
        "id": "26fQOsYS4W9t",
        "outputId": "6e903e45-1736-4aa4-dc72-f9222788b6a2"
      },
      "execution_count": 49,
      "outputs": [
        {
          "output_type": "execute_result",
          "data": {
            "text/plain": [
              "array([[1.0479223e-10, 1.0205348e-12, 4.8267952e-12, 1.1370999e-12,\n",
              "        8.5509676e-11, 3.9878526e-07, 6.2837392e-12, 1.5809326e-03,\n",
              "        4.9421972e-10, 9.9841869e-01]], dtype=float32)"
            ]
          },
          "metadata": {},
          "execution_count": 49
        }
      ]
    },
    {
      "cell_type": "code",
      "source": [
        "#학습 평가\n",
        "\n",
        "test_loss, test_acc = model.evaluate(X_test,  y_test, verbose=2)"
      ],
      "metadata": {
        "colab": {
          "base_uri": "https://localhost:8080/"
        },
        "id": "2hVT2oD_4w36",
        "outputId": "98d3d9fa-427b-44bb-94eb-ed6789bfe77a"
      },
      "execution_count": 50,
      "outputs": [
        {
          "output_type": "stream",
          "name": "stdout",
          "text": [
            "313/313 - 1s - loss: 0.3357 - accuracy: 0.8866 - 552ms/epoch - 2ms/step\n"
          ]
        }
      ]
    }
  ]
}